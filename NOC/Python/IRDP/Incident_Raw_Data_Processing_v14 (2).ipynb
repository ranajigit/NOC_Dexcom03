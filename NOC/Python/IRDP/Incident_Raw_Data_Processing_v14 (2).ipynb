{
 "cells": [
  {
   "cell_type": "markdown",
   "metadata": {},
   "source": [
    "## Importing the libraries"
   ]
  },
  {
   "cell_type": "code",
   "execution_count": 1,
   "metadata": {},
   "outputs": [],
   "source": [
    "import numpy as np\n",
    "import matplotlib.pyplot as plt\n",
    "import pandas as pd\n",
    "import calendar\n",
    "import warnings\n",
    "import datetime\n",
    "import re\n",
    "import sys\n",
    "import seaborn as sns\n",
    "from datetime import date\n",
    "from matplotlib.colors import LinearSegmentedColormap\n",
    "warnings.filterwarnings('ignore')"
   ]
  },
  {
   "cell_type": "code",
   "execution_count": 2,
   "metadata": {},
   "outputs": [
    {
     "name": "stdout",
     "output_type": "stream",
     "text": [
      "Provide Start Date in format (YYYY-MM-DD):2023-03-01\n",
      "Provide End Date in format (YYYY-MM-DD):2023-03-20\n"
     ]
    }
   ],
   "source": [
    "## Provide Start Date and End Date for the Data Processing\n",
    "## Note : Start Date should be less than the end date\n",
    "Start_D = input('Provide Start Date in format (YYYY-MM-DD):')\n",
    "End_D = input('Provide End Date in format (YYYY-MM-DD):')"
   ]
  },
  {
   "cell_type": "code",
   "execution_count": 3,
   "metadata": {},
   "outputs": [
    {
     "name": "stdout",
     "output_type": "stream",
     "text": [
      "Select the option --> UDP or CLARITY or CAMS or UDP2 or API or DEVOPS or DAP or INQUISITO or PKI\n",
      "Product:\n"
     ]
    }
   ],
   "source": [
    "#Select the Product/Service for which you want to observe the data\n",
    "#Option\n",
    "print(\"Select the option --> UDP or CLARITY or CAMS or UDP2 or API or DEVOPS or DAP or INQUISITO or PKI\")\n",
    "prod = input('Product:')"
   ]
  },
  {
   "cell_type": "code",
   "execution_count": 4,
   "metadata": {},
   "outputs": [
    {
     "name": "stdout",
     "output_type": "stream",
     "text": [
      "Select the option --> Year(YYYY) in range between 2021-2029\n",
      "Year(YYYY): 2023\n",
      "Select the option --> Year(YYYY) in range between 2021-2029\n",
      "Year(YYYY): 2023\n"
     ]
    }
   ],
   "source": [
    "#Select the Year for which you want to observe the data\n",
    "#Option\n",
    "print(\"Select the option --> Year(YYYY) in range between 2021-2029\")\n",
    "while True:\n",
    "    try:\n",
    "        year_2022 = input('Year(YYYY): ')\n",
    "        if not re.match(\"^202[1-9]$\", year_2022):\n",
    "            raise ValueError   \n",
    "        break\n",
    "    except ValueError:\n",
    "            print('Error! Only provide in Year Format yyyy in range between 2021-2029')\n",
    "\n",
    "print(\"Select the option --> Year(YYYY) in range between 2021-2029\")\n",
    "while True:\n",
    "    try:\n",
    "        year_2023 = input('Year(YYYY): ')\n",
    "        if not re.match(\"^202[1-9]$\", year_2023):\n",
    "            raise ValueError   \n",
    "        break\n",
    "    except ValueError:\n",
    "            print('Error! Only provide in Year Format yyyy in range between 2021-2029')"
   ]
  },
  {
   "cell_type": "code",
   "execution_count": 5,
   "metadata": {},
   "outputs": [
    {
     "name": "stdout",
     "output_type": "stream",
     "text": [
      "Enter number of Months in Integer (1 or 2): 1\n",
      "Month in format Mmm\n",
      "For example January as Jan\n",
      "Month-1 in format Mmm: Mar\n",
      "['Mar']\n"
     ]
    }
   ],
   "source": [
    "# creating an empty list\n",
    "month_2022 = []\n",
    "months = ['Jan','Feb','Mar','Apr','May','Jun','Jul','Aug','Sep','Oct','Nov','Dec']\n",
    "\n",
    "while True:\n",
    "    try:\n",
    "        n = int(input(\"Enter number of Months in Integer (1 or 2): \"))\n",
    "        if n < 1 or n > 2:\n",
    "            raise ValueError #this will send it to the print message and back to the input option\n",
    "        break\n",
    "    except ValueError:\n",
    "        print('Please enter an integer 1 or 2')\n",
    "        \n",
    "# iterating till the range\n",
    "print(\"Month in format Mmm\")\n",
    "print(\"For example January as Jan\")\n",
    "for i in range(0, n):\n",
    "    while True:\n",
    "        try:\n",
    "            ele = input(\"Month-{} in format Mmm: \".format(i+1))\n",
    "            #if not re.match(\"^[A-Z][a-z][a-z]$\", ele):\n",
    "            #    raise ValueError\n",
    "            if ele not in months:\n",
    "                raise ValueError\n",
    "            break\n",
    "        except ValueError:\n",
    "            print('Error! Only provide in Month Format Mmm!')\n",
    "    month_2022.append(ele) # adding the element\n",
    "print(month_2022)"
   ]
  },
  {
   "cell_type": "code",
   "execution_count": 6,
   "metadata": {},
   "outputs": [
    {
     "name": "stdout",
     "output_type": "stream",
     "text": [
      "Enter number of Months in Integer (1 or 2): 1\n",
      "Month in format Mmm\n",
      "For example January as Jan\n",
      "Month-1 in format Mmm: Mar\n",
      "['Mar']\n"
     ]
    }
   ],
   "source": [
    "month_2023 = []\n",
    "months = ['Jan','Feb','Mar','Apr','May','Jun','Jul','Aug','Sep','Oct','Nov','Dec']\n",
    "\n",
    "while True:\n",
    "    try:\n",
    "        n = int(input(\"Enter number of Months in Integer (1 or 2): \"))\n",
    "        if n < 1 or n > 2:\n",
    "            raise ValueError #this will send it to the print message and back to the input option\n",
    "        break\n",
    "    except ValueError:\n",
    "        print('Please enter an integer 1 or 2')\n",
    "        \n",
    "# iterating till the range\n",
    "print(\"Month in format Mmm\")\n",
    "print(\"For example January as Jan\")\n",
    "for i in range(0, n):\n",
    "    while True:\n",
    "        try:\n",
    "            ele = input(\"Month-{} in format Mmm: \".format(i+1))\n",
    "            #if not re.match(\"^[A-Z][a-z][a-z]$\", ele):\n",
    "            #    raise ValueError\n",
    "            if ele not in months:\n",
    "                raise ValueError\n",
    "            break\n",
    "        except ValueError:\n",
    "            print('Error! Only provide in Month Format Mmm!')\n",
    "    month_2023.append(ele) # adding the element\n",
    "print(month_2023)"
   ]
  },
  {
   "cell_type": "markdown",
   "metadata": {},
   "source": [
    "## Combining Similar Sheets from Multiple Excel Files Together "
   ]
  },
  {
   "cell_type": "markdown",
   "metadata": {},
   "source": [
    "## 1. List down all the Excel files"
   ]
  },
  {
   "cell_type": "code",
   "execution_count": 7,
   "metadata": {},
   "outputs": [
    {
     "name": "stdout",
     "output_type": "stream",
     "text": [
      "File List:\n",
      "Weekly-Monthly-KPI-Mar-2023.xlsx\n"
     ]
    }
   ],
   "source": [
    "file_list_2022 = []\n",
    "\n",
    "for i in range(len(month_2022)):\n",
    "    file_list_2022.append(\"Weekly-Monthly-KPI-{}-{}.xlsx\".format(month_2022[i],year_2022))\n",
    "print(\"File List:\")\n",
    "for j in range(len(file_list_2022)):\n",
    "    print(file_list_2022[j])"
   ]
  },
  {
   "cell_type": "code",
   "execution_count": 8,
   "metadata": {},
   "outputs": [
    {
     "name": "stdout",
     "output_type": "stream",
     "text": [
      "File List:\n",
      "Weekly-Monthly-KPI-Mar-2023.xlsx\n"
     ]
    }
   ],
   "source": [
    "file_list_2023 = []\n",
    "\n",
    "for i in range(len(month_2023)):\n",
    "    file_list_2023.append(\"Weekly-Monthly-KPI-{}-{}.xlsx\".format(month_2023[i],year_2023))\n",
    "print(\"File List:\")\n",
    "for j in range(len(file_list_2023)):\n",
    "    print(file_list_2023[j])"
   ]
  },
  {
   "cell_type": "code",
   "execution_count": 9,
   "metadata": {},
   "outputs": [
    {
     "data": {
      "text/plain": [
       "['Weekly-Monthly-KPI-Mar-2023.xlsx', 'Weekly-Monthly-KPI-Mar-2023.xlsx']"
      ]
     },
     "execution_count": 9,
     "metadata": {},
     "output_type": "execute_result"
    }
   ],
   "source": [
    "file_list = file_list_2022 + file_list_2023\n",
    "file_list"
   ]
  },
  {
   "cell_type": "markdown",
   "metadata": {},
   "source": [
    "## 2. Import specific sheets from all the excels files and consolidate them into one"
   ]
  },
  {
   "cell_type": "code",
   "execution_count": 10,
   "metadata": {},
   "outputs": [
    {
     "data": {
      "text/html": [
       "<div>\n",
       "<style scoped>\n",
       "    .dataframe tbody tr th:only-of-type {\n",
       "        vertical-align: middle;\n",
       "    }\n",
       "\n",
       "    .dataframe tbody tr th {\n",
       "        vertical-align: top;\n",
       "    }\n",
       "\n",
       "    .dataframe thead th {\n",
       "        text-align: right;\n",
       "    }\n",
       "</style>\n",
       "<table border=\"1\" class=\"dataframe\">\n",
       "  <thead>\n",
       "    <tr style=\"text-align: right;\">\n",
       "      <th></th>\n",
       "      <th>Jira Ticket</th>\n",
       "      <th>BigPanda Incident Link</th>\n",
       "      <th>Description</th>\n",
       "      <th>Service</th>\n",
       "      <th>Location</th>\n",
       "      <th>Priority</th>\n",
       "      <th>Customer Impacted</th>\n",
       "      <th>Opened On</th>\n",
       "      <th>Incident End</th>\n",
       "      <th>First Assignment</th>\n",
       "      <th>...</th>\n",
       "      <th>Mean time to Reslove (MTTR)</th>\n",
       "      <th>Resolved By User</th>\n",
       "      <th>No Action Required</th>\n",
       "      <th>Resolved by NOC Engineer</th>\n",
       "      <th>Escalated to SME</th>\n",
       "      <th>TSG</th>\n",
       "      <th>RCA</th>\n",
       "      <th>Total Alerts</th>\n",
       "      <th>Incident Start time</th>\n",
       "      <th>Escalated Time</th>\n",
       "    </tr>\n",
       "  </thead>\n",
       "  <tbody>\n",
       "    <tr>\n",
       "      <th>0</th>\n",
       "      <td>INC-3405</td>\n",
       "      <td>PagerDuty</td>\n",
       "      <td>Clarity Prod JP: CRITICAL - P4 - 0.5% Subjects...</td>\n",
       "      <td>Clarity</td>\n",
       "      <td>JP</td>\n",
       "      <td>P4</td>\n",
       "      <td>1 user(0.64% impacted)</td>\n",
       "      <td>2023-03-01 02:10:00</td>\n",
       "      <td>2023-03-01 03:28:00</td>\n",
       "      <td>2023-03-01 02:10:00</td>\n",
       "      <td>...</td>\n",
       "      <td>78.0</td>\n",
       "      <td>Sutheshna Raman</td>\n",
       "      <td>Yes</td>\n",
       "      <td>No</td>\n",
       "      <td>No</td>\n",
       "      <td>Yes</td>\n",
       "      <td>It was a blip</td>\n",
       "      <td>1</td>\n",
       "      <td>2023-03-01 02:09:00</td>\n",
       "      <td>NaN</td>\n",
       "    </tr>\n",
       "    <tr>\n",
       "      <th>1</th>\n",
       "      <td>INC-3407</td>\n",
       "      <td>PagerDuty</td>\n",
       "      <td>Clarity Prod JP: CRITICAL - P4 - 0.5% Subjects...</td>\n",
       "      <td>Clarity</td>\n",
       "      <td>US</td>\n",
       "      <td>P4</td>\n",
       "      <td>36 users (0.50% Impacted)</td>\n",
       "      <td>2023-03-01 04:51:00</td>\n",
       "      <td>2023-03-01 07:37:00</td>\n",
       "      <td>2023-03-01 04:51:00</td>\n",
       "      <td>...</td>\n",
       "      <td>166.0</td>\n",
       "      <td>Varsha Rana</td>\n",
       "      <td>Yes</td>\n",
       "      <td>No</td>\n",
       "      <td>No</td>\n",
       "      <td>Yes</td>\n",
       "      <td>It was a blip</td>\n",
       "      <td>1</td>\n",
       "      <td>2023-03-01 04:50:00</td>\n",
       "      <td>NaN</td>\n",
       "    </tr>\n",
       "    <tr>\n",
       "      <th>2</th>\n",
       "      <td>INC-3408</td>\n",
       "      <td>PagerDuty</td>\n",
       "      <td>UDP2 Prod US: Cloudflare 403 Count Above Thre...</td>\n",
       "      <td>UDP2</td>\n",
       "      <td>US</td>\n",
       "      <td>P4</td>\n",
       "      <td>No Customer Impact</td>\n",
       "      <td>2023-03-01 04:41:00</td>\n",
       "      <td>2023-03-01 05:25:00</td>\n",
       "      <td>2023-03-01 04:41:00</td>\n",
       "      <td>...</td>\n",
       "      <td>44.0</td>\n",
       "      <td>Bhavya Parikh</td>\n",
       "      <td>Yes</td>\n",
       "      <td>No</td>\n",
       "      <td>No</td>\n",
       "      <td>No</td>\n",
       "      <td>It was a blip</td>\n",
       "      <td>1</td>\n",
       "      <td>2023-03-01 04:40:00</td>\n",
       "      <td>NaN</td>\n",
       "    </tr>\n",
       "    <tr>\n",
       "      <th>3</th>\n",
       "      <td>INC-3416</td>\n",
       "      <td>PagerDuty</td>\n",
       "      <td>UDP2 Prod US: Critical - Follow - Follower-Eve...</td>\n",
       "      <td>UDP2</td>\n",
       "      <td>US</td>\n",
       "      <td>P4</td>\n",
       "      <td>No Customer Impact</td>\n",
       "      <td>2023-03-01 15:55:00</td>\n",
       "      <td>2023-03-01 20:40:00</td>\n",
       "      <td>2023-03-01 15:55:00</td>\n",
       "      <td>...</td>\n",
       "      <td>285.0</td>\n",
       "      <td>Atharva Jagdale</td>\n",
       "      <td>Yes</td>\n",
       "      <td>No</td>\n",
       "      <td>No</td>\n",
       "      <td>No</td>\n",
       "      <td>It was a blip</td>\n",
       "      <td>4</td>\n",
       "      <td>2023-03-01 15:54:00</td>\n",
       "      <td>NaN</td>\n",
       "    </tr>\n",
       "    <tr>\n",
       "      <th>4</th>\n",
       "      <td>INC-3417</td>\n",
       "      <td>PagerDuty</td>\n",
       "      <td>UDP2 Prod US: Critical - Realtime - Completed ...</td>\n",
       "      <td>UDP2</td>\n",
       "      <td>US</td>\n",
       "      <td>P4</td>\n",
       "      <td>No Customer Impact</td>\n",
       "      <td>2023-03-01 15:55:00</td>\n",
       "      <td>2023-03-01 19:01:00</td>\n",
       "      <td>2023-03-01 15:55:00</td>\n",
       "      <td>...</td>\n",
       "      <td>186.0</td>\n",
       "      <td>Atharva Jagdale</td>\n",
       "      <td>Yes</td>\n",
       "      <td>No</td>\n",
       "      <td>No</td>\n",
       "      <td>No</td>\n",
       "      <td>It was a blip</td>\n",
       "      <td>3</td>\n",
       "      <td>2023-03-01 15:54:00</td>\n",
       "      <td>NaN</td>\n",
       "    </tr>\n",
       "    <tr>\n",
       "      <th>...</th>\n",
       "      <td>...</td>\n",
       "      <td>...</td>\n",
       "      <td>...</td>\n",
       "      <td>...</td>\n",
       "      <td>...</td>\n",
       "      <td>...</td>\n",
       "      <td>...</td>\n",
       "      <td>...</td>\n",
       "      <td>...</td>\n",
       "      <td>...</td>\n",
       "      <td>...</td>\n",
       "      <td>...</td>\n",
       "      <td>...</td>\n",
       "      <td>...</td>\n",
       "      <td>...</td>\n",
       "      <td>...</td>\n",
       "      <td>...</td>\n",
       "      <td>...</td>\n",
       "      <td>...</td>\n",
       "      <td>...</td>\n",
       "      <td>...</td>\n",
       "    </tr>\n",
       "    <tr>\n",
       "      <th>120</th>\n",
       "      <td>INC-3563</td>\n",
       "      <td>[6413c2701ed3330014346095](https://a.bigpanda....</td>\n",
       "      <td>UDP2 Prod US: Critical - Services Overall - Se...</td>\n",
       "      <td>udp2</td>\n",
       "      <td>us</td>\n",
       "      <td>P4</td>\n",
       "      <td>No Customer Impact</td>\n",
       "      <td>2023-03-16 18:29:00</td>\n",
       "      <td>2023-03-16 18:32:00</td>\n",
       "      <td>2023-03-16 18:29:00</td>\n",
       "      <td>...</td>\n",
       "      <td>3.0</td>\n",
       "      <td>Pavan K</td>\n",
       "      <td>Yes</td>\n",
       "      <td>No</td>\n",
       "      <td>No</td>\n",
       "      <td>No</td>\n",
       "      <td>It was a blip</td>\n",
       "      <td>1</td>\n",
       "      <td>2023-03-16 18:29:00</td>\n",
       "      <td>NaN</td>\n",
       "    </tr>\n",
       "    <tr>\n",
       "      <th>121</th>\n",
       "      <td>INC-3564</td>\n",
       "      <td>[6413c68a5b000000015963c5](https://a.bigpanda....</td>\n",
       "      <td>[Recovered on {consumer_group:realtimemessagei...</td>\n",
       "      <td>udp2</td>\n",
       "      <td>us</td>\n",
       "      <td>P4</td>\n",
       "      <td>No Customer Impact</td>\n",
       "      <td>2023-03-16 18:33:00</td>\n",
       "      <td>2023-03-16 20:41:00</td>\n",
       "      <td>NaT</td>\n",
       "      <td>...</td>\n",
       "      <td>128.0</td>\n",
       "      <td>NaN</td>\n",
       "      <td>Yes</td>\n",
       "      <td>No</td>\n",
       "      <td>No</td>\n",
       "      <td>Yes</td>\n",
       "      <td>It was a blip</td>\n",
       "      <td>4</td>\n",
       "      <td>2023-03-16 18:33:00</td>\n",
       "      <td>NaN</td>\n",
       "    </tr>\n",
       "    <tr>\n",
       "      <th>122</th>\n",
       "      <td>INC-3565</td>\n",
       "      <td>[6413df56a7d61e0012ae86fe](https://a.bigpanda....</td>\n",
       "      <td>UDP2 Prod US: Critical - Push Notification - F...</td>\n",
       "      <td>udp2</td>\n",
       "      <td>us</td>\n",
       "      <td>P4</td>\n",
       "      <td>No Customer Impact</td>\n",
       "      <td>2023-03-16 20:32:00</td>\n",
       "      <td>2023-03-16 20:35:00</td>\n",
       "      <td>2023-03-16 20:33:00</td>\n",
       "      <td>...</td>\n",
       "      <td>3.0</td>\n",
       "      <td>Sathya A</td>\n",
       "      <td>Yes</td>\n",
       "      <td>No</td>\n",
       "      <td>No</td>\n",
       "      <td>No</td>\n",
       "      <td>It was a blip</td>\n",
       "      <td>2</td>\n",
       "      <td>2023-03-16 20:33:00</td>\n",
       "      <td>NaN</td>\n",
       "    </tr>\n",
       "    <tr>\n",
       "      <th>123</th>\n",
       "      <td>INC-3566</td>\n",
       "      <td>[6413f7fbd7d022001abb5756](https://a.bigpanda....</td>\n",
       "      <td>[Recovered on {consumer_group:realtimemessagei...</td>\n",
       "      <td>udp2</td>\n",
       "      <td>us</td>\n",
       "      <td>P4</td>\n",
       "      <td>No Customer Impact</td>\n",
       "      <td>2023-03-16 22:17:00</td>\n",
       "      <td>2023-03-16 23:44:00</td>\n",
       "      <td>2023-03-16 22:18:00</td>\n",
       "      <td>...</td>\n",
       "      <td>87.0</td>\n",
       "      <td>Sathya A</td>\n",
       "      <td>Yes</td>\n",
       "      <td>No</td>\n",
       "      <td>No</td>\n",
       "      <td>Yes</td>\n",
       "      <td>It was a blip</td>\n",
       "      <td>2</td>\n",
       "      <td>2023-03-16 22:18:00</td>\n",
       "      <td>NaN</td>\n",
       "    </tr>\n",
       "    <tr>\n",
       "      <th>124</th>\n",
       "      <td>INC-3567</td>\n",
       "      <td>[64140345926c36001354668f](https://a.bigpanda....</td>\n",
       "      <td>Clarity Prod EU: CRITICAL - P4 - 0.5% Subjects...</td>\n",
       "      <td>clarity</td>\n",
       "      <td>EU</td>\n",
       "      <td>P4</td>\n",
       "      <td>14 users(0.50% impacted)</td>\n",
       "      <td>2023-03-16 23:06:00</td>\n",
       "      <td>2023-03-16 23:55:00</td>\n",
       "      <td>2023-03-16 23:06:00</td>\n",
       "      <td>...</td>\n",
       "      <td>50.0</td>\n",
       "      <td>Sathya A</td>\n",
       "      <td>Yes</td>\n",
       "      <td>No</td>\n",
       "      <td>No</td>\n",
       "      <td>Yes</td>\n",
       "      <td>It was a blip</td>\n",
       "      <td>1</td>\n",
       "      <td>2023-03-16 23:06:00</td>\n",
       "      <td>NaN</td>\n",
       "    </tr>\n",
       "  </tbody>\n",
       "</table>\n",
       "<p>336 rows × 27 columns</p>\n",
       "</div>"
      ],
      "text/plain": [
       "    Jira Ticket                              BigPanda Incident Link  \\\n",
       "0       INC-3405                                          PagerDuty   \n",
       "1       INC-3407                                          PagerDuty   \n",
       "2       INC-3408                                          PagerDuty   \n",
       "3       INC-3416                                          PagerDuty   \n",
       "4       INC-3417                                          PagerDuty   \n",
       "..           ...                                                ...   \n",
       "120     INC-3563  [6413c2701ed3330014346095](https://a.bigpanda....   \n",
       "121     INC-3564  [6413c68a5b000000015963c5](https://a.bigpanda....   \n",
       "122     INC-3565  [6413df56a7d61e0012ae86fe](https://a.bigpanda....   \n",
       "123     INC-3566  [6413f7fbd7d022001abb5756](https://a.bigpanda....   \n",
       "124     INC-3567  [64140345926c36001354668f](https://a.bigpanda....   \n",
       "\n",
       "                                           Description  Service Location   \\\n",
       "0    Clarity Prod JP: CRITICAL - P4 - 0.5% Subjects...  Clarity        JP   \n",
       "1    Clarity Prod JP: CRITICAL - P4 - 0.5% Subjects...  Clarity        US   \n",
       "2     UDP2 Prod US: Cloudflare 403 Count Above Thre...     UDP2        US   \n",
       "3    UDP2 Prod US: Critical - Follow - Follower-Eve...     UDP2        US   \n",
       "4    UDP2 Prod US: Critical - Realtime - Completed ...     UDP2        US   \n",
       "..                                                 ...      ...       ...   \n",
       "120  UDP2 Prod US: Critical - Services Overall - Se...     udp2        us   \n",
       "121  [Recovered on {consumer_group:realtimemessagei...     udp2        us   \n",
       "122  UDP2 Prod US: Critical - Push Notification - F...     udp2        us   \n",
       "123  [Recovered on {consumer_group:realtimemessagei...     udp2        us   \n",
       "124  Clarity Prod EU: CRITICAL - P4 - 0.5% Subjects...  clarity        EU   \n",
       "\n",
       "    Priority          Customer Impacted           Opened On  \\\n",
       "0         P4     1 user(0.64% impacted) 2023-03-01 02:10:00   \n",
       "1         P4  36 users (0.50% Impacted) 2023-03-01 04:51:00   \n",
       "2         P4         No Customer Impact 2023-03-01 04:41:00   \n",
       "3         P4         No Customer Impact 2023-03-01 15:55:00   \n",
       "4         P4         No Customer Impact 2023-03-01 15:55:00   \n",
       "..       ...                        ...                 ...   \n",
       "120       P4         No Customer Impact 2023-03-16 18:29:00   \n",
       "121       P4         No Customer Impact 2023-03-16 18:33:00   \n",
       "122       P4         No Customer Impact 2023-03-16 20:32:00   \n",
       "123       P4         No Customer Impact 2023-03-16 22:17:00   \n",
       "124       P4   14 users(0.50% impacted) 2023-03-16 23:06:00   \n",
       "\n",
       "           Incident End    First Assignment  ... Mean time to Reslove (MTTR)  \\\n",
       "0   2023-03-01 03:28:00 2023-03-01 02:10:00  ...                        78.0   \n",
       "1   2023-03-01 07:37:00 2023-03-01 04:51:00  ...                       166.0   \n",
       "2   2023-03-01 05:25:00 2023-03-01 04:41:00  ...                        44.0   \n",
       "3   2023-03-01 20:40:00 2023-03-01 15:55:00  ...                       285.0   \n",
       "4   2023-03-01 19:01:00 2023-03-01 15:55:00  ...                       186.0   \n",
       "..                  ...                 ...  ...                         ...   \n",
       "120 2023-03-16 18:32:00 2023-03-16 18:29:00  ...                         3.0   \n",
       "121 2023-03-16 20:41:00                 NaT  ...                       128.0   \n",
       "122 2023-03-16 20:35:00 2023-03-16 20:33:00  ...                         3.0   \n",
       "123 2023-03-16 23:44:00 2023-03-16 22:18:00  ...                        87.0   \n",
       "124 2023-03-16 23:55:00 2023-03-16 23:06:00  ...                        50.0   \n",
       "\n",
       "    Resolved By User No Action Required  Resolved by NOC Engineer  \\\n",
       "0    Sutheshna Raman                Yes                        No   \n",
       "1        Varsha Rana                Yes                        No   \n",
       "2      Bhavya Parikh                Yes                        No   \n",
       "3    Atharva Jagdale                Yes                        No   \n",
       "4    Atharva Jagdale                Yes                        No   \n",
       "..               ...                ...                       ...   \n",
       "120          Pavan K                Yes                        No   \n",
       "121              NaN                Yes                        No   \n",
       "122         Sathya A                Yes                        No   \n",
       "123         Sathya A                Yes                        No   \n",
       "124         Sathya A                Yes                        No   \n",
       "\n",
       "     Escalated to SME  TSG            RCA  Total Alerts Incident Start time  \\\n",
       "0                  No  Yes  It was a blip             1 2023-03-01 02:09:00   \n",
       "1                  No  Yes  It was a blip             1 2023-03-01 04:50:00   \n",
       "2                  No   No  It was a blip             1 2023-03-01 04:40:00   \n",
       "3                  No   No  It was a blip             4 2023-03-01 15:54:00   \n",
       "4                  No   No  It was a blip             3 2023-03-01 15:54:00   \n",
       "..                ...  ...            ...           ...                 ...   \n",
       "120                No   No  It was a blip             1 2023-03-16 18:29:00   \n",
       "121                No  Yes  It was a blip             4 2023-03-16 18:33:00   \n",
       "122                No   No  It was a blip             2 2023-03-16 20:33:00   \n",
       "123                No  Yes  It was a blip             2 2023-03-16 22:18:00   \n",
       "124                No  Yes  It was a blip             1 2023-03-16 23:06:00   \n",
       "\n",
       "    Escalated Time  \n",
       "0              NaN  \n",
       "1              NaN  \n",
       "2              NaN  \n",
       "3              NaN  \n",
       "4              NaN  \n",
       "..             ...  \n",
       "120            NaN  \n",
       "121            NaN  \n",
       "122            NaN  \n",
       "123            NaN  \n",
       "124            NaN  \n",
       "\n",
       "[336 rows x 27 columns]"
      ]
     },
     "execution_count": 10,
     "metadata": {},
     "output_type": "execute_result"
    }
   ],
   "source": [
    "finalDF = pd.DataFrame()\n",
    "\n",
    "for file in file_list:\n",
    "    sheets = pd.ExcelFile(\"\"+file)\n",
    "    myWorkSheets = sheets.sheet_names\n",
    "    for sheet in myWorkSheets:\n",
    "        if sheet.startswith(\"Pager\") or sheet.startswith(\"BigPanda\"):\n",
    "            df = pd.read_excel(\"\"+file,sheet_name=sheet)\n",
    "            finalDF = finalDF.append(df)\n",
    "finalDF"
   ]
  },
  {
   "cell_type": "markdown",
   "metadata": {},
   "source": [
    "## Checking total number of rows and columns for dataset"
   ]
  },
  {
   "cell_type": "code",
   "execution_count": 11,
   "metadata": {},
   "outputs": [
    {
     "data": {
      "text/plain": [
       "(336, 27)"
      ]
     },
     "execution_count": 11,
     "metadata": {},
     "output_type": "execute_result"
    }
   ],
   "source": [
    "finalDF.shape"
   ]
  },
  {
   "cell_type": "markdown",
   "metadata": {},
   "source": [
    "## Copying data to new Dataframe"
   ]
  },
  {
   "cell_type": "code",
   "execution_count": 12,
   "metadata": {},
   "outputs": [],
   "source": [
    "df11 = finalDF.copy()"
   ]
  },
  {
   "cell_type": "markdown",
   "metadata": {},
   "source": [
    "## Dropping unwanted Columns"
   ]
  },
  {
   "cell_type": "code",
   "execution_count": 13,
   "metadata": {},
   "outputs": [],
   "source": [
    "df11.drop(['BigPanda Incident Link','Jira Ticket Updated'], axis = 1,inplace=True)"
   ]
  },
  {
   "cell_type": "code",
   "execution_count": 14,
   "metadata": {},
   "outputs": [
    {
     "data": {
      "text/plain": [
       "(336, 25)"
      ]
     },
     "execution_count": 14,
     "metadata": {},
     "output_type": "execute_result"
    }
   ],
   "source": [
    "# Find the no of rows and columns in the data\n",
    "df11.shape"
   ]
  },
  {
   "cell_type": "code",
   "execution_count": 15,
   "metadata": {},
   "outputs": [
    {
     "data": {
      "text/plain": [
       "Index(['Jira Ticket ', 'Description', 'Service', 'Location ', 'Priority',\n",
       "       'Customer Impacted', 'Opened On', 'Incident End', 'First Assignment',\n",
       "       'Actioned Time', 'Jira Ticket Created', 'Mean time to Detection (MTTD)',\n",
       "       'Mean time to Engage (MTTE)', 'Time to Escalate ',\n",
       "       'Mean time to Action (MTTA)', 'Mean time to Reslove (MTTR)',\n",
       "       'Resolved By User', 'No Action Required', 'Resolved by NOC Engineer',\n",
       "       'Escalated to SME', 'TSG', 'RCA', 'Total Alerts', 'Incident Start time',\n",
       "       'Escalated Time'],\n",
       "      dtype='object')"
      ]
     },
     "execution_count": 15,
     "metadata": {},
     "output_type": "execute_result"
    }
   ],
   "source": [
    "# Checking the column names\n",
    "df11.columns"
   ]
  },
  {
   "cell_type": "markdown",
   "metadata": {},
   "source": [
    "## Chaning Column Names"
   ]
  },
  {
   "cell_type": "code",
   "execution_count": 16,
   "metadata": {},
   "outputs": [],
   "source": [
    "df11.columns = ['Jira Ticket','Subject','Product','Location','Priority','Customer Impacted','Date Time','Incident End','First Assignment','Actioned Time', 'Ticket created on','TTD','TTE','TTAE','TTA','TTR','Assignee','NAR','RNE','ETS','TSG','RCA','Total Alerts','Incident Start time',\n",
    "       'Escalated Time']"
   ]
  },
  {
   "cell_type": "markdown",
   "metadata": {},
   "source": [
    "## Observing the Dataset"
   ]
  },
  {
   "cell_type": "code",
   "execution_count": 17,
   "metadata": {},
   "outputs": [
    {
     "data": {
      "text/html": [
       "<div>\n",
       "<style scoped>\n",
       "    .dataframe tbody tr th:only-of-type {\n",
       "        vertical-align: middle;\n",
       "    }\n",
       "\n",
       "    .dataframe tbody tr th {\n",
       "        vertical-align: top;\n",
       "    }\n",
       "\n",
       "    .dataframe thead th {\n",
       "        text-align: right;\n",
       "    }\n",
       "</style>\n",
       "<table border=\"1\" class=\"dataframe\">\n",
       "  <thead>\n",
       "    <tr style=\"text-align: right;\">\n",
       "      <th></th>\n",
       "      <th>Jira Ticket</th>\n",
       "      <th>Subject</th>\n",
       "      <th>Product</th>\n",
       "      <th>Location</th>\n",
       "      <th>Priority</th>\n",
       "      <th>Customer Impacted</th>\n",
       "      <th>Date Time</th>\n",
       "      <th>Incident End</th>\n",
       "      <th>First Assignment</th>\n",
       "      <th>Actioned Time</th>\n",
       "      <th>...</th>\n",
       "      <th>TTR</th>\n",
       "      <th>Assignee</th>\n",
       "      <th>NAR</th>\n",
       "      <th>RNE</th>\n",
       "      <th>ETS</th>\n",
       "      <th>TSG</th>\n",
       "      <th>RCA</th>\n",
       "      <th>Total Alerts</th>\n",
       "      <th>Incident Start time</th>\n",
       "      <th>Escalated Time</th>\n",
       "    </tr>\n",
       "  </thead>\n",
       "  <tbody>\n",
       "    <tr>\n",
       "      <th>0</th>\n",
       "      <td>INC-3405</td>\n",
       "      <td>Clarity Prod JP: CRITICAL - P4 - 0.5% Subjects...</td>\n",
       "      <td>Clarity</td>\n",
       "      <td>JP</td>\n",
       "      <td>P4</td>\n",
       "      <td>1 user(0.64% impacted)</td>\n",
       "      <td>2023-03-01 02:10:00</td>\n",
       "      <td>2023-03-01 03:28:00</td>\n",
       "      <td>2023-03-01 02:10:00</td>\n",
       "      <td>NaT</td>\n",
       "      <td>...</td>\n",
       "      <td>78.0</td>\n",
       "      <td>Sutheshna Raman</td>\n",
       "      <td>Yes</td>\n",
       "      <td>No</td>\n",
       "      <td>No</td>\n",
       "      <td>Yes</td>\n",
       "      <td>It was a blip</td>\n",
       "      <td>1</td>\n",
       "      <td>2023-03-01 02:09:00</td>\n",
       "      <td>NaT</td>\n",
       "    </tr>\n",
       "    <tr>\n",
       "      <th>1</th>\n",
       "      <td>INC-3407</td>\n",
       "      <td>Clarity Prod JP: CRITICAL - P4 - 0.5% Subjects...</td>\n",
       "      <td>Clarity</td>\n",
       "      <td>US</td>\n",
       "      <td>P4</td>\n",
       "      <td>36 users (0.50% Impacted)</td>\n",
       "      <td>2023-03-01 04:51:00</td>\n",
       "      <td>2023-03-01 07:37:00</td>\n",
       "      <td>2023-03-01 04:51:00</td>\n",
       "      <td>NaT</td>\n",
       "      <td>...</td>\n",
       "      <td>166.0</td>\n",
       "      <td>Varsha Rana</td>\n",
       "      <td>Yes</td>\n",
       "      <td>No</td>\n",
       "      <td>No</td>\n",
       "      <td>Yes</td>\n",
       "      <td>It was a blip</td>\n",
       "      <td>1</td>\n",
       "      <td>2023-03-01 04:50:00</td>\n",
       "      <td>NaT</td>\n",
       "    </tr>\n",
       "    <tr>\n",
       "      <th>2</th>\n",
       "      <td>INC-3408</td>\n",
       "      <td>UDP2 Prod US: Cloudflare 403 Count Above Thre...</td>\n",
       "      <td>UDP2</td>\n",
       "      <td>US</td>\n",
       "      <td>P4</td>\n",
       "      <td>No Customer Impact</td>\n",
       "      <td>2023-03-01 04:41:00</td>\n",
       "      <td>2023-03-01 05:25:00</td>\n",
       "      <td>2023-03-01 04:41:00</td>\n",
       "      <td>NaT</td>\n",
       "      <td>...</td>\n",
       "      <td>44.0</td>\n",
       "      <td>Bhavya Parikh</td>\n",
       "      <td>Yes</td>\n",
       "      <td>No</td>\n",
       "      <td>No</td>\n",
       "      <td>No</td>\n",
       "      <td>It was a blip</td>\n",
       "      <td>1</td>\n",
       "      <td>2023-03-01 04:40:00</td>\n",
       "      <td>NaT</td>\n",
       "    </tr>\n",
       "    <tr>\n",
       "      <th>3</th>\n",
       "      <td>INC-3416</td>\n",
       "      <td>UDP2 Prod US: Critical - Follow - Follower-Eve...</td>\n",
       "      <td>UDP2</td>\n",
       "      <td>US</td>\n",
       "      <td>P4</td>\n",
       "      <td>No Customer Impact</td>\n",
       "      <td>2023-03-01 15:55:00</td>\n",
       "      <td>2023-03-01 20:40:00</td>\n",
       "      <td>2023-03-01 15:55:00</td>\n",
       "      <td>NaT</td>\n",
       "      <td>...</td>\n",
       "      <td>285.0</td>\n",
       "      <td>Atharva Jagdale</td>\n",
       "      <td>Yes</td>\n",
       "      <td>No</td>\n",
       "      <td>No</td>\n",
       "      <td>No</td>\n",
       "      <td>It was a blip</td>\n",
       "      <td>4</td>\n",
       "      <td>2023-03-01 15:54:00</td>\n",
       "      <td>NaT</td>\n",
       "    </tr>\n",
       "    <tr>\n",
       "      <th>4</th>\n",
       "      <td>INC-3417</td>\n",
       "      <td>UDP2 Prod US: Critical - Realtime - Completed ...</td>\n",
       "      <td>UDP2</td>\n",
       "      <td>US</td>\n",
       "      <td>P4</td>\n",
       "      <td>No Customer Impact</td>\n",
       "      <td>2023-03-01 15:55:00</td>\n",
       "      <td>2023-03-01 19:01:00</td>\n",
       "      <td>2023-03-01 15:55:00</td>\n",
       "      <td>NaT</td>\n",
       "      <td>...</td>\n",
       "      <td>186.0</td>\n",
       "      <td>Atharva Jagdale</td>\n",
       "      <td>Yes</td>\n",
       "      <td>No</td>\n",
       "      <td>No</td>\n",
       "      <td>No</td>\n",
       "      <td>It was a blip</td>\n",
       "      <td>3</td>\n",
       "      <td>2023-03-01 15:54:00</td>\n",
       "      <td>NaT</td>\n",
       "    </tr>\n",
       "  </tbody>\n",
       "</table>\n",
       "<p>5 rows × 25 columns</p>\n",
       "</div>"
      ],
      "text/plain": [
       "  Jira Ticket                                            Subject  Product  \\\n",
       "0    INC-3405  Clarity Prod JP: CRITICAL - P4 - 0.5% Subjects...  Clarity   \n",
       "1    INC-3407  Clarity Prod JP: CRITICAL - P4 - 0.5% Subjects...  Clarity   \n",
       "2    INC-3408   UDP2 Prod US: Cloudflare 403 Count Above Thre...     UDP2   \n",
       "3    INC-3416  UDP2 Prod US: Critical - Follow - Follower-Eve...     UDP2   \n",
       "4    INC-3417  UDP2 Prod US: Critical - Realtime - Completed ...     UDP2   \n",
       "\n",
       "  Location Priority          Customer Impacted           Date Time  \\\n",
       "0       JP       P4     1 user(0.64% impacted) 2023-03-01 02:10:00   \n",
       "1       US       P4  36 users (0.50% Impacted) 2023-03-01 04:51:00   \n",
       "2       US       P4         No Customer Impact 2023-03-01 04:41:00   \n",
       "3       US       P4         No Customer Impact 2023-03-01 15:55:00   \n",
       "4       US       P4         No Customer Impact 2023-03-01 15:55:00   \n",
       "\n",
       "         Incident End    First Assignment Actioned Time  ...    TTR  \\\n",
       "0 2023-03-01 03:28:00 2023-03-01 02:10:00           NaT  ...   78.0   \n",
       "1 2023-03-01 07:37:00 2023-03-01 04:51:00           NaT  ...  166.0   \n",
       "2 2023-03-01 05:25:00 2023-03-01 04:41:00           NaT  ...   44.0   \n",
       "3 2023-03-01 20:40:00 2023-03-01 15:55:00           NaT  ...  285.0   \n",
       "4 2023-03-01 19:01:00 2023-03-01 15:55:00           NaT  ...  186.0   \n",
       "\n",
       "          Assignee  NAR  RNE  ETS  TSG            RCA Total Alerts  \\\n",
       "0  Sutheshna Raman  Yes   No   No  Yes  It was a blip            1   \n",
       "1      Varsha Rana  Yes   No   No  Yes  It was a blip            1   \n",
       "2    Bhavya Parikh  Yes   No   No   No  It was a blip            1   \n",
       "3  Atharva Jagdale  Yes   No   No   No  It was a blip            4   \n",
       "4  Atharva Jagdale  Yes   No   No   No  It was a blip            3   \n",
       "\n",
       "  Incident Start time Escalated Time  \n",
       "0 2023-03-01 02:09:00            NaT  \n",
       "1 2023-03-01 04:50:00            NaT  \n",
       "2 2023-03-01 04:40:00            NaT  \n",
       "3 2023-03-01 15:54:00            NaT  \n",
       "4 2023-03-01 15:54:00            NaT  \n",
       "\n",
       "[5 rows x 25 columns]"
      ]
     },
     "execution_count": 17,
     "metadata": {},
     "output_type": "execute_result"
    }
   ],
   "source": [
    "df11.head()"
   ]
  },
  {
   "cell_type": "markdown",
   "metadata": {},
   "source": [
    "# Check dataset information for data handling"
   ]
  },
  {
   "cell_type": "code",
   "execution_count": 18,
   "metadata": {},
   "outputs": [
    {
     "name": "stdout",
     "output_type": "stream",
     "text": [
      "<class 'pandas.core.frame.DataFrame'>\n",
      "Int64Index: 336 entries, 0 to 124\n",
      "Data columns (total 25 columns):\n",
      " #   Column               Non-Null Count  Dtype         \n",
      "---  ------               --------------  -----         \n",
      " 0   Jira Ticket          336 non-null    object        \n",
      " 1   Subject              336 non-null    object        \n",
      " 2   Product              336 non-null    object        \n",
      " 3   Location             336 non-null    object        \n",
      " 4   Priority             336 non-null    object        \n",
      " 5   Customer Impacted    336 non-null    object        \n",
      " 6   Date Time            336 non-null    datetime64[ns]\n",
      " 7   Incident End         336 non-null    datetime64[ns]\n",
      " 8   First Assignment     326 non-null    datetime64[ns]\n",
      " 9   Actioned Time        96 non-null     object        \n",
      " 10  Ticket created on    330 non-null    object        \n",
      " 11  TTD                  336 non-null    int64         \n",
      " 12  TTE                  326 non-null    float64       \n",
      " 13  TTAE                 266 non-null    float64       \n",
      " 14  TTA                  252 non-null    float64       \n",
      " 15  TTR                  336 non-null    float64       \n",
      " 16  Assignee             326 non-null    object        \n",
      " 17  NAR                  336 non-null    object        \n",
      " 18  RNE                  336 non-null    object        \n",
      " 19  ETS                  336 non-null    object        \n",
      " 20  TSG                  336 non-null    object        \n",
      " 21  RCA                  336 non-null    object        \n",
      " 22  Total Alerts         336 non-null    int64         \n",
      " 23  Incident Start time  336 non-null    datetime64[ns]\n",
      " 24  Escalated Time       106 non-null    object        \n",
      "dtypes: datetime64[ns](4), float64(4), int64(2), object(15)\n",
      "memory usage: 68.2+ KB\n"
     ]
    }
   ],
   "source": [
    "df11.info()"
   ]
  },
  {
   "cell_type": "code",
   "execution_count": 19,
   "metadata": {},
   "outputs": [],
   "source": [
    "# Identify the type of data for each column --- Numerical, Categorical , Ordinal\n",
    "\n",
    "# #  Column               Non-Null Count  Dtype            Type\n",
    "#---  ------               --------------  -----         -----------\n",
    "# 0   Jira Ticket          71 non-null     object   ---> Categorical\n",
    "# 1   Subject              71 non-null     object   ---> Categorical\n",
    "# 2   Product              71 non-null     object   ---> Categorical\n",
    "# 3   Location             71 non-null     object   ---> Categorical\n",
    "# 4   Priority             71 non-null     object   ---> Ordinal\n",
    "# 5   Customer Impacted    71 non-null     object   ---> Categorical\n",
    "# 6   Date Time            71 non-null     object   ---> Date and Time\n",
    "# 7   Incident End         71 non-null     object   ---> Date and Time\n",
    "# 8   First Assignment     71 non-null     object   ---> Date and Time\n",
    "# 9   Actioned Time        2 non-null      object   ---> Date and Time\n",
    "# 10  Ticket created on    37 non-null     object   ---> Date and Time\n",
    "# 11  TTD                  71 non-null     int64    ---> Numerical Continous\n",
    "# 12  TTE                  71 non-null     int64    ---> Numerical Continous\n",
    "# 13  TTAE                 71 non-null     int64    ---> Numerical Continous\n",
    "# 14  TTA                  71 non-null     int64    ---> Numerical Continous\n",
    "# 15  TTR                  71 non-null     int64    ---> Numerical Continous\n",
    "# 16  Assignee             71 non-null     object   ---> Categorical\n",
    "# 17  NAR                  71 non-null     object   ---> Numerical Discrete [0-1]\n",
    "# 18  RNE                  71 non-null     object   ---> Numerical Discrete [0-1]\n",
    "# 19  ETS                  71 non-null     object   ---> Numerical Discrete [0-1]\n",
    "# 20  TSG                  71 non-null     object   ---> Numerical Discrete [0-1]\n",
    "# 21  RCA                  71 non-null     object   ---> Categorical\n",
    "# 22  Total Alerts         71 non-null     int64    ---> Numerical Continous\n",
    "# 23  Incident Start time  28 non-null     object   ---> Date and Time\n",
    "# 24  Escalated Time       1 non-null      object   ---> Date and Time"
   ]
  },
  {
   "cell_type": "code",
   "execution_count": 20,
   "metadata": {},
   "outputs": [],
   "source": [
    "# From the above data we can see that we need to change the Data type of few columns. \n",
    "# 4   Priority             from     object   ---> Ordinal\n",
    "# 6   Date Time            from     object   ---> Date and Time"
   ]
  },
  {
   "cell_type": "markdown",
   "metadata": {},
   "source": [
    "# Check and Remove all DUPLICATE RECORDS from the DATAFRAME"
   ]
  },
  {
   "cell_type": "code",
   "execution_count": 21,
   "metadata": {},
   "outputs": [
    {
     "data": {
      "text/html": [
       "<div>\n",
       "<style scoped>\n",
       "    .dataframe tbody tr th:only-of-type {\n",
       "        vertical-align: middle;\n",
       "    }\n",
       "\n",
       "    .dataframe tbody tr th {\n",
       "        vertical-align: top;\n",
       "    }\n",
       "\n",
       "    .dataframe thead th {\n",
       "        text-align: right;\n",
       "    }\n",
       "</style>\n",
       "<table border=\"1\" class=\"dataframe\">\n",
       "  <thead>\n",
       "    <tr style=\"text-align: right;\">\n",
       "      <th></th>\n",
       "      <th>Jira Ticket</th>\n",
       "      <th>Subject</th>\n",
       "      <th>Product</th>\n",
       "      <th>Location</th>\n",
       "      <th>Priority</th>\n",
       "      <th>Customer Impacted</th>\n",
       "      <th>Date Time</th>\n",
       "      <th>Incident End</th>\n",
       "      <th>First Assignment</th>\n",
       "      <th>Actioned Time</th>\n",
       "      <th>...</th>\n",
       "      <th>TTR</th>\n",
       "      <th>Assignee</th>\n",
       "      <th>NAR</th>\n",
       "      <th>RNE</th>\n",
       "      <th>ETS</th>\n",
       "      <th>TSG</th>\n",
       "      <th>RCA</th>\n",
       "      <th>Total Alerts</th>\n",
       "      <th>Incident Start time</th>\n",
       "      <th>Escalated Time</th>\n",
       "    </tr>\n",
       "  </thead>\n",
       "  <tbody>\n",
       "    <tr>\n",
       "      <th>0</th>\n",
       "      <td>INC-3405</td>\n",
       "      <td>Clarity Prod JP: CRITICAL - P4 - 0.5% Subjects...</td>\n",
       "      <td>Clarity</td>\n",
       "      <td>JP</td>\n",
       "      <td>P4</td>\n",
       "      <td>1 user(0.64% impacted)</td>\n",
       "      <td>2023-03-01 02:10:00</td>\n",
       "      <td>2023-03-01 03:28:00</td>\n",
       "      <td>2023-03-01 02:10:00</td>\n",
       "      <td>NaN</td>\n",
       "      <td>...</td>\n",
       "      <td>78.0</td>\n",
       "      <td>Sutheshna Raman</td>\n",
       "      <td>Yes</td>\n",
       "      <td>No</td>\n",
       "      <td>No</td>\n",
       "      <td>Yes</td>\n",
       "      <td>It was a blip</td>\n",
       "      <td>1</td>\n",
       "      <td>2023-03-01 02:09:00</td>\n",
       "      <td>NaN</td>\n",
       "    </tr>\n",
       "    <tr>\n",
       "      <th>1</th>\n",
       "      <td>INC-3407</td>\n",
       "      <td>Clarity Prod JP: CRITICAL - P4 - 0.5% Subjects...</td>\n",
       "      <td>Clarity</td>\n",
       "      <td>US</td>\n",
       "      <td>P4</td>\n",
       "      <td>36 users (0.50% Impacted)</td>\n",
       "      <td>2023-03-01 04:51:00</td>\n",
       "      <td>2023-03-01 07:37:00</td>\n",
       "      <td>2023-03-01 04:51:00</td>\n",
       "      <td>NaN</td>\n",
       "      <td>...</td>\n",
       "      <td>166.0</td>\n",
       "      <td>Varsha Rana</td>\n",
       "      <td>Yes</td>\n",
       "      <td>No</td>\n",
       "      <td>No</td>\n",
       "      <td>Yes</td>\n",
       "      <td>It was a blip</td>\n",
       "      <td>1</td>\n",
       "      <td>2023-03-01 04:50:00</td>\n",
       "      <td>NaN</td>\n",
       "    </tr>\n",
       "    <tr>\n",
       "      <th>2</th>\n",
       "      <td>INC-3408</td>\n",
       "      <td>UDP2 Prod US: Cloudflare 403 Count Above Thre...</td>\n",
       "      <td>UDP2</td>\n",
       "      <td>US</td>\n",
       "      <td>P4</td>\n",
       "      <td>No Customer Impact</td>\n",
       "      <td>2023-03-01 04:41:00</td>\n",
       "      <td>2023-03-01 05:25:00</td>\n",
       "      <td>2023-03-01 04:41:00</td>\n",
       "      <td>NaN</td>\n",
       "      <td>...</td>\n",
       "      <td>44.0</td>\n",
       "      <td>Bhavya Parikh</td>\n",
       "      <td>Yes</td>\n",
       "      <td>No</td>\n",
       "      <td>No</td>\n",
       "      <td>No</td>\n",
       "      <td>It was a blip</td>\n",
       "      <td>1</td>\n",
       "      <td>2023-03-01 04:40:00</td>\n",
       "      <td>NaN</td>\n",
       "    </tr>\n",
       "    <tr>\n",
       "      <th>3</th>\n",
       "      <td>INC-3416</td>\n",
       "      <td>UDP2 Prod US: Critical - Follow - Follower-Eve...</td>\n",
       "      <td>UDP2</td>\n",
       "      <td>US</td>\n",
       "      <td>P4</td>\n",
       "      <td>No Customer Impact</td>\n",
       "      <td>2023-03-01 15:55:00</td>\n",
       "      <td>2023-03-01 20:40:00</td>\n",
       "      <td>2023-03-01 15:55:00</td>\n",
       "      <td>NaN</td>\n",
       "      <td>...</td>\n",
       "      <td>285.0</td>\n",
       "      <td>Atharva Jagdale</td>\n",
       "      <td>Yes</td>\n",
       "      <td>No</td>\n",
       "      <td>No</td>\n",
       "      <td>No</td>\n",
       "      <td>It was a blip</td>\n",
       "      <td>4</td>\n",
       "      <td>2023-03-01 15:54:00</td>\n",
       "      <td>NaN</td>\n",
       "    </tr>\n",
       "    <tr>\n",
       "      <th>4</th>\n",
       "      <td>INC-3417</td>\n",
       "      <td>UDP2 Prod US: Critical - Realtime - Completed ...</td>\n",
       "      <td>UDP2</td>\n",
       "      <td>US</td>\n",
       "      <td>P4</td>\n",
       "      <td>No Customer Impact</td>\n",
       "      <td>2023-03-01 15:55:00</td>\n",
       "      <td>2023-03-01 19:01:00</td>\n",
       "      <td>2023-03-01 15:55:00</td>\n",
       "      <td>NaN</td>\n",
       "      <td>...</td>\n",
       "      <td>186.0</td>\n",
       "      <td>Atharva Jagdale</td>\n",
       "      <td>Yes</td>\n",
       "      <td>No</td>\n",
       "      <td>No</td>\n",
       "      <td>No</td>\n",
       "      <td>It was a blip</td>\n",
       "      <td>3</td>\n",
       "      <td>2023-03-01 15:54:00</td>\n",
       "      <td>NaN</td>\n",
       "    </tr>\n",
       "    <tr>\n",
       "      <th>...</th>\n",
       "      <td>...</td>\n",
       "      <td>...</td>\n",
       "      <td>...</td>\n",
       "      <td>...</td>\n",
       "      <td>...</td>\n",
       "      <td>...</td>\n",
       "      <td>...</td>\n",
       "      <td>...</td>\n",
       "      <td>...</td>\n",
       "      <td>...</td>\n",
       "      <td>...</td>\n",
       "      <td>...</td>\n",
       "      <td>...</td>\n",
       "      <td>...</td>\n",
       "      <td>...</td>\n",
       "      <td>...</td>\n",
       "      <td>...</td>\n",
       "      <td>...</td>\n",
       "      <td>...</td>\n",
       "      <td>...</td>\n",
       "      <td>...</td>\n",
       "    </tr>\n",
       "    <tr>\n",
       "      <th>120</th>\n",
       "      <td>INC-3563</td>\n",
       "      <td>UDP2 Prod US: Critical - Services Overall - Se...</td>\n",
       "      <td>udp2</td>\n",
       "      <td>us</td>\n",
       "      <td>P4</td>\n",
       "      <td>No Customer Impact</td>\n",
       "      <td>2023-03-16 18:29:00</td>\n",
       "      <td>2023-03-16 18:32:00</td>\n",
       "      <td>2023-03-16 18:29:00</td>\n",
       "      <td>NaN</td>\n",
       "      <td>...</td>\n",
       "      <td>3.0</td>\n",
       "      <td>Pavan K</td>\n",
       "      <td>Yes</td>\n",
       "      <td>No</td>\n",
       "      <td>No</td>\n",
       "      <td>No</td>\n",
       "      <td>It was a blip</td>\n",
       "      <td>1</td>\n",
       "      <td>2023-03-16 18:29:00</td>\n",
       "      <td>NaN</td>\n",
       "    </tr>\n",
       "    <tr>\n",
       "      <th>121</th>\n",
       "      <td>INC-3564</td>\n",
       "      <td>[Recovered on {consumer_group:realtimemessagei...</td>\n",
       "      <td>udp2</td>\n",
       "      <td>us</td>\n",
       "      <td>P4</td>\n",
       "      <td>No Customer Impact</td>\n",
       "      <td>2023-03-16 18:33:00</td>\n",
       "      <td>2023-03-16 20:41:00</td>\n",
       "      <td>NaT</td>\n",
       "      <td>NaN</td>\n",
       "      <td>...</td>\n",
       "      <td>128.0</td>\n",
       "      <td>NaN</td>\n",
       "      <td>Yes</td>\n",
       "      <td>No</td>\n",
       "      <td>No</td>\n",
       "      <td>Yes</td>\n",
       "      <td>It was a blip</td>\n",
       "      <td>4</td>\n",
       "      <td>2023-03-16 18:33:00</td>\n",
       "      <td>NaN</td>\n",
       "    </tr>\n",
       "    <tr>\n",
       "      <th>122</th>\n",
       "      <td>INC-3565</td>\n",
       "      <td>UDP2 Prod US: Critical - Push Notification - F...</td>\n",
       "      <td>udp2</td>\n",
       "      <td>us</td>\n",
       "      <td>P4</td>\n",
       "      <td>No Customer Impact</td>\n",
       "      <td>2023-03-16 20:32:00</td>\n",
       "      <td>2023-03-16 20:35:00</td>\n",
       "      <td>2023-03-16 20:33:00</td>\n",
       "      <td>NaN</td>\n",
       "      <td>...</td>\n",
       "      <td>3.0</td>\n",
       "      <td>Sathya A</td>\n",
       "      <td>Yes</td>\n",
       "      <td>No</td>\n",
       "      <td>No</td>\n",
       "      <td>No</td>\n",
       "      <td>It was a blip</td>\n",
       "      <td>2</td>\n",
       "      <td>2023-03-16 20:33:00</td>\n",
       "      <td>NaN</td>\n",
       "    </tr>\n",
       "    <tr>\n",
       "      <th>123</th>\n",
       "      <td>INC-3566</td>\n",
       "      <td>[Recovered on {consumer_group:realtimemessagei...</td>\n",
       "      <td>udp2</td>\n",
       "      <td>us</td>\n",
       "      <td>P4</td>\n",
       "      <td>No Customer Impact</td>\n",
       "      <td>2023-03-16 22:17:00</td>\n",
       "      <td>2023-03-16 23:44:00</td>\n",
       "      <td>2023-03-16 22:18:00</td>\n",
       "      <td>NaN</td>\n",
       "      <td>...</td>\n",
       "      <td>87.0</td>\n",
       "      <td>Sathya A</td>\n",
       "      <td>Yes</td>\n",
       "      <td>No</td>\n",
       "      <td>No</td>\n",
       "      <td>Yes</td>\n",
       "      <td>It was a blip</td>\n",
       "      <td>2</td>\n",
       "      <td>2023-03-16 22:18:00</td>\n",
       "      <td>NaN</td>\n",
       "    </tr>\n",
       "    <tr>\n",
       "      <th>124</th>\n",
       "      <td>INC-3567</td>\n",
       "      <td>Clarity Prod EU: CRITICAL - P4 - 0.5% Subjects...</td>\n",
       "      <td>clarity</td>\n",
       "      <td>EU</td>\n",
       "      <td>P4</td>\n",
       "      <td>14 users(0.50% impacted)</td>\n",
       "      <td>2023-03-16 23:06:00</td>\n",
       "      <td>2023-03-16 23:55:00</td>\n",
       "      <td>2023-03-16 23:06:00</td>\n",
       "      <td>NaN</td>\n",
       "      <td>...</td>\n",
       "      <td>50.0</td>\n",
       "      <td>Sathya A</td>\n",
       "      <td>Yes</td>\n",
       "      <td>No</td>\n",
       "      <td>No</td>\n",
       "      <td>Yes</td>\n",
       "      <td>It was a blip</td>\n",
       "      <td>1</td>\n",
       "      <td>2023-03-16 23:06:00</td>\n",
       "      <td>NaN</td>\n",
       "    </tr>\n",
       "  </tbody>\n",
       "</table>\n",
       "<p>168 rows × 25 columns</p>\n",
       "</div>"
      ],
      "text/plain": [
       "    Jira Ticket                                            Subject  Product  \\\n",
       "0      INC-3405  Clarity Prod JP: CRITICAL - P4 - 0.5% Subjects...  Clarity   \n",
       "1      INC-3407  Clarity Prod JP: CRITICAL - P4 - 0.5% Subjects...  Clarity   \n",
       "2      INC-3408   UDP2 Prod US: Cloudflare 403 Count Above Thre...     UDP2   \n",
       "3      INC-3416  UDP2 Prod US: Critical - Follow - Follower-Eve...     UDP2   \n",
       "4      INC-3417  UDP2 Prod US: Critical - Realtime - Completed ...     UDP2   \n",
       "..          ...                                                ...      ...   \n",
       "120    INC-3563  UDP2 Prod US: Critical - Services Overall - Se...     udp2   \n",
       "121    INC-3564  [Recovered on {consumer_group:realtimemessagei...     udp2   \n",
       "122    INC-3565  UDP2 Prod US: Critical - Push Notification - F...     udp2   \n",
       "123    INC-3566  [Recovered on {consumer_group:realtimemessagei...     udp2   \n",
       "124    INC-3567  Clarity Prod EU: CRITICAL - P4 - 0.5% Subjects...  clarity   \n",
       "\n",
       "    Location Priority          Customer Impacted           Date Time  \\\n",
       "0         JP       P4     1 user(0.64% impacted) 2023-03-01 02:10:00   \n",
       "1         US       P4  36 users (0.50% Impacted) 2023-03-01 04:51:00   \n",
       "2         US       P4         No Customer Impact 2023-03-01 04:41:00   \n",
       "3         US       P4         No Customer Impact 2023-03-01 15:55:00   \n",
       "4         US       P4         No Customer Impact 2023-03-01 15:55:00   \n",
       "..       ...      ...                        ...                 ...   \n",
       "120       us       P4         No Customer Impact 2023-03-16 18:29:00   \n",
       "121       us       P4         No Customer Impact 2023-03-16 18:33:00   \n",
       "122       us       P4         No Customer Impact 2023-03-16 20:32:00   \n",
       "123       us       P4         No Customer Impact 2023-03-16 22:17:00   \n",
       "124       EU       P4   14 users(0.50% impacted) 2023-03-16 23:06:00   \n",
       "\n",
       "           Incident End    First Assignment Actioned Time  ...    TTR  \\\n",
       "0   2023-03-01 03:28:00 2023-03-01 02:10:00           NaN  ...   78.0   \n",
       "1   2023-03-01 07:37:00 2023-03-01 04:51:00           NaN  ...  166.0   \n",
       "2   2023-03-01 05:25:00 2023-03-01 04:41:00           NaN  ...   44.0   \n",
       "3   2023-03-01 20:40:00 2023-03-01 15:55:00           NaN  ...  285.0   \n",
       "4   2023-03-01 19:01:00 2023-03-01 15:55:00           NaN  ...  186.0   \n",
       "..                  ...                 ...           ...  ...    ...   \n",
       "120 2023-03-16 18:32:00 2023-03-16 18:29:00           NaN  ...    3.0   \n",
       "121 2023-03-16 20:41:00                 NaT           NaN  ...  128.0   \n",
       "122 2023-03-16 20:35:00 2023-03-16 20:33:00           NaN  ...    3.0   \n",
       "123 2023-03-16 23:44:00 2023-03-16 22:18:00           NaN  ...   87.0   \n",
       "124 2023-03-16 23:55:00 2023-03-16 23:06:00           NaN  ...   50.0   \n",
       "\n",
       "            Assignee  NAR  RNE  ETS  TSG            RCA Total Alerts  \\\n",
       "0    Sutheshna Raman  Yes   No   No  Yes  It was a blip            1   \n",
       "1        Varsha Rana  Yes   No   No  Yes  It was a blip            1   \n",
       "2      Bhavya Parikh  Yes   No   No   No  It was a blip            1   \n",
       "3    Atharva Jagdale  Yes   No   No   No  It was a blip            4   \n",
       "4    Atharva Jagdale  Yes   No   No   No  It was a blip            3   \n",
       "..               ...  ...  ...  ...  ...            ...          ...   \n",
       "120          Pavan K  Yes   No   No   No  It was a blip            1   \n",
       "121              NaN  Yes   No   No  Yes  It was a blip            4   \n",
       "122         Sathya A  Yes   No   No   No  It was a blip            2   \n",
       "123         Sathya A  Yes   No   No  Yes  It was a blip            2   \n",
       "124         Sathya A  Yes   No   No  Yes  It was a blip            1   \n",
       "\n",
       "    Incident Start time Escalated Time  \n",
       "0   2023-03-01 02:09:00            NaN  \n",
       "1   2023-03-01 04:50:00            NaN  \n",
       "2   2023-03-01 04:40:00            NaN  \n",
       "3   2023-03-01 15:54:00            NaN  \n",
       "4   2023-03-01 15:54:00            NaN  \n",
       "..                  ...            ...  \n",
       "120 2023-03-16 18:29:00            NaN  \n",
       "121 2023-03-16 18:33:00            NaN  \n",
       "122 2023-03-16 20:33:00            NaN  \n",
       "123 2023-03-16 22:18:00            NaN  \n",
       "124 2023-03-16 23:06:00            NaN  \n",
       "\n",
       "[168 rows x 25 columns]"
      ]
     },
     "execution_count": 21,
     "metadata": {},
     "output_type": "execute_result"
    }
   ],
   "source": [
    "# Check all DUPLICATE RECORDS from the DATAFRAME\n",
    "df11[df11.duplicated()]"
   ]
  },
  {
   "cell_type": "code",
   "execution_count": 22,
   "metadata": {},
   "outputs": [],
   "source": [
    "# Remove all DUPLICATE RECORDS from the DATAFRAME\n",
    "df11.drop_duplicates(inplace=True)"
   ]
  },
  {
   "cell_type": "code",
   "execution_count": 23,
   "metadata": {},
   "outputs": [],
   "source": [
    "# Replacing all the 0 values in TTD with 1\n",
    "df11.TTD.replace(0,1,inplace=True)\n",
    "df11.TTD.replace(np.nan,1,inplace=True)"
   ]
  },
  {
   "cell_type": "code",
   "execution_count": 24,
   "metadata": {},
   "outputs": [],
   "source": [
    "# Replacing all the Null values in TTE with 0\n",
    "df11.TTE.replace(np.nan,1,inplace=True)"
   ]
  },
  {
   "cell_type": "code",
   "execution_count": 25,
   "metadata": {},
   "outputs": [
    {
     "data": {
      "text/plain": [
       "array([ nan,  20.,  15.,   2.,   6.,   1.,  26.,  30., 108.,   0.,   3.,\n",
       "         8.,  38.,  10.])"
      ]
     },
     "execution_count": 25,
     "metadata": {},
     "output_type": "execute_result"
    }
   ],
   "source": [
    "df11.TTAE.unique()"
   ]
  },
  {
   "cell_type": "code",
   "execution_count": 26,
   "metadata": {},
   "outputs": [
    {
     "data": {
      "text/plain": [
       "array([ nan, 124.,   0.,   6., 134.,   3., 105.,  40.])"
      ]
     },
     "execution_count": 26,
     "metadata": {},
     "output_type": "execute_result"
    }
   ],
   "source": [
    "df11.TTA.unique()"
   ]
  },
  {
   "cell_type": "code",
   "execution_count": 27,
   "metadata": {},
   "outputs": [],
   "source": [
    "# Replacing all the 0 values in TTA with NUll Values\n",
    "df11.TTA.replace(0,np.nan,inplace=True)"
   ]
  },
  {
   "cell_type": "code",
   "execution_count": 28,
   "metadata": {},
   "outputs": [],
   "source": [
    "# Replacing all the 0 values in TTAE with 1\n",
    "df11.TTAE.replace(0,np.nan,inplace=True)"
   ]
  },
  {
   "cell_type": "markdown",
   "metadata": {},
   "source": [
    "## Changing the Date Time column from String to Date Time format"
   ]
  },
  {
   "cell_type": "code",
   "execution_count": 29,
   "metadata": {},
   "outputs": [],
   "source": [
    "df11['Date Time'] = pd.to_datetime(df11['Date Time'])\n",
    "df11['Incident Start time'] = pd.to_datetime(df11['Incident Start time'])\n",
    "df11['Date'] = df11['Date Time'].dt.strftime('%m-%d-%Y')\n",
    "df11['Date'] = pd.to_datetime(df11['Date'])\n",
    "df11['Month'] = pd.DatetimeIndex(df11['Date Time']).month\n",
    "df11['Day'] = pd.DatetimeIndex(df11['Date Time']).day\n",
    "df11['Year'] = pd.DatetimeIndex(df11['Date Time']).year\n",
    "df11['Quarter'] = pd.DatetimeIndex(df11['Date Time']).quarter\n",
    "df11['Week'] = pd.DatetimeIndex(df11['Date Time']).week\n",
    "df11['Weekday'] = pd.DatetimeIndex(df11['Date Time']).weekday\n",
    "df11['Weekday'] = df11['Weekday'].apply(lambda x: calendar.day_name[x])\n",
    "df11['Dayofyear'] = pd.DatetimeIndex(df11['Date Time']).dayofyear\n",
    "df11['Weekofyear'] = pd.DatetimeIndex(df11['Date Time']).weekofyear\n",
    "df11['date_ordinal'] = pd.to_datetime(df11['Date Time']).apply(lambda date: date.toordinal())\n",
    "df11['Hours'] = df11['Date Time'].dt.hour"
   ]
  },
  {
   "cell_type": "code",
   "execution_count": 30,
   "metadata": {},
   "outputs": [
    {
     "data": {
      "text/html": [
       "<div>\n",
       "<style scoped>\n",
       "    .dataframe tbody tr th:only-of-type {\n",
       "        vertical-align: middle;\n",
       "    }\n",
       "\n",
       "    .dataframe tbody tr th {\n",
       "        vertical-align: top;\n",
       "    }\n",
       "\n",
       "    .dataframe thead th {\n",
       "        text-align: right;\n",
       "    }\n",
       "</style>\n",
       "<table border=\"1\" class=\"dataframe\">\n",
       "  <thead>\n",
       "    <tr style=\"text-align: right;\">\n",
       "      <th></th>\n",
       "      <th>Jira Ticket</th>\n",
       "      <th>Subject</th>\n",
       "      <th>Product</th>\n",
       "      <th>Location</th>\n",
       "      <th>Priority</th>\n",
       "      <th>Customer Impacted</th>\n",
       "      <th>Date Time</th>\n",
       "      <th>Incident End</th>\n",
       "      <th>First Assignment</th>\n",
       "      <th>Actioned Time</th>\n",
       "      <th>...</th>\n",
       "      <th>Month</th>\n",
       "      <th>Day</th>\n",
       "      <th>Year</th>\n",
       "      <th>Quarter</th>\n",
       "      <th>Week</th>\n",
       "      <th>Weekday</th>\n",
       "      <th>Dayofyear</th>\n",
       "      <th>Weekofyear</th>\n",
       "      <th>date_ordinal</th>\n",
       "      <th>Hours</th>\n",
       "    </tr>\n",
       "  </thead>\n",
       "  <tbody>\n",
       "  </tbody>\n",
       "</table>\n",
       "<p>0 rows × 36 columns</p>\n",
       "</div>"
      ],
      "text/plain": [
       "Empty DataFrame\n",
       "Columns: [Jira Ticket, Subject, Product, Location, Priority, Customer Impacted, Date Time, Incident End, First Assignment, Actioned Time, Ticket created on, TTD, TTE, TTAE, TTA, TTR, Assignee, NAR, RNE, ETS, TSG, RCA, Total Alerts, Incident Start time, Escalated Time, Date, Month, Day, Year, Quarter, Week, Weekday, Dayofyear, Weekofyear, date_ordinal, Hours]\n",
       "Index: []\n",
       "\n",
       "[0 rows x 36 columns]"
      ]
     },
     "execution_count": 30,
     "metadata": {},
     "output_type": "execute_result"
    }
   ],
   "source": [
    "df11[df11['Incident Start time'] == np.nan]"
   ]
  },
  {
   "cell_type": "code",
   "execution_count": 31,
   "metadata": {},
   "outputs": [],
   "source": [
    "df11['Incident Start time'] = pd.to_datetime(df11['Date Time']) - pd.to_timedelta(df11['TTD'], unit='m')"
   ]
  },
  {
   "cell_type": "code",
   "execution_count": 32,
   "metadata": {},
   "outputs": [],
   "source": [
    "df11['Escalated Time'] = pd.to_datetime(df11['Date Time']) + pd.to_timedelta(df11['TTAE'], unit='m')"
   ]
  },
  {
   "cell_type": "code",
   "execution_count": 33,
   "metadata": {},
   "outputs": [],
   "source": [
    "df11.TTE.replace('',int(0),inplace=True)"
   ]
  },
  {
   "cell_type": "code",
   "execution_count": 34,
   "metadata": {},
   "outputs": [],
   "source": [
    "df11['TTE'] = pd.to_numeric(df11['TTE'],errors='coerce')"
   ]
  },
  {
   "cell_type": "code",
   "execution_count": 35,
   "metadata": {},
   "outputs": [],
   "source": [
    "df11['TTE'] = round(df11['TTE'],1)"
   ]
  },
  {
   "cell_type": "code",
   "execution_count": 36,
   "metadata": {},
   "outputs": [],
   "source": [
    "df11['Engage Time'] = pd.to_datetime(df11['Date Time']) + pd.to_timedelta(df11['TTE'], unit='m')"
   ]
  },
  {
   "cell_type": "code",
   "execution_count": 37,
   "metadata": {},
   "outputs": [],
   "source": [
    "df11['Engage Time'] = df11['Engage Time'].astype('datetime64[s]')\n",
    "df11['Escalated Time'] = df11['Escalated Time'].astype('datetime64[s]')"
   ]
  },
  {
   "cell_type": "code",
   "execution_count": 38,
   "metadata": {},
   "outputs": [
    {
     "data": {
      "text/plain": [
       "array(['Clarity', 'UDP2', 'CAMS', 'Datadog', 'udp2', 'cams', 'clarity',\n",
       "       'devops', 'api,cams', 'udp', 'pki', 'api', 'inquisito'],\n",
       "      dtype=object)"
      ]
     },
     "execution_count": 38,
     "metadata": {},
     "output_type": "execute_result"
    }
   ],
   "source": [
    "df11['Product'].unique()"
   ]
  },
  {
   "cell_type": "markdown",
   "metadata": {},
   "source": [
    "## Changing Data to Upper Case"
   ]
  },
  {
   "cell_type": "code",
   "execution_count": 39,
   "metadata": {},
   "outputs": [],
   "source": [
    "df11['TSG'] = df11['TSG'].apply(lambda name : name.upper())\n",
    "df11['Product'] = df11['Product'].apply(lambda name : name.upper())\n",
    "df11['Location'] = df11['Location'].apply(lambda name : name.upper())\n",
    "#df11['Assignee'] = df11['Assignee'].apply(lambda name : name.upper())\n",
    "df11['Weekday'] = df11['Weekday'].apply(lambda name : name.upper())\n",
    "df11['NAR'] = df11['NAR'].apply(lambda name : name.upper())\n",
    "df11['RNE'] = df11['RNE'].apply(lambda name : name.upper())\n",
    "df11['ETS'] = df11['ETS'].apply(lambda name : name.upper())"
   ]
  },
  {
   "cell_type": "markdown",
   "metadata": {},
   "source": [
    "## Removing Spaces from Product, Priority, Subject, TSG, RCA, Jira Ticket, Customer Impacted and Location"
   ]
  },
  {
   "cell_type": "code",
   "execution_count": 40,
   "metadata": {},
   "outputs": [],
   "source": [
    "df11.Product = df11.Product.str.replace(\" \",\"\")\n",
    "df11.Priority = df11.Priority.str.replace(\" \",\"\")\n",
    "df11.Location = df11.Location.str.replace(\" \",\"\")\n",
    "df11.TSG = df11.TSG.str.replace(\" \",\"\")\n",
    "df11['Jira Ticket'] = df11['Jira Ticket'].str.strip()\n",
    "df11['Subject'] = df11['Subject'].str.strip()\n",
    "df11['Customer Impacted'] = df11['Customer Impacted'].str.strip()\n",
    "df11['RCA'] = df11['RCA'].str.strip()\n",
    "df11['NAR'] = df11['NAR'].str.strip()\n",
    "df11['RNE'] = df11['RNE'].str.strip()\n",
    "df11['ETS'] = df11['ETS'].str.strip()"
   ]
  },
  {
   "cell_type": "markdown",
   "metadata": {},
   "source": [
    "## Replacing Name of the Products NILE and UAM"
   ]
  },
  {
   "cell_type": "code",
   "execution_count": 41,
   "metadata": {},
   "outputs": [],
   "source": [
    "df11.Product = df11.Product.str.replace(\"NILE\",\"API\")\n",
    "df11.Product = df11.Product.str.replace(\"UAM\",\"CAMS\")"
   ]
  },
  {
   "cell_type": "markdown",
   "metadata": {},
   "source": [
    "## Chaning Value of TSG from YES & NO to 1 & 0"
   ]
  },
  {
   "cell_type": "code",
   "execution_count": 42,
   "metadata": {},
   "outputs": [],
   "source": [
    "df11['NAR'] = df11['NAR'].replace({'NO': 0, 'YES': 1})\n",
    "df11['RNE'] = df11['RNE'].replace({'NO': 0, 'YES': 1})\n",
    "df11['ETS'] = df11['ETS'].replace({'NO': 0, 'YES': 1})\n",
    "df11['TSG'] = df11['TSG'].replace({'NO': 0, 'YES': 1,'YES,NO':1,'NO,YES':1})"
   ]
  },
  {
   "cell_type": "markdown",
   "metadata": {},
   "source": [
    "## Chaning data type from Object to Categorical"
   ]
  },
  {
   "cell_type": "code",
   "execution_count": 43,
   "metadata": {},
   "outputs": [],
   "source": [
    "df11['Priority'] = pd.Categorical(df11['Priority'])\n",
    "df11['Product'] = pd.Categorical(df11['Product'])\n",
    "df11['Location'] = pd.Categorical(df11['Location'])\n",
    "df11['Assignee'] = pd.Categorical(df11['Assignee'])"
   ]
  },
  {
   "cell_type": "code",
   "execution_count": 44,
   "metadata": {},
   "outputs": [],
   "source": [
    "#Defining common color for each product\n",
    "#products = df1.Product.unique()\n",
    "#product_color = {}\n",
    "#for i in range(0,len(products)):\n",
    "#    product_color[products[i]] = str(\"C\")+str(i)"
   ]
  },
  {
   "cell_type": "code",
   "execution_count": 45,
   "metadata": {},
   "outputs": [],
   "source": [
    "#Defining common color for each product\n",
    "#priority = df1.Priority.unique()\n",
    "#priority_color = {}\n",
    "#for i in range(0,len(priority)):\n",
    "#    priority_color[priority[i]] = str(\"C\")+str(i)"
   ]
  },
  {
   "cell_type": "markdown",
   "metadata": {},
   "source": [
    "## Defining common color for each product"
   ]
  },
  {
   "cell_type": "code",
   "execution_count": 46,
   "metadata": {},
   "outputs": [
    {
     "name": "stdout",
     "output_type": "stream",
     "text": [
      "The available list is : ['CLARITY', 'DATADOG', 'API', 'UDP', 'CAMS', 'DEVOPS', 'API,CAMS', 'UDP2', 'PKI', 'INQUISITO']\n",
      "The original list is : ['INQUISITO', 'DEVOPS', 'CAMS', 'API', 'PKI', 'UDP', 'CLARITY', 'UDP2', 'DAP']\n",
      "The list after performing remove operation is : ['DATADOG', 'API,CAMS']\n",
      "Original key list is : ['DATADOG', 'API,CAMS']\n",
      "Original value list is : ['C15', 'C16']\n",
      "Resultant dictionary is : {'DATADOG': 'C15', 'API,CAMS': 'C16'}\n",
      "None\n",
      "{'UDP': 'C0', 'CLARITY': 'C1', 'API': 'C2', 'DEVOPS': 'C3', 'SHARE': 'C4', 'CAMS': 'C5', 'ARTIFACTORY': 'C6', 'COEUS': 'C7', 'JIRA': 'C10', 'UDP2': 'C11', 'PKI': 'C13', 'INQUISITO': 'C14', 'DATADOG': 'C15', 'API,CAMS': 'C16'}\n"
     ]
    }
   ],
   "source": [
    "product_color = {'UDP': 'C0',\n",
    " 'CLARITY': 'C1',\n",
    " 'API': 'C2',\n",
    " 'DEVOPS': 'C3',\n",
    " 'SHARE': 'C4',\n",
    " 'CAMS': 'C5',\n",
    " 'ARTIFACTORY' : 'C6',\n",
    " 'COEUS':'C7',\n",
    " 'JIRA': 'C10',\n",
    " 'UDP2': 'C11',\n",
    " 'PKI': 'C13',\n",
    " 'INQUISITO': 'C14'}\n",
    "\n",
    "\n",
    "products = list(df11.Product.unique())\n",
    "for product in products:\n",
    "    # solve\n",
    "    product = product.split(',')\n",
    "final_product = products + product\n",
    "final_product1 = list(set(final_product))\n",
    "\n",
    "\n",
    "# initializing remove list\n",
    "product_list = ['INQUISITO','DEVOPS','CAMS','API','PKI','UDP','CLARITY','UDP2','DAP']\n",
    " \n",
    "# printing original list\n",
    "print (\"The available list is : \" + str(final_product1))\n",
    " \n",
    "# printing remove list\n",
    "print (\"The original list is : \" + str(product_list))\n",
    " \n",
    "# using list comprehension to perform task\n",
    "res1 = [i for i in final_product1 if i not in product_list]\n",
    " \n",
    "# printing result\n",
    "print (\"The list after performing remove operation is : \" + str(res1))\n",
    "\n",
    "string = \"C\"\n",
    "list1 = res1\n",
    "list2 = list(range(15,15+len(list1)))\n",
    "list2 = list(map(lambda orig_string: string + str(orig_string), list2))\n",
    "list2\n",
    "\n",
    "# Printing original keys-value lists\n",
    "print(\"Original key list is : \" + str(list1))\n",
    "print(\"Original value list is : \" + str(list2))\n",
    " \n",
    "# using naive method\n",
    "# to convert lists to dictionary\n",
    "res = {}\n",
    "for key in list1:\n",
    "    for value in list2:\n",
    "        res[key] = value\n",
    "        list2.remove(value)\n",
    "        break\n",
    " \n",
    "# Printing resultant dictionary\n",
    "print(\"Resultant dictionary is : \" + str(res))\n",
    "\n",
    "def Merge(dict1, dict2):\n",
    "    return(dict2.update(dict1))\n",
    "\n",
    "# This will return None\n",
    "print(Merge(res, product_color))\n",
    " \n",
    "# changes made in product_color    \n",
    "print(product_color)"
   ]
  },
  {
   "cell_type": "markdown",
   "metadata": {},
   "source": [
    "## Defining common color for each priority"
   ]
  },
  {
   "cell_type": "code",
   "execution_count": 47,
   "metadata": {},
   "outputs": [],
   "source": [
    "priority_color = {'P4': 'C2','P3': 'C0','P2': 'C1','P1': 'C3' }"
   ]
  },
  {
   "cell_type": "markdown",
   "metadata": {},
   "source": [
    "## Creating a new Column TTAES for finding out the minimum value from TTA and TTAE"
   ]
  },
  {
   "cell_type": "code",
   "execution_count": 48,
   "metadata": {},
   "outputs": [],
   "source": [
    "df11['TTAES'] = df11[['TTA','TTAE']].min(axis=1)\n",
    "df11['TTAES'] = df11['TTAES'].fillna(0)\n",
    "df11['TTAES'] = df11['TTAES'].apply(np.int64)"
   ]
  },
  {
   "cell_type": "markdown",
   "metadata": {},
   "source": [
    "## Creating a new column RBS (Resolved By SME)"
   ]
  },
  {
   "cell_type": "code",
   "execution_count": 49,
   "metadata": {},
   "outputs": [],
   "source": [
    "conditions = [(df11.NAR==0) & (df11.RNE==0) & (df11.ETS==1)]\n",
    "values = [1]\n",
    "df11['RBS'] = np.select(conditions, values, 0)"
   ]
  },
  {
   "cell_type": "markdown",
   "metadata": {},
   "source": [
    "## Creating a new column Shift, find out alert came in which shift"
   ]
  },
  {
   "cell_type": "code",
   "execution_count": 50,
   "metadata": {},
   "outputs": [],
   "source": [
    "df11['Shift'] = df11['Hours'].apply(lambda x: 'Second' if (x>1 and x<10) else ('Night' if (x>9 and x<18) else 'First'))"
   ]
  },
  {
   "cell_type": "markdown",
   "metadata": {},
   "source": [
    "## Creating a new column Shifts, combining both Day and Shift"
   ]
  },
  {
   "cell_type": "code",
   "execution_count": 51,
   "metadata": {},
   "outputs": [],
   "source": [
    "df11['Shifts'] = df11['Day'].astype(str) + df11['Shift']"
   ]
  },
  {
   "cell_type": "markdown",
   "metadata": {},
   "source": [
    "## Setting the threshold value for tte time to engage"
   ]
  },
  {
   "cell_type": "code",
   "execution_count": 52,
   "metadata": {},
   "outputs": [],
   "source": [
    "tte_P4_threshold = 60\n",
    "tte_P3_threshold = 20\n",
    "tte_P2_threshold = 15\n",
    "tte_P1_threshold = 10"
   ]
  },
  {
   "cell_type": "markdown",
   "metadata": {},
   "source": [
    "## Setting the threshold value for ttae time to escalate and action"
   ]
  },
  {
   "cell_type": "code",
   "execution_count": 53,
   "metadata": {},
   "outputs": [],
   "source": [
    "ttae_P4_threshold=75\n",
    "ttae_P3_threshold=35\n",
    "ttae_P2_threshold=25\n",
    "ttae_P1_threshold=20"
   ]
  },
  {
   "cell_type": "markdown",
   "metadata": {},
   "source": [
    "## Sorting Date Time in ascending order."
   ]
  },
  {
   "cell_type": "code",
   "execution_count": 54,
   "metadata": {},
   "outputs": [],
   "source": [
    "df11.sort_values(by=\"Date Time\",inplace=True)"
   ]
  },
  {
   "cell_type": "markdown",
   "metadata": {},
   "source": [
    "## Handling the Missing Value for Start and End Date"
   ]
  },
  {
   "cell_type": "code",
   "execution_count": 55,
   "metadata": {},
   "outputs": [
    {
     "name": "stdout",
     "output_type": "stream",
     "text": [
      "Start Date has been already entered\n",
      "End Date has been already entered\n"
     ]
    }
   ],
   "source": [
    "if Start_D == \"\":\n",
    "    Start_D = df11.iloc[1,25].strftime('%Y-%m-%d')\n",
    "    print(\"Start Date :\",Start_D)\n",
    "else:\n",
    "    print(\"Start Date has been already entered\")\n",
    "if End_D == \"\":\n",
    "    End_D = df11.iloc[-1,25].strftime('%Y-%m-%d')\n",
    "    print(\"End Date :\",End_D)\n",
    "else:\n",
    "    print(\"End Date has been already entered\")"
   ]
  },
  {
   "cell_type": "markdown",
   "metadata": {},
   "source": [
    "## Correcting the Start and End Date Value if the order is entered incorrectly"
   ]
  },
  {
   "cell_type": "code",
   "execution_count": 56,
   "metadata": {
    "scrolled": true
   },
   "outputs": [
    {
     "name": "stdout",
     "output_type": "stream",
     "text": [
      "Date Range has been entered properly\n",
      "Start Date : 2023-03-01\n",
      "End Date : 2023-03-20\n"
     ]
    }
   ],
   "source": [
    "if Start_D > End_D:\n",
    "    print(\"Start Date and End Date will be corrected automatically /n Next time please enter date properly\")\n",
    "    st_dt = End_D\n",
    "    ed_dt = Start_D\n",
    "else:\n",
    "    print(\"Date Range has been entered properly\")\n",
    "    st_dt = Start_D\n",
    "    ed_dt = End_D\n",
    "Start_D = st_dt\n",
    "End_D = ed_dt\n",
    "print(\"Start Date :\",Start_D)\n",
    "print(\"End Date :\",End_D)"
   ]
  },
  {
   "cell_type": "markdown",
   "metadata": {},
   "source": [
    "## Setting the Date Range as per the user requirement"
   ]
  },
  {
   "cell_type": "code",
   "execution_count": 57,
   "metadata": {},
   "outputs": [],
   "source": [
    "if prod == \"\":\n",
    "    mask = (df11['Date'] >= Start_D) & (df11['Date'] <= End_D)\n",
    "else:\n",
    "    mask = (df11['Date'] >= Start_D) & (df11['Date'] <= End_D) & (df11['Product'] == prod)\n",
    "filtered_df=df11.loc[mask]\n",
    "df1 = filtered_df.copy()\n",
    "df1['Date'] = df1['Date'].dt.strftime('%m-%d-%Y')"
   ]
  },
  {
   "cell_type": "code",
   "execution_count": 58,
   "metadata": {},
   "outputs": [],
   "source": [
    "# Defining Start Date and End Date from the filtered Data.\n",
    "sd = df1.iloc[1,6]\n",
    "ed = df1.iloc[-1,6]"
   ]
  },
  {
   "cell_type": "code",
   "execution_count": 59,
   "metadata": {},
   "outputs": [
    {
     "name": "stdout",
     "output_type": "stream",
     "text": [
      "Date-Range : 2023-03-01 02:10:00 to 2023-03-20 05:16:00\n"
     ]
    },
    {
     "data": {
      "text/html": [
       "<div>\n",
       "<style scoped>\n",
       "    .dataframe tbody tr th:only-of-type {\n",
       "        vertical-align: middle;\n",
       "    }\n",
       "\n",
       "    .dataframe tbody tr th {\n",
       "        vertical-align: top;\n",
       "    }\n",
       "\n",
       "    .dataframe thead th {\n",
       "        text-align: right;\n",
       "    }\n",
       "</style>\n",
       "<table border=\"1\" class=\"dataframe\">\n",
       "  <thead>\n",
       "    <tr style=\"text-align: right;\">\n",
       "      <th></th>\n",
       "      <th>Count</th>\n",
       "      <th>TTD</th>\n",
       "      <th>TTE</th>\n",
       "      <th>TTA</th>\n",
       "      <th>TTES</th>\n",
       "      <th>TTR</th>\n",
       "    </tr>\n",
       "    <tr>\n",
       "      <th>Product</th>\n",
       "      <th></th>\n",
       "      <th></th>\n",
       "      <th></th>\n",
       "      <th></th>\n",
       "      <th></th>\n",
       "      <th></th>\n",
       "    </tr>\n",
       "  </thead>\n",
       "  <tbody>\n",
       "    <tr>\n",
       "      <th>API</th>\n",
       "      <td>1</td>\n",
       "      <td>1.0</td>\n",
       "      <td>0.000000</td>\n",
       "      <td>3.000000</td>\n",
       "      <td>NaN</td>\n",
       "      <td>12.000000</td>\n",
       "    </tr>\n",
       "    <tr>\n",
       "      <th>API,CAMS</th>\n",
       "      <td>1</td>\n",
       "      <td>1.0</td>\n",
       "      <td>1.000000</td>\n",
       "      <td>6.000000</td>\n",
       "      <td>NaN</td>\n",
       "      <td>36.000000</td>\n",
       "    </tr>\n",
       "    <tr>\n",
       "      <th>CAMS</th>\n",
       "      <td>9</td>\n",
       "      <td>1.0</td>\n",
       "      <td>0.666667</td>\n",
       "      <td>NaN</td>\n",
       "      <td>20.000000</td>\n",
       "      <td>20.888889</td>\n",
       "    </tr>\n",
       "    <tr>\n",
       "      <th>CLARITY</th>\n",
       "      <td>43</td>\n",
       "      <td>1.0</td>\n",
       "      <td>0.558140</td>\n",
       "      <td>134.000000</td>\n",
       "      <td>13.000000</td>\n",
       "      <td>105.767442</td>\n",
       "    </tr>\n",
       "    <tr>\n",
       "      <th>DATADOG</th>\n",
       "      <td>1</td>\n",
       "      <td>1.0</td>\n",
       "      <td>0.000000</td>\n",
       "      <td>NaN</td>\n",
       "      <td>6.000000</td>\n",
       "      <td>1763.000000</td>\n",
       "    </tr>\n",
       "    <tr>\n",
       "      <th>DEVOPS</th>\n",
       "      <td>1</td>\n",
       "      <td>1.0</td>\n",
       "      <td>1.000000</td>\n",
       "      <td>NaN</td>\n",
       "      <td>NaN</td>\n",
       "      <td>2.000000</td>\n",
       "    </tr>\n",
       "    <tr>\n",
       "      <th>INQUISITO</th>\n",
       "      <td>1</td>\n",
       "      <td>1.0</td>\n",
       "      <td>0.000000</td>\n",
       "      <td>NaN</td>\n",
       "      <td>NaN</td>\n",
       "      <td>1.000000</td>\n",
       "    </tr>\n",
       "    <tr>\n",
       "      <th>PKI</th>\n",
       "      <td>2</td>\n",
       "      <td>1.0</td>\n",
       "      <td>1.500000</td>\n",
       "      <td>NaN</td>\n",
       "      <td>1.000000</td>\n",
       "      <td>127.000000</td>\n",
       "    </tr>\n",
       "    <tr>\n",
       "      <th>UDP</th>\n",
       "      <td>2</td>\n",
       "      <td>1.0</td>\n",
       "      <td>0.500000</td>\n",
       "      <td>NaN</td>\n",
       "      <td>NaN</td>\n",
       "      <td>1.000000</td>\n",
       "    </tr>\n",
       "    <tr>\n",
       "      <th>UDP2</th>\n",
       "      <td>107</td>\n",
       "      <td>1.0</td>\n",
       "      <td>0.719626</td>\n",
       "      <td>89.666667</td>\n",
       "      <td>31.833333</td>\n",
       "      <td>44.626168</td>\n",
       "    </tr>\n",
       "  </tbody>\n",
       "</table>\n",
       "</div>"
      ],
      "text/plain": [
       "           Count  TTD       TTE         TTA       TTES          TTR\n",
       "Product                                                            \n",
       "API            1  1.0  0.000000    3.000000        NaN    12.000000\n",
       "API,CAMS       1  1.0  1.000000    6.000000        NaN    36.000000\n",
       "CAMS           9  1.0  0.666667         NaN  20.000000    20.888889\n",
       "CLARITY       43  1.0  0.558140  134.000000  13.000000   105.767442\n",
       "DATADOG        1  1.0  0.000000         NaN   6.000000  1763.000000\n",
       "DEVOPS         1  1.0  1.000000         NaN        NaN     2.000000\n",
       "INQUISITO      1  1.0  0.000000         NaN        NaN     1.000000\n",
       "PKI            2  1.0  1.500000         NaN   1.000000   127.000000\n",
       "UDP            2  1.0  0.500000         NaN        NaN     1.000000\n",
       "UDP2         107  1.0  0.719626   89.666667  31.833333    44.626168"
      ]
     },
     "execution_count": 59,
     "metadata": {},
     "output_type": "execute_result"
    }
   ],
   "source": [
    "print('Date-Range :',sd,'to',ed)\n",
    "df1.groupby(by='Product').agg(Count=('Product', 'size'),TTD=('TTD', 'mean'), TTE=('TTE', 'mean'),TTA=('TTA', 'mean'),TTES=('TTAE', 'mean') ,TTR=('TTR', 'mean'))"
   ]
  },
  {
   "cell_type": "code",
   "execution_count": 60,
   "metadata": {},
   "outputs": [
    {
     "data": {
      "text/plain": [
       "array([0, 1], dtype=int64)"
      ]
     },
     "execution_count": 60,
     "metadata": {},
     "output_type": "execute_result"
    }
   ],
   "source": [
    "df11.RNE.unique()"
   ]
  },
  {
   "cell_type": "code",
   "execution_count": 61,
   "metadata": {},
   "outputs": [
    {
     "name": "stdout",
     "output_type": "stream",
     "text": [
      "Date-Range : 2023-03-01 02:10:00 to 2023-03-20 05:16:00\n"
     ]
    },
    {
     "data": {
      "text/html": [
       "<div>\n",
       "<style scoped>\n",
       "    .dataframe tbody tr th:only-of-type {\n",
       "        vertical-align: middle;\n",
       "    }\n",
       "\n",
       "    .dataframe tbody tr th {\n",
       "        vertical-align: top;\n",
       "    }\n",
       "\n",
       "    .dataframe thead th {\n",
       "        text-align: right;\n",
       "    }\n",
       "</style>\n",
       "<table border=\"1\" class=\"dataframe\">\n",
       "  <thead>\n",
       "    <tr style=\"text-align: right;\">\n",
       "      <th></th>\n",
       "      <th>Frequency</th>\n",
       "      <th>Auto_Resolved</th>\n",
       "      <th>Action_Taken_by_NOC</th>\n",
       "      <th>Escalated_to_SME</th>\n",
       "    </tr>\n",
       "    <tr>\n",
       "      <th>Product</th>\n",
       "      <th></th>\n",
       "      <th></th>\n",
       "      <th></th>\n",
       "      <th></th>\n",
       "    </tr>\n",
       "  </thead>\n",
       "  <tbody>\n",
       "    <tr>\n",
       "      <th>API</th>\n",
       "      <td>1</td>\n",
       "      <td>0</td>\n",
       "      <td>1</td>\n",
       "      <td>0</td>\n",
       "    </tr>\n",
       "    <tr>\n",
       "      <th>API,CAMS</th>\n",
       "      <td>1</td>\n",
       "      <td>0</td>\n",
       "      <td>1</td>\n",
       "      <td>0</td>\n",
       "    </tr>\n",
       "    <tr>\n",
       "      <th>CAMS</th>\n",
       "      <td>9</td>\n",
       "      <td>9</td>\n",
       "      <td>0</td>\n",
       "      <td>2</td>\n",
       "    </tr>\n",
       "    <tr>\n",
       "      <th>CLARITY</th>\n",
       "      <td>43</td>\n",
       "      <td>42</td>\n",
       "      <td>0</td>\n",
       "      <td>4</td>\n",
       "    </tr>\n",
       "    <tr>\n",
       "      <th>DATADOG</th>\n",
       "      <td>1</td>\n",
       "      <td>1</td>\n",
       "      <td>0</td>\n",
       "      <td>1</td>\n",
       "    </tr>\n",
       "    <tr>\n",
       "      <th>DEVOPS</th>\n",
       "      <td>1</td>\n",
       "      <td>1</td>\n",
       "      <td>0</td>\n",
       "      <td>0</td>\n",
       "    </tr>\n",
       "    <tr>\n",
       "      <th>INQUISITO</th>\n",
       "      <td>1</td>\n",
       "      <td>1</td>\n",
       "      <td>0</td>\n",
       "      <td>0</td>\n",
       "    </tr>\n",
       "    <tr>\n",
       "      <th>PKI</th>\n",
       "      <td>2</td>\n",
       "      <td>2</td>\n",
       "      <td>0</td>\n",
       "      <td>1</td>\n",
       "    </tr>\n",
       "    <tr>\n",
       "      <th>UDP</th>\n",
       "      <td>2</td>\n",
       "      <td>2</td>\n",
       "      <td>0</td>\n",
       "      <td>0</td>\n",
       "    </tr>\n",
       "    <tr>\n",
       "      <th>UDP2</th>\n",
       "      <td>107</td>\n",
       "      <td>104</td>\n",
       "      <td>0</td>\n",
       "      <td>6</td>\n",
       "    </tr>\n",
       "  </tbody>\n",
       "</table>\n",
       "</div>"
      ],
      "text/plain": [
       "           Frequency  Auto_Resolved  Action_Taken_by_NOC  Escalated_to_SME\n",
       "Product                                                                   \n",
       "API                1              0                    1                 0\n",
       "API,CAMS           1              0                    1                 0\n",
       "CAMS               9              9                    0                 2\n",
       "CLARITY           43             42                    0                 4\n",
       "DATADOG            1              1                    0                 1\n",
       "DEVOPS             1              1                    0                 0\n",
       "INQUISITO          1              1                    0                 0\n",
       "PKI                2              2                    0                 1\n",
       "UDP                2              2                    0                 0\n",
       "UDP2             107            104                    0                 6"
      ]
     },
     "execution_count": 61,
     "metadata": {},
     "output_type": "execute_result"
    }
   ],
   "source": [
    "print('Date-Range :',sd,'to',ed)\n",
    "df1.groupby('Product').agg(Frequency=('Product', 'size'),Auto_Resolved=('NAR', 'sum'), Action_Taken_by_NOC=('RNE', 'sum'), Escalated_to_SME=('ETS', 'sum'))"
   ]
  },
  {
   "cell_type": "code",
   "execution_count": 62,
   "metadata": {},
   "outputs": [
    {
     "name": "stdout",
     "output_type": "stream",
     "text": [
      "Date-Range : 2023-03-01 02:10:00 to 2023-03-20 05:16:00\n"
     ]
    },
    {
     "data": {
      "text/html": [
       "<div>\n",
       "<style scoped>\n",
       "    .dataframe tbody tr th:only-of-type {\n",
       "        vertical-align: middle;\n",
       "    }\n",
       "\n",
       "    .dataframe tbody tr th {\n",
       "        vertical-align: top;\n",
       "    }\n",
       "\n",
       "    .dataframe thead th {\n",
       "        text-align: right;\n",
       "    }\n",
       "</style>\n",
       "<table border=\"1\" class=\"dataframe\">\n",
       "  <thead>\n",
       "    <tr style=\"text-align: right;\">\n",
       "      <th></th>\n",
       "      <th>Frequency</th>\n",
       "      <th>TTD</th>\n",
       "      <th>TTE</th>\n",
       "      <th>TTA</th>\n",
       "      <th>TTES</th>\n",
       "      <th>TTR</th>\n",
       "      <th>Percent</th>\n",
       "    </tr>\n",
       "    <tr>\n",
       "      <th>Priority</th>\n",
       "      <th></th>\n",
       "      <th></th>\n",
       "      <th></th>\n",
       "      <th></th>\n",
       "      <th></th>\n",
       "      <th></th>\n",
       "      <th></th>\n",
       "    </tr>\n",
       "  </thead>\n",
       "  <tbody>\n",
       "    <tr>\n",
       "      <th>P1</th>\n",
       "      <td>1</td>\n",
       "      <td>1.0</td>\n",
       "      <td>0.000000</td>\n",
       "      <td>40.0</td>\n",
       "      <td>10.000000</td>\n",
       "      <td>80.000000</td>\n",
       "      <td>0.6</td>\n",
       "    </tr>\n",
       "    <tr>\n",
       "      <th>P3</th>\n",
       "      <td>5</td>\n",
       "      <td>1.0</td>\n",
       "      <td>0.600000</td>\n",
       "      <td>134.0</td>\n",
       "      <td>13.333333</td>\n",
       "      <td>455.400000</td>\n",
       "      <td>3.0</td>\n",
       "    </tr>\n",
       "    <tr>\n",
       "      <th>P4</th>\n",
       "      <td>162</td>\n",
       "      <td>1.0</td>\n",
       "      <td>0.679012</td>\n",
       "      <td>59.5</td>\n",
       "      <td>23.300000</td>\n",
       "      <td>56.938272</td>\n",
       "      <td>96.4</td>\n",
       "    </tr>\n",
       "  </tbody>\n",
       "</table>\n",
       "</div>"
      ],
      "text/plain": [
       "          Frequency  TTD       TTE    TTA       TTES         TTR  Percent\n",
       "Priority                                                                 \n",
       "P1                1  1.0  0.000000   40.0  10.000000   80.000000      0.6\n",
       "P3                5  1.0  0.600000  134.0  13.333333  455.400000      3.0\n",
       "P4              162  1.0  0.679012   59.5  23.300000   56.938272     96.4"
      ]
     },
     "execution_count": 62,
     "metadata": {},
     "output_type": "execute_result"
    }
   ],
   "source": [
    "print('Date-Range :',sd,'to',ed)\n",
    "df1_PP = df1.groupby('Priority').agg(Frequency=('Priority', 'size'),TTD=('TTD', 'mean'), TTE=('TTE', 'mean'),TTA=('TTA', 'mean'),TTES=('TTAE', 'mean') , TTR=('TTR', 'mean'),)\n",
    "df1_PP['Percent'] = round((df1_PP['Frequency'] / df1_PP['Frequency'].sum()) * 100,1)\n",
    "df1_PP"
   ]
  },
  {
   "cell_type": "code",
   "execution_count": 63,
   "metadata": {},
   "outputs": [
    {
     "name": "stdout",
     "output_type": "stream",
     "text": [
      "Date-Range : 2023-03-01 02:10:00 to 2023-03-20 05:16:00\n"
     ]
    },
    {
     "data": {
      "text/html": [
       "<div>\n",
       "<style scoped>\n",
       "    .dataframe tbody tr th:only-of-type {\n",
       "        vertical-align: middle;\n",
       "    }\n",
       "\n",
       "    .dataframe tbody tr th {\n",
       "        vertical-align: top;\n",
       "    }\n",
       "\n",
       "    .dataframe thead th {\n",
       "        text-align: right;\n",
       "    }\n",
       "</style>\n",
       "<table border=\"1\" class=\"dataframe\">\n",
       "  <thead>\n",
       "    <tr style=\"text-align: right;\">\n",
       "      <th></th>\n",
       "      <th>Frequency</th>\n",
       "      <th>Auto_Resolved</th>\n",
       "      <th>Action_Taken_by_NOC</th>\n",
       "      <th>Escalated_to_SME</th>\n",
       "    </tr>\n",
       "    <tr>\n",
       "      <th>Priority</th>\n",
       "      <th></th>\n",
       "      <th></th>\n",
       "      <th></th>\n",
       "      <th></th>\n",
       "    </tr>\n",
       "  </thead>\n",
       "  <tbody>\n",
       "    <tr>\n",
       "      <th>P1</th>\n",
       "      <td>1</td>\n",
       "      <td>0</td>\n",
       "      <td>0</td>\n",
       "      <td>1</td>\n",
       "    </tr>\n",
       "    <tr>\n",
       "      <th>P3</th>\n",
       "      <td>5</td>\n",
       "      <td>4</td>\n",
       "      <td>0</td>\n",
       "      <td>3</td>\n",
       "    </tr>\n",
       "    <tr>\n",
       "      <th>P4</th>\n",
       "      <td>162</td>\n",
       "      <td>158</td>\n",
       "      <td>2</td>\n",
       "      <td>10</td>\n",
       "    </tr>\n",
       "  </tbody>\n",
       "</table>\n",
       "</div>"
      ],
      "text/plain": [
       "          Frequency  Auto_Resolved  Action_Taken_by_NOC  Escalated_to_SME\n",
       "Priority                                                                 \n",
       "P1                1              0                    0                 1\n",
       "P3                5              4                    0                 3\n",
       "P4              162            158                    2                10"
      ]
     },
     "execution_count": 63,
     "metadata": {},
     "output_type": "execute_result"
    }
   ],
   "source": [
    "print('Date-Range :',sd,'to',ed)\n",
    "df1.groupby('Priority').agg(Frequency=('Priority', 'size'),Auto_Resolved=('NAR', 'sum'), Action_Taken_by_NOC=('RNE', 'sum'), Escalated_to_SME=('ETS', 'sum'))"
   ]
  },
  {
   "cell_type": "code",
   "execution_count": 64,
   "metadata": {},
   "outputs": [
    {
     "name": "stdout",
     "output_type": "stream",
     "text": [
      "Date-Range : 2023-03-01 02:10:00 to 2023-03-20 05:16:00\n"
     ]
    },
    {
     "data": {
      "text/html": [
       "<div>\n",
       "<style scoped>\n",
       "    .dataframe tbody tr th:only-of-type {\n",
       "        vertical-align: middle;\n",
       "    }\n",
       "\n",
       "    .dataframe tbody tr th {\n",
       "        vertical-align: top;\n",
       "    }\n",
       "\n",
       "    .dataframe thead th {\n",
       "        text-align: right;\n",
       "    }\n",
       "</style>\n",
       "<table border=\"1\" class=\"dataframe\">\n",
       "  <thead>\n",
       "    <tr style=\"text-align: right;\">\n",
       "      <th></th>\n",
       "      <th>Frequency</th>\n",
       "      <th>Percent</th>\n",
       "    </tr>\n",
       "    <tr>\n",
       "      <th>Date</th>\n",
       "      <th></th>\n",
       "      <th></th>\n",
       "    </tr>\n",
       "  </thead>\n",
       "  <tbody>\n",
       "    <tr>\n",
       "      <th>03-01-2023</th>\n",
       "      <td>21</td>\n",
       "      <td>12.5</td>\n",
       "    </tr>\n",
       "    <tr>\n",
       "      <th>03-02-2023</th>\n",
       "      <td>9</td>\n",
       "      <td>5.4</td>\n",
       "    </tr>\n",
       "    <tr>\n",
       "      <th>03-03-2023</th>\n",
       "      <td>10</td>\n",
       "      <td>6.0</td>\n",
       "    </tr>\n",
       "    <tr>\n",
       "      <th>03-04-2023</th>\n",
       "      <td>12</td>\n",
       "      <td>7.1</td>\n",
       "    </tr>\n",
       "    <tr>\n",
       "      <th>03-05-2023</th>\n",
       "      <td>9</td>\n",
       "      <td>5.4</td>\n",
       "    </tr>\n",
       "    <tr>\n",
       "      <th>03-06-2023</th>\n",
       "      <td>10</td>\n",
       "      <td>6.0</td>\n",
       "    </tr>\n",
       "    <tr>\n",
       "      <th>03-07-2023</th>\n",
       "      <td>16</td>\n",
       "      <td>9.5</td>\n",
       "    </tr>\n",
       "    <tr>\n",
       "      <th>03-08-2023</th>\n",
       "      <td>7</td>\n",
       "      <td>4.2</td>\n",
       "    </tr>\n",
       "    <tr>\n",
       "      <th>03-09-2023</th>\n",
       "      <td>7</td>\n",
       "      <td>4.2</td>\n",
       "    </tr>\n",
       "    <tr>\n",
       "      <th>03-10-2023</th>\n",
       "      <td>8</td>\n",
       "      <td>4.8</td>\n",
       "    </tr>\n",
       "    <tr>\n",
       "      <th>03-11-2023</th>\n",
       "      <td>11</td>\n",
       "      <td>6.5</td>\n",
       "    </tr>\n",
       "    <tr>\n",
       "      <th>03-12-2023</th>\n",
       "      <td>9</td>\n",
       "      <td>5.4</td>\n",
       "    </tr>\n",
       "    <tr>\n",
       "      <th>03-13-2023</th>\n",
       "      <td>8</td>\n",
       "      <td>4.8</td>\n",
       "    </tr>\n",
       "    <tr>\n",
       "      <th>03-14-2023</th>\n",
       "      <td>10</td>\n",
       "      <td>6.0</td>\n",
       "    </tr>\n",
       "    <tr>\n",
       "      <th>03-15-2023</th>\n",
       "      <td>4</td>\n",
       "      <td>2.4</td>\n",
       "    </tr>\n",
       "    <tr>\n",
       "      <th>03-16-2023</th>\n",
       "      <td>11</td>\n",
       "      <td>6.5</td>\n",
       "    </tr>\n",
       "    <tr>\n",
       "      <th>03-17-2023</th>\n",
       "      <td>2</td>\n",
       "      <td>1.2</td>\n",
       "    </tr>\n",
       "    <tr>\n",
       "      <th>03-18-2023</th>\n",
       "      <td>2</td>\n",
       "      <td>1.2</td>\n",
       "    </tr>\n",
       "    <tr>\n",
       "      <th>03-20-2023</th>\n",
       "      <td>2</td>\n",
       "      <td>1.2</td>\n",
       "    </tr>\n",
       "  </tbody>\n",
       "</table>\n",
       "</div>"
      ],
      "text/plain": [
       "            Frequency  Percent\n",
       "Date                          \n",
       "03-01-2023         21     12.5\n",
       "03-02-2023          9      5.4\n",
       "03-03-2023         10      6.0\n",
       "03-04-2023         12      7.1\n",
       "03-05-2023          9      5.4\n",
       "03-06-2023         10      6.0\n",
       "03-07-2023         16      9.5\n",
       "03-08-2023          7      4.2\n",
       "03-09-2023          7      4.2\n",
       "03-10-2023          8      4.8\n",
       "03-11-2023         11      6.5\n",
       "03-12-2023          9      5.4\n",
       "03-13-2023          8      4.8\n",
       "03-14-2023         10      6.0\n",
       "03-15-2023          4      2.4\n",
       "03-16-2023         11      6.5\n",
       "03-17-2023          2      1.2\n",
       "03-18-2023          2      1.2\n",
       "03-20-2023          2      1.2"
      ]
     },
     "execution_count": 64,
     "metadata": {},
     "output_type": "execute_result"
    }
   ],
   "source": [
    "print('Date-Range :',sd,'to',ed)\n",
    "df1_ID = df1.groupby(by='Date').agg(Frequency=('Date', 'size'))\n",
    "df1_ID['Percent'] = round((df1_ID['Frequency'] / df1_ID['Frequency'].sum()) * 100,1)\n",
    "df1_ID"
   ]
  },
  {
   "cell_type": "code",
   "execution_count": 65,
   "metadata": {},
   "outputs": [
    {
     "name": "stdout",
     "output_type": "stream",
     "text": [
      "Date-Range : 2023-03-01 02:10:00 to 2023-03-20 05:16:00\n"
     ]
    },
    {
     "data": {
      "text/html": [
       "<div>\n",
       "<style scoped>\n",
       "    .dataframe tbody tr th:only-of-type {\n",
       "        vertical-align: middle;\n",
       "    }\n",
       "\n",
       "    .dataframe tbody tr th {\n",
       "        vertical-align: top;\n",
       "    }\n",
       "\n",
       "    .dataframe thead th {\n",
       "        text-align: right;\n",
       "    }\n",
       "</style>\n",
       "<table border=\"1\" class=\"dataframe\">\n",
       "  <thead>\n",
       "    <tr style=\"text-align: right;\">\n",
       "      <th></th>\n",
       "      <th>Frequency</th>\n",
       "      <th>TTD</th>\n",
       "      <th>TTE</th>\n",
       "      <th>TTA</th>\n",
       "      <th>TTES</th>\n",
       "      <th>TTR</th>\n",
       "    </tr>\n",
       "    <tr>\n",
       "      <th>Date</th>\n",
       "      <th></th>\n",
       "      <th></th>\n",
       "      <th></th>\n",
       "      <th></th>\n",
       "      <th></th>\n",
       "      <th></th>\n",
       "    </tr>\n",
       "  </thead>\n",
       "  <tbody>\n",
       "    <tr>\n",
       "      <th>03-01-2023</th>\n",
       "      <td>21</td>\n",
       "      <td>1.0</td>\n",
       "      <td>0.523810</td>\n",
       "      <td>NaN</td>\n",
       "      <td>20.0</td>\n",
       "      <td>70.523810</td>\n",
       "    </tr>\n",
       "    <tr>\n",
       "      <th>03-02-2023</th>\n",
       "      <td>9</td>\n",
       "      <td>1.0</td>\n",
       "      <td>0.666667</td>\n",
       "      <td>NaN</td>\n",
       "      <td>NaN</td>\n",
       "      <td>67.777778</td>\n",
       "    </tr>\n",
       "    <tr>\n",
       "      <th>03-03-2023</th>\n",
       "      <td>10</td>\n",
       "      <td>1.0</td>\n",
       "      <td>0.600000</td>\n",
       "      <td>6.0</td>\n",
       "      <td>NaN</td>\n",
       "      <td>21.500000</td>\n",
       "    </tr>\n",
       "    <tr>\n",
       "      <th>03-04-2023</th>\n",
       "      <td>12</td>\n",
       "      <td>1.0</td>\n",
       "      <td>0.833333</td>\n",
       "      <td>NaN</td>\n",
       "      <td>9.0</td>\n",
       "      <td>68.416667</td>\n",
       "    </tr>\n",
       "    <tr>\n",
       "      <th>03-05-2023</th>\n",
       "      <td>9</td>\n",
       "      <td>1.0</td>\n",
       "      <td>0.666667</td>\n",
       "      <td>NaN</td>\n",
       "      <td>NaN</td>\n",
       "      <td>74.333333</td>\n",
       "    </tr>\n",
       "    <tr>\n",
       "      <th>03-06-2023</th>\n",
       "      <td>10</td>\n",
       "      <td>1.0</td>\n",
       "      <td>0.800000</td>\n",
       "      <td>134.0</td>\n",
       "      <td>8.0</td>\n",
       "      <td>82.700000</td>\n",
       "    </tr>\n",
       "    <tr>\n",
       "      <th>03-07-2023</th>\n",
       "      <td>16</td>\n",
       "      <td>1.0</td>\n",
       "      <td>0.375000</td>\n",
       "      <td>NaN</td>\n",
       "      <td>2.0</td>\n",
       "      <td>65.812500</td>\n",
       "    </tr>\n",
       "    <tr>\n",
       "      <th>03-08-2023</th>\n",
       "      <td>7</td>\n",
       "      <td>1.0</td>\n",
       "      <td>0.428571</td>\n",
       "      <td>NaN</td>\n",
       "      <td>3.5</td>\n",
       "      <td>333.000000</td>\n",
       "    </tr>\n",
       "    <tr>\n",
       "      <th>03-09-2023</th>\n",
       "      <td>7</td>\n",
       "      <td>1.0</td>\n",
       "      <td>0.714286</td>\n",
       "      <td>NaN</td>\n",
       "      <td>NaN</td>\n",
       "      <td>39.285714</td>\n",
       "    </tr>\n",
       "    <tr>\n",
       "      <th>03-10-2023</th>\n",
       "      <td>8</td>\n",
       "      <td>1.0</td>\n",
       "      <td>0.750000</td>\n",
       "      <td>54.0</td>\n",
       "      <td>38.0</td>\n",
       "      <td>69.750000</td>\n",
       "    </tr>\n",
       "    <tr>\n",
       "      <th>03-11-2023</th>\n",
       "      <td>11</td>\n",
       "      <td>1.0</td>\n",
       "      <td>0.636364</td>\n",
       "      <td>NaN</td>\n",
       "      <td>28.0</td>\n",
       "      <td>38.545455</td>\n",
       "    </tr>\n",
       "    <tr>\n",
       "      <th>03-12-2023</th>\n",
       "      <td>9</td>\n",
       "      <td>1.0</td>\n",
       "      <td>0.333333</td>\n",
       "      <td>40.0</td>\n",
       "      <td>10.0</td>\n",
       "      <td>69.555556</td>\n",
       "    </tr>\n",
       "    <tr>\n",
       "      <th>03-13-2023</th>\n",
       "      <td>8</td>\n",
       "      <td>1.0</td>\n",
       "      <td>1.750000</td>\n",
       "      <td>NaN</td>\n",
       "      <td>15.0</td>\n",
       "      <td>21.375000</td>\n",
       "    </tr>\n",
       "    <tr>\n",
       "      <th>03-14-2023</th>\n",
       "      <td>10</td>\n",
       "      <td>1.0</td>\n",
       "      <td>0.800000</td>\n",
       "      <td>NaN</td>\n",
       "      <td>NaN</td>\n",
       "      <td>13.700000</td>\n",
       "    </tr>\n",
       "    <tr>\n",
       "      <th>03-15-2023</th>\n",
       "      <td>4</td>\n",
       "      <td>1.0</td>\n",
       "      <td>1.250000</td>\n",
       "      <td>NaN</td>\n",
       "      <td>1.0</td>\n",
       "      <td>64.250000</td>\n",
       "    </tr>\n",
       "    <tr>\n",
       "      <th>03-16-2023</th>\n",
       "      <td>11</td>\n",
       "      <td>1.0</td>\n",
       "      <td>0.545455</td>\n",
       "      <td>NaN</td>\n",
       "      <td>NaN</td>\n",
       "      <td>55.181818</td>\n",
       "    </tr>\n",
       "    <tr>\n",
       "      <th>03-17-2023</th>\n",
       "      <td>2</td>\n",
       "      <td>1.0</td>\n",
       "      <td>0.500000</td>\n",
       "      <td>NaN</td>\n",
       "      <td>NaN</td>\n",
       "      <td>45.000000</td>\n",
       "    </tr>\n",
       "    <tr>\n",
       "      <th>03-18-2023</th>\n",
       "      <td>2</td>\n",
       "      <td>1.0</td>\n",
       "      <td>0.000000</td>\n",
       "      <td>NaN</td>\n",
       "      <td>NaN</td>\n",
       "      <td>135.000000</td>\n",
       "    </tr>\n",
       "    <tr>\n",
       "      <th>03-20-2023</th>\n",
       "      <td>2</td>\n",
       "      <td>1.0</td>\n",
       "      <td>1.000000</td>\n",
       "      <td>124.0</td>\n",
       "      <td>108.0</td>\n",
       "      <td>79.500000</td>\n",
       "    </tr>\n",
       "  </tbody>\n",
       "</table>\n",
       "</div>"
      ],
      "text/plain": [
       "            Frequency  TTD       TTE    TTA   TTES         TTR\n",
       "Date                                                          \n",
       "03-01-2023         21  1.0  0.523810    NaN   20.0   70.523810\n",
       "03-02-2023          9  1.0  0.666667    NaN    NaN   67.777778\n",
       "03-03-2023         10  1.0  0.600000    6.0    NaN   21.500000\n",
       "03-04-2023         12  1.0  0.833333    NaN    9.0   68.416667\n",
       "03-05-2023          9  1.0  0.666667    NaN    NaN   74.333333\n",
       "03-06-2023         10  1.0  0.800000  134.0    8.0   82.700000\n",
       "03-07-2023         16  1.0  0.375000    NaN    2.0   65.812500\n",
       "03-08-2023          7  1.0  0.428571    NaN    3.5  333.000000\n",
       "03-09-2023          7  1.0  0.714286    NaN    NaN   39.285714\n",
       "03-10-2023          8  1.0  0.750000   54.0   38.0   69.750000\n",
       "03-11-2023         11  1.0  0.636364    NaN   28.0   38.545455\n",
       "03-12-2023          9  1.0  0.333333   40.0   10.0   69.555556\n",
       "03-13-2023          8  1.0  1.750000    NaN   15.0   21.375000\n",
       "03-14-2023         10  1.0  0.800000    NaN    NaN   13.700000\n",
       "03-15-2023          4  1.0  1.250000    NaN    1.0   64.250000\n",
       "03-16-2023         11  1.0  0.545455    NaN    NaN   55.181818\n",
       "03-17-2023          2  1.0  0.500000    NaN    NaN   45.000000\n",
       "03-18-2023          2  1.0  0.000000    NaN    NaN  135.000000\n",
       "03-20-2023          2  1.0  1.000000  124.0  108.0   79.500000"
      ]
     },
     "execution_count": 65,
     "metadata": {},
     "output_type": "execute_result"
    }
   ],
   "source": [
    "print('Date-Range :',sd,'to',ed)\n",
    "df1.groupby('Date').agg(Frequency=('Date', 'size'),TTD=('TTD', 'mean'), TTE=('TTE', 'mean'),TTA=('TTA', 'mean'),TTES=('TTAE', 'mean'), TTR=('TTR', 'mean'),)"
   ]
  },
  {
   "cell_type": "code",
   "execution_count": 66,
   "metadata": {},
   "outputs": [],
   "source": [
    "df1_sf  = df1.filter(['Jira Ticket','Product','Location','Priority','Date Time','TTD','TTE','TTA','TTAE','TTR'])"
   ]
  },
  {
   "cell_type": "code",
   "execution_count": 67,
   "metadata": {},
   "outputs": [],
   "source": [
    "df1_p4 = df1_sf.loc[df1_sf.Priority == \"P4\"]\n",
    "df1_p3 = df1_sf.loc[df1_sf.Priority == \"P3\"]\n",
    "df1_p2 = df1_sf.loc[df1_sf.Priority == \"P2\"]\n",
    "df1_p1 = df1_sf.loc[df1_sf.Priority == \"P1\"]"
   ]
  },
  {
   "cell_type": "markdown",
   "metadata": {},
   "source": [
    "## Calculating P4 SLA for TTe and TTae"
   ]
  },
  {
   "cell_type": "code",
   "execution_count": 68,
   "metadata": {
    "scrolled": true
   },
   "outputs": [
    {
     "name": "stdout",
     "output_type": "stream",
     "text": [
      "Date-Range : 2023-03-01 02:10:00 to 2023-03-20 05:16:00\n",
      "Their are total 162 P4 Incidents\n",
      "##################################################################################################\n",
      "SLA for P4 TTE is 100.0%\n",
      "No P4 Alerts breached TTE\n",
      "##################################################################################################\n",
      "SLA for P4 TTAE is 99.38%\n",
      "P4 Tickets which missed the SLA for TTE\n",
      "   Jira Ticket Product Location           Date Time  TTAE_P4\n",
      "42    INC-3618    UDP2       US 2023-03-20 04:06:00      108\n"
     ]
    }
   ],
   "source": [
    "print('Date-Range :',sd,'to',ed)\n",
    "if df1_p4.shape[0] == 0:\n",
    "    print(\"Their are no P4 Incidents\")\n",
    "else: \n",
    "    print(\"Their are total\",df1_p4.shape[0],\"P4 Incidents\")\n",
    "    print(\"##################################################################################################\")\n",
    "    df1_p4['T_TTE_P4'] =df1_p4['TTE'].apply(lambda x: 0 if x < tte_P4_threshold else 1)\n",
    "    P4_SLA_TTE = round(((df1_p4.shape[0]-df1_p4['T_TTE_P4'].sum())/df1_p4.shape[0])*100,2)\n",
    "    print(\"SLA for P4 TTE is\",str(P4_SLA_TTE)+\"%\")\n",
    "    df1_p4_TTE = df1_p4.loc[df1_p4.T_TTE_P4 == 1]\n",
    "    if df1_p4_TTE.shape[0] == 0:\n",
    "        print(\"No P4 Alerts breached TTE\")\n",
    "    else:\n",
    "        print(\"P4 Tickets which missed the SLA for TTE\")\n",
    "        print(df1_p4_TTE.filter(['Jira Ticket','Product','Location','Date Time','TTE_P4']))\n",
    "    print(\"##################################################################################################\") \n",
    "    df1_p4['TTAE_P4'] = df1_p4[['TTA','TTAE']].min(axis=1)\n",
    "    df1_p4['TTAE_P4'] = df1_p4['TTAE_P4'].fillna(0)\n",
    "    df1_p4['TTAE_P4'] = df1_p4['TTAE_P4'].apply(np.int64)\n",
    "    df1_p4['T_TTAE_P4'] =df1_p4['TTAE_P4'].apply(lambda x: 0 if x < ttae_P4_threshold else 1)\n",
    "    P4_SLA_TTAE = round(((df1_p4.shape[0]-df1_p4['T_TTAE_P4'].sum())/df1_p4.shape[0])*100,2)\n",
    "    print(\"SLA for P4 TTAE is\",str(P4_SLA_TTAE)+\"%\")\n",
    "    df1_p4_TTAE = df1_p4.loc[df1_p4.T_TTAE_P4 == 1]\n",
    "    if df1_p4_TTAE.shape[0] == 0:\n",
    "        print(\"No P4 Alerts breached TTE\")\n",
    "    else:\n",
    "        print(\"P4 Tickets which missed the SLA for TTE\")\n",
    "        print(df1_p4_TTAE.filter(['Jira Ticket','Product','Location','Date Time','TTAE_P4']))"
   ]
  },
  {
   "cell_type": "markdown",
   "metadata": {},
   "source": [
    "## Calculating P3 SLA for TTe and TTae"
   ]
  },
  {
   "cell_type": "code",
   "execution_count": 69,
   "metadata": {},
   "outputs": [
    {
     "name": "stdout",
     "output_type": "stream",
     "text": [
      "Date-Range : 2023-03-01 02:10:00 to 2023-03-20 05:16:00\n",
      "Their are total 5 P3 Incidents\n",
      "##################################################################################################\n",
      "SLA for P3 TTE is 100.0%\n",
      "No P3 Alerts breached TTE\n",
      "##################################################################################################\n",
      "SLA for P3 TTAE is 100.0%\n",
      "No P3 Alerts breached TTE\n",
      "##################################################################################################\n"
     ]
    }
   ],
   "source": [
    "print('Date-Range :',sd,'to',ed)\n",
    "if df1_p3.shape[0] == 0:\n",
    "    print(\"Their are no P3 Incidents\")\n",
    "else: \n",
    "    print(\"Their are total\",df1_p3.shape[0],\"P3 Incidents\")\n",
    "    print(\"##################################################################################################\")\n",
    "    df1_p3['T_TTE_P3'] =df1_p3['TTE'].apply(lambda x: 0 if x < tte_P3_threshold else 1)\n",
    "    P3_SLA_TTE = round(((df1_p3.shape[0]-df1_p3['T_TTE_P3'].sum())/df1_p3.shape[0])*100,2)\n",
    "    print(\"SLA for P3 TTE is\",str(P3_SLA_TTE)+\"%\")\n",
    "    df1_p3_TTE = df1_p3.loc[df1_p3.T_TTE_P3 == 1]\n",
    "    if df1_p3_TTE.shape[0] == 0:\n",
    "        print(\"No P3 Alerts breached TTE\")\n",
    "    else:\n",
    "        print(\"P3 Tickets which missed the SLA for TTE\")\n",
    "        print(df1_p3_TTE.filter(['Jira Ticket','Product','Location','Date Time','TTE_P3']))\n",
    "    print(\"##################################################################################################\")\n",
    "    df1_p3['TTAE_P3'] = df1_p3[['TTA','TTAE']].min(axis=1)\n",
    "    df1_p3['TTAE_P3'] = df1_p3['TTAE_P3'].fillna(0)\n",
    "    df1_p3['TTAE_P3'] = df1_p3['TTAE_P3'].apply(np.int64)\n",
    "    df1_p3['T_TTAE_P3'] =df1_p3['TTAE_P3'].apply(lambda x: 0 if x < ttae_P3_threshold else 1)\n",
    "    P3_SLA_TTAE = round(((df1_p3.shape[0]-df1_p3['T_TTAE_P3'].sum())/df1_p3.shape[0])*100,2)\n",
    "    print(\"SLA for P3 TTAE is\",str(P3_SLA_TTAE)+\"%\")\n",
    "    df1_p3_TTAE = df1_p3.loc[df1_p3.T_TTAE_P3 == 1]\n",
    "    if df1_p3_TTAE.shape[0] == 0:\n",
    "        print(\"No P3 Alerts breached TTE\")\n",
    "    else:\n",
    "        print(\"P3 Tickets which missed the SLA for TTE\")\n",
    "        print(df1_p3_TTAE.filter(['Jira Ticket','Product','Location','Date Time','TTAE_P3']))\n",
    "    print(\"##################################################################################################\")"
   ]
  },
  {
   "cell_type": "markdown",
   "metadata": {},
   "source": [
    "## Calculating P2 SLA for TTe and TTae"
   ]
  },
  {
   "cell_type": "code",
   "execution_count": 70,
   "metadata": {},
   "outputs": [
    {
     "name": "stdout",
     "output_type": "stream",
     "text": [
      "Date-Range : 2023-03-01 02:10:00 to 2023-03-20 05:16:00\n",
      "Their are no P2 Incidents\n"
     ]
    }
   ],
   "source": [
    "print('Date-Range :',sd,'to',ed)\n",
    "if df1_p2.shape[0] == 0:\n",
    "    print(\"Their are no P2 Incidents\")\n",
    "else: \n",
    "    print(\"Their are total\",df1_p2.shape[0],\"P2 Incidents\")\n",
    "    df1_p2['T_TTE_P2'] =df1_p2['TTE'].apply(lambda x: 0 if x < tte_P2_threshold else 1)\n",
    "    P2_SLA_TTE = round(((df1_p2.shape[0]-df1_p2['T_TTE_P2'].sum())/df1_p2.shape[0])*100,2)\n",
    "    print(\"SLA for P2 TTE is\",str(P2_SLA_TTE)+\"%\")\n",
    "    df1_p2_TTE = df1_p2.loc[df1_p2.T_TTE_P2 == 1]\n",
    "    if df1_p2_TTE.shape[0] == 0:\n",
    "        print(\"No P2 Alerts breached TTE\")\n",
    "    else:\n",
    "        print(\"P2 Tickets which missed the SLA for TTE\")\n",
    "        print(df1_p2_TTE.filter(['Jira Ticket','Product','Location','Date Time','TTE_P2']))\n",
    "    print(\"##################################################################################################\")\n",
    "    df1_p2['TTAE_P2'] = df1_p2[['TTA','TTAE']].min(axis=1)\n",
    "    df1_p2['TTAE_P2'] = df1_p2['TTAE_P2'].fillna(0)\n",
    "    df1_p2['TTAE_P2'] = df1_p2['TTAE_P2'].apply(np.int64)\n",
    "    df1_p2['T_TTAE_P2'] =df1_p2['TTAE_P2'].apply(lambda x: 0 if x < ttae_P2_threshold else 1)\n",
    "    P2_SLA_TTAE = round(((df1_p2.shape[0]-df1_p2['T_TTAE_P2'].sum())/df1_p2.shape[0])*100,2)\n",
    "    print(\"SLA for P2 TTAE is\",str(P2_SLA_TTAE)+\"%\")\n",
    "    df1_p2_TTAE = df1_p2.loc[df1_p2.T_TTAE_P2 == 1]\n",
    "    if df1_p2_TTAE.shape[0] == 0:\n",
    "        print(\"No P2 Alerts breached TTE\")\n",
    "    else:\n",
    "        print(\"P2 Tickets which missed the SLA for TTE ===>\")\n",
    "        print(\"_______________________________________________\")\n",
    "        print(df1_p2_TTAE.filter(['Jira Ticket','Product','Location','Date Time','TTAE_P2']))"
   ]
  },
  {
   "cell_type": "markdown",
   "metadata": {},
   "source": [
    "## Calculating P1 SLA for TTe and TTae"
   ]
  },
  {
   "cell_type": "code",
   "execution_count": 71,
   "metadata": {},
   "outputs": [
    {
     "name": "stdout",
     "output_type": "stream",
     "text": [
      "Date-Range : 2023-03-01 02:10:00 to 2023-03-20 05:16:00\n",
      "Their are total 1 P1 Incidents\n",
      "SLA for P1 TTE is 100.0%\n",
      "No P1 Alerts breached TTE\n",
      "##################################################################################################\n",
      "SLA for P1 TTAE is 100.0%\n",
      "No P1 Alerts breached TTE\n"
     ]
    }
   ],
   "source": [
    "print('Date-Range :',sd,'to',ed)\n",
    "if df1_p1.shape[0] == 0:\n",
    "    print(\"Their are no P1 Incidents\")\n",
    "else: \n",
    "    print(\"Their are total\",df1_p1.shape[0],\"P1 Incidents\")\n",
    "    df1_p1['T_TTE_P1'] =df1_p1['TTE'].apply(lambda x: 0 if x < tte_P1_threshold else 1)\n",
    "    P1_SLA_TTE = round(((df1_p1.shape[0]-df1_p1['T_TTE_P1'].sum())/df1_p1.shape[0])*100,2)\n",
    "    print(\"SLA for P1 TTE is\",str(P1_SLA_TTE)+\"%\")\n",
    "    df1_p1_TTE = df1_p1.loc[df1_p1.T_TTE_P1 == 1]\n",
    "    if df1_p1_TTE.shape[0] == 0:\n",
    "        print(\"No P1 Alerts breached TTE\")\n",
    "    else:\n",
    "        print(\"P1 Tickets which missed the SLA for TTE\")\n",
    "        print(df1_p1_TTE.filter(['Jira Ticket','Product','Location','Date Time','TTE_P1']))\n",
    "    print(\"##################################################################################################\")\n",
    "    df1_p1['TTAE_P1'] = df1_p1[['TTA','TTAE']].min(axis=1)\n",
    "    df1_p1['TTAE_P1'] = df1_p1['TTAE_P1'].fillna(0)\n",
    "    df1_p1['TTAE_P1'] = df1_p1['TTAE_P1'].apply(np.int64)\n",
    "    df1_p1['T_TTAE_P1'] =df1_p1['TTAE_P1'].apply(lambda x: 0 if x < ttae_P1_threshold else 1)\n",
    "    P1_SLA_TTAE = round(((df1_p1.shape[0]-df1_p1['T_TTAE_P1'].sum())/df1_p1.shape[0])*100,2)\n",
    "    print(\"SLA for P1 TTAE is\",str(P1_SLA_TTAE)+\"%\")\n",
    "    df1_p1_TTAE = df1_p1.loc[df1_p1.T_TTAE_P1 == 1]\n",
    "    if df1_p1_TTAE.shape[0] == 0:\n",
    "        print(\"No P1 Alerts breached TTE\")\n",
    "    else:\n",
    "        print(\"P1 Tickets which missed the SLA for TTE\")\n",
    "        print(df1_p1_TTAE.filter(['Jira Ticket','Product','Location','Date Time','TTAE_P1']))"
   ]
  },
  {
   "cell_type": "code",
   "execution_count": 72,
   "metadata": {},
   "outputs": [],
   "source": [
    "%matplotlib inline"
   ]
  },
  {
   "cell_type": "markdown",
   "metadata": {},
   "source": [
    "## Defining few index"
   ]
  },
  {
   "cell_type": "code",
   "execution_count": 73,
   "metadata": {},
   "outputs": [],
   "source": [
    "sort_day = ['FRIDAY', 'SATURDAY','SUNDAY', 'MONDAY', 'TUESDAY', 'WEDNESDAY', 'THURSDAY']\n",
    "sort_hour = [0,1,2,3,4,5,6,7,8,9,10,11,12,13,14,15,16,17,18,19,20,21,22,23]\n",
    "sort_date = [1,2,3,4,5,6,7,8,9,10,11,12,13,14,15,16,17,18,19,20,21,22,23,24,25,26,27,28,29,30,31]"
   ]
  },
  {
   "cell_type": "code",
   "execution_count": 74,
   "metadata": {},
   "outputs": [
    {
     "name": "stdout",
     "output_type": "stream",
     "text": [
      "Date-Range : 2023-03-01 02:10:00 to 2023-03-20 05:16:00\n"
     ]
    },
    {
     "data": {
      "image/png": "[encoded data removed]",
      "text/plain": [
       "<Figure size 1008x360 with 1 Axes>"
      ]
     },
     "metadata": {
      "needs_background": "light"
     },
     "output_type": "display_data"
    }
   ],
   "source": [
    "print('Date-Range :',sd,'to',ed)\n",
    "ax = df1['Product'].value_counts().plot(kind='bar',figsize=(14,5),rot=0)\n",
    "for c in ax.containers:\n",
    "    ax.bar_label(c, label_type='center')\n",
    "plt.xticks(rotation = 360)\n",
    "plt.title('Incident Count by Product(Fill=Priority)')\n",
    "plt.ylabel('Incident Count')\n",
    "plt.show()"
   ]
  },
  {
   "cell_type": "markdown",
   "metadata": {},
   "source": [
    "## Incident count by Product (Fill-Priority)"
   ]
  },
  {
   "cell_type": "code",
   "execution_count": 75,
   "metadata": {},
   "outputs": [
    {
     "name": "stdout",
     "output_type": "stream",
     "text": [
      "Date-Range : 2023-03-01 02:10:00 to 2023-03-20 05:16:00\n"
     ]
    },
    {
     "data": {
      "image/png": "[encoded data removed]",
      "text/plain": [
       "<Figure size 864x360 with 1 Axes>"
      ]
     },
     "metadata": {
      "needs_background": "light"
     },
     "output_type": "display_data"
    }
   ],
   "source": [
    "print('Date-Range :',sd,'to',ed)\n",
    "ax = df1.groupby(['Product','Priority']).size().unstack().plot(kind='bar',stacked=True,figsize=(12,5),color=priority_color, rot=0, xlabel='Product', ylabel='Count')\n",
    "for c in ax.containers:\n",
    "    ax.bar_label(c, label_type='center')\n",
    "plt.xticks(rotation = 360)\n",
    "plt.title('Incident Count by Product(Fill=Priority)')\n",
    "plt.ylabel('Incident Count')\n",
    "plt.show()"
   ]
  },
  {
   "cell_type": "markdown",
   "metadata": {},
   "source": [
    "## Incident count by Date (Fill-Priority)"
   ]
  },
  {
   "cell_type": "code",
   "execution_count": 76,
   "metadata": {},
   "outputs": [
    {
     "name": "stdout",
     "output_type": "stream",
     "text": [
      "Date-Range : 2023-03-01 02:10:00 to 2023-03-20 05:16:00\n"
     ]
    },
    {
     "data": {
      "image/png": "[encoded data removed]",
      "text/plain": [
       "<Figure size 1080x360 with 1 Axes>"
      ]
     },
     "metadata": {
      "needs_background": "light"
     },
     "output_type": "display_data"
    }
   ],
   "source": [
    "print('Date-Range :',sd,'to',ed)\n",
    "ax = df1.groupby(['Date','Priority']).size().unstack().plot(kind='bar',stacked=True,figsize=(15,5),color=priority_color)\n",
    "for c in ax.containers:\n",
    "    ax.bar_label(c, label_type='center')\n",
    "plt.xticks(rotation = 360)\n",
    "plt.title('Incident Count by Date(Fill=Priority)')\n",
    "plt.ylabel('Incident Count')\n",
    "plt.show()"
   ]
  },
  {
   "cell_type": "code",
   "execution_count": 77,
   "metadata": {},
   "outputs": [
    {
     "name": "stdout",
     "output_type": "stream",
     "text": [
      "Date-Range : 2023-03-01 02:10:00 to 2023-03-20 05:16:00\n"
     ]
    },
    {
     "data": {
      "image/png": "[encoded data removed]",
      "text/plain": [
       "<Figure size 1080x360 with 1 Axes>"
      ]
     },
     "metadata": {
      "needs_background": "light"
     },
     "output_type": "display_data"
    }
   ],
   "source": [
    "print('Date-Range :',sd,'to',ed)\n",
    "ax = df1.groupby(['Day','Priority']).size().unstack().reindex(sort_date).plot(kind='bar',stacked=True,figsize=(15,5),color=priority_color)\n",
    "for c in ax.containers:\n",
    "    ax.bar_label(c, label_type='center')\n",
    "plt.xticks(rotation = 360)\n",
    "plt.title('Incident Count by Date(Fill=Priority)')\n",
    "plt.ylabel('Incident Count')\n",
    "plt.show()"
   ]
  },
  {
   "cell_type": "markdown",
   "metadata": {},
   "source": [
    "## Incident count by Weekday (Fill-Priority)"
   ]
  },
  {
   "cell_type": "code",
   "execution_count": 78,
   "metadata": {},
   "outputs": [
    {
     "name": "stdout",
     "output_type": "stream",
     "text": [
      "Date-Range : 2023-03-01 02:10:00 to 2023-03-20 05:16:00\n"
     ]
    },
    {
     "data": {
      "image/png": "[encoded data removed]",
      "text/plain": [
       "<Figure size 720x360 with 1 Axes>"
      ]
     },
     "metadata": {
      "needs_background": "light"
     },
     "output_type": "display_data"
    }
   ],
   "source": [
    "print('Date-Range :',sd,'to',ed)\n",
    "ax = df1.groupby(['Weekday','Priority']).size().unstack().reindex(sort_day).plot(kind='bar',stacked=True,figsize=(10,5),color=priority_color)\n",
    "for c in ax.containers:\n",
    "    ax.bar_label(c, label_type='center')\n",
    "plt.xticks(rotation = 360)\n",
    "plt.title('Incident Count by Weekday(Fill=Priority)')\n",
    "plt.ylabel('Incident Count')\n",
    "plt.show()"
   ]
  },
  {
   "cell_type": "markdown",
   "metadata": {},
   "source": [
    "## Incident count by Date (Fill-Product)"
   ]
  },
  {
   "cell_type": "code",
   "execution_count": 79,
   "metadata": {},
   "outputs": [
    {
     "name": "stdout",
     "output_type": "stream",
     "text": [
      "Date-Range : 2023-03-01 02:10:00 to 2023-03-20 05:16:00\n"
     ]
    },
    {
     "data": {
      "image/png": "[encoded data removed]",
      "text/plain": [
       "<Figure size 1080x360 with 1 Axes>"
      ]
     },
     "metadata": {
      "needs_background": "light"
     },
     "output_type": "display_data"
    }
   ],
   "source": [
    "print('Date-Range :',sd,'to',ed)\n",
    "ax = df1.groupby(['Date','Product']).size().unstack().plot(kind='bar',stacked=True,figsize=(15,5),color=product_color)\n",
    "for c in ax.containers:\n",
    "    ax.bar_label(c, label_type='center')\n",
    "plt.xticks(rotation =45)\n",
    "plt.title('Incident Count by date(Fill=Product)')\n",
    "plt.ylabel('Incident Count')\n",
    "plt.show()"
   ]
  },
  {
   "cell_type": "code",
   "execution_count": 80,
   "metadata": {},
   "outputs": [
    {
     "name": "stdout",
     "output_type": "stream",
     "text": [
      "Date-Range : 2023-03-01 02:10:00 to 2023-03-20 05:16:00\n"
     ]
    },
    {
     "data": {
      "image/png": "[encoded data removed]",
      "text/plain": [
       "<Figure size 1080x360 with 1 Axes>"
      ]
     },
     "metadata": {
      "needs_background": "light"
     },
     "output_type": "display_data"
    }
   ],
   "source": [
    "print('Date-Range :',sd,'to',ed)\n",
    "ax = df1.groupby(['Day','Product']).size().unstack().reindex(sort_date).plot(kind='bar',stacked=True,figsize=(15,5),color=product_color)\n",
    "for c in ax.containers:\n",
    "    ax.bar_label(c, label_type='center')\n",
    "plt.xticks(rotation =360)\n",
    "plt.title('Incident Count by date(Fill=Product)')\n",
    "plt.ylabel('Incident Count')\n",
    "plt.show()"
   ]
  },
  {
   "cell_type": "markdown",
   "metadata": {},
   "source": [
    "## Incident count by Weekday (Fill-Product)"
   ]
  },
  {
   "cell_type": "code",
   "execution_count": 81,
   "metadata": {},
   "outputs": [
    {
     "name": "stdout",
     "output_type": "stream",
     "text": [
      "Date-Range : 2023-03-01 02:10:00 to 2023-03-20 05:16:00\n"
     ]
    },
    {
     "data": {
      "image/png": "[encoded data removed]",
      "text/plain": [
       "<Figure size 720x360 with 1 Axes>"
      ]
     },
     "metadata": {
      "needs_background": "light"
     },
     "output_type": "display_data"
    }
   ],
   "source": [
    "print('Date-Range :',sd,'to',ed)\n",
    "ax = df1.groupby(['Weekday','Product']).size().unstack().reindex(sort_day).plot(kind='bar',stacked=True,figsize=(10,5),color=product_color)\n",
    "for c in ax.containers:\n",
    "    ax.bar_label(c, label_type='center')\n",
    "plt.xticks(rotation =360)\n",
    "plt.title('Incident Count by Weekday(Fill=Product)')\n",
    "plt.ylabel('Incident Count')\n",
    "plt.show()"
   ]
  },
  {
   "cell_type": "markdown",
   "metadata": {},
   "source": [
    "## Incident count by Location(Fill-Product)"
   ]
  },
  {
   "cell_type": "code",
   "execution_count": 82,
   "metadata": {
    "scrolled": true
   },
   "outputs": [
    {
     "name": "stdout",
     "output_type": "stream",
     "text": [
      "Date-Range : 2023-03-01 02:10:00 to 2023-03-20 05:16:00\n"
     ]
    },
    {
     "data": {
      "image/png": "[encoded data removed]",
      "text/plain": [
       "<Figure size 720x288 with 1 Axes>"
      ]
     },
     "metadata": {
      "needs_background": "light"
     },
     "output_type": "display_data"
    }
   ],
   "source": [
    "print('Date-Range :',sd,'to',ed)\n",
    "ax = df1.groupby(['Location','Product']).size().unstack().plot(kind='bar',stacked=True,figsize=(10,4),color=product_color)\n",
    "for c in ax.containers:\n",
    "    ax.bar_label(c, label_type='center')\n",
    "plt.xticks(rotation = 360)\n",
    "plt.title('Incident Count by Location(Fill=Product)')\n",
    "plt.ylabel('Incident Count')\n",
    "plt.show()"
   ]
  },
  {
   "cell_type": "markdown",
   "metadata": {},
   "source": [
    "## Auto-Resolved Incidents by Location(Fill-Product)"
   ]
  },
  {
   "cell_type": "code",
   "execution_count": 83,
   "metadata": {},
   "outputs": [
    {
     "name": "stdout",
     "output_type": "stream",
     "text": [
      "Date-Range : 2023-03-01 02:10:00 to 2023-03-20 05:16:00\n",
      "Total no. Incidents auto-resolved: 162\n"
     ]
    },
    {
     "data": {
      "image/png": "[encoded data removed]",
      "text/plain": [
       "<Figure size 720x360 with 1 Axes>"
      ]
     },
     "metadata": {
      "needs_background": "light"
     },
     "output_type": "display_data"
    }
   ],
   "source": [
    "print('Date-Range :',sd,'to',ed)\n",
    "df1_nar = df1.copy().reset_index()\n",
    "df1_nar.drop(df1_nar[(df1_nar['NAR'] == 0)].index, inplace=True)\n",
    "if df1_nar.shape[0] == 0:\n",
    "    print(\"Their are 0 auto-resolved Incidents\")\n",
    "else:\n",
    "    print(\"Total no. Incidents auto-resolved:\",df1_nar.shape[0])\n",
    "    ax = df1_nar.groupby(['Location','Product']).size().unstack().plot(kind='bar',stacked=True,figsize=(10,5),color=product_color)\n",
    "    for c in ax.containers:\n",
    "        ax.bar_label(c, label_type='center')\n",
    "    plt.xticks(rotation = 360)\n",
    "    plt.title('Incident Auto-resolved Count by Location(Fill=Product)')\n",
    "    plt.ylabel('Incident Count')\n",
    "    plt.show()"
   ]
  },
  {
   "cell_type": "markdown",
   "metadata": {},
   "source": [
    "## Escalated Incident by Location(Fill-Product)"
   ]
  },
  {
   "cell_type": "code",
   "execution_count": 84,
   "metadata": {},
   "outputs": [
    {
     "name": "stdout",
     "output_type": "stream",
     "text": [
      "Date-Range : 2023-03-01 02:10:00 to 2023-03-20 05:16:00\n",
      "Total number of Incidents Escalated to SME: 14\n"
     ]
    },
    {
     "data": {
      "image/png": "[encoded data removed]",
      "text/plain": [
       "<Figure size 720x360 with 1 Axes>"
      ]
     },
     "metadata": {
      "needs_background": "light"
     },
     "output_type": "display_data"
    }
   ],
   "source": [
    "print('Date-Range :',sd,'to',ed)\n",
    "df1_esc = df1.copy().reset_index()\n",
    "df1_esc.drop(df1_esc[(df1_esc['ETS'] == 0)].index, inplace=True)\n",
    "if df1_esc.shape[0] == 0:\n",
    "    print(\"Their are 0 Incidents Escalated to SME\")\n",
    "else:\n",
    "    print(\"Total number of Incidents Escalated to SME:\",df1_esc.shape[0])\n",
    "    ax = df1_esc.groupby(['Location','Product']).size().unstack().plot(kind='bar',stacked=True,figsize=(10,5),color=product_color)\n",
    "    for c in ax.containers:\n",
    "        ax.bar_label(c, label_type='center')\n",
    "    plt.xticks(rotation = 360)\n",
    "    plt.title('Escalated Incident Count by Location(Fill=Product)')\n",
    "    plt.ylabel('Incident Count')\n",
    "    plt.show()"
   ]
  },
  {
   "cell_type": "markdown",
   "metadata": {},
   "source": [
    "## Incidents resolved by NOC - Location(Fill-Product)"
   ]
  },
  {
   "cell_type": "code",
   "execution_count": 85,
   "metadata": {},
   "outputs": [
    {
     "name": "stdout",
     "output_type": "stream",
     "text": [
      "Date-Range : 2023-03-01 02:10:00 to 2023-03-20 05:16:00\n",
      "Total number of Incident Resolved by NOC: 2\n"
     ]
    },
    {
     "data": {
      "image/png": "[encoded data removed]",
      "text/plain": [
       "<Figure size 720x360 with 1 Axes>"
      ]
     },
     "metadata": {
      "needs_background": "light"
     },
     "output_type": "display_data"
    }
   ],
   "source": [
    "print('Date-Range :',sd,'to',ed)\n",
    "df1_rne = df1.copy().reset_index()\n",
    "df1_rne.drop(df1_rne[(df1_rne['RNE'] == 0)].index, inplace=True)\n",
    "if df1_rne.shape[0] == 0:\n",
    "    print(\"Their are 0 Incidents Resolved by NOC\")\n",
    "else:\n",
    "    print(\"Total number of Incident Resolved by NOC:\",df1_rne.shape[0])\n",
    "    ax = df1_rne.groupby(['Location','Product']).size().unstack().plot(kind='bar',stacked=True,figsize=(10,5),color=product_color)\n",
    "    for c in ax.containers:\n",
    "        ax.bar_label(c, label_type='center')\n",
    "    plt.xticks(rotation = 360)\n",
    "    plt.title('Resolved by NOC - Incident Count by Location(Fill=Product)')\n",
    "    plt.ylabel('Incident Count')\n",
    "    plt.show()"
   ]
  },
  {
   "cell_type": "markdown",
   "metadata": {},
   "source": [
    "## Final Count"
   ]
  },
  {
   "cell_type": "code",
   "execution_count": 86,
   "metadata": {},
   "outputs": [
    {
     "name": "stdout",
     "output_type": "stream",
     "text": [
      "Total number of Alerts Auto-Resolved : 162\n",
      "Total number of Alerts Resolved by NOC : 2\n",
      "Total number of Alerts Escalated to SME : 14\n"
     ]
    }
   ],
   "source": [
    "print(\"Total number of Alerts Auto-Resolved :\",df1_nar.shape[0])\n",
    "print(\"Total number of Alerts Resolved by NOC :\",df1_rne.shape[0])\n",
    "print(\"Total number of Alerts Escalated to SME :\",df1_esc.shape[0])"
   ]
  },
  {
   "cell_type": "code",
   "execution_count": 87,
   "metadata": {
    "scrolled": true
   },
   "outputs": [
    {
     "name": "stdout",
     "output_type": "stream",
     "text": [
      "Date-Range : 2023-03-01 02:10:00 to 2023-03-20 05:16:00\n"
     ]
    },
    {
     "data": {
      "image/png": "[encoded data removed]",
      "text/plain": [
       "<Figure size 864x288 with 1 Axes>"
      ]
     },
     "metadata": {
      "needs_background": "light"
     },
     "output_type": "display_data"
    }
   ],
   "source": [
    "print('Date-Range :',sd,'to',ed)\n",
    "ax = df1.groupby(['Hours','Priority']).size().unstack().reindex(sort_hour).plot(kind='bar',stacked=True,figsize=(12,4),color=priority_color)\n",
    "for c in ax.containers:\n",
    "    ax.bar_label(c, label_type='center')\n",
    "plt.xticks(rotation = 360)\n",
    "plt.title('Incident Count on hourly scale(Fill=Priority)')\n",
    "plt.ylabel('Incident Count')\n",
    "plt.show()"
   ]
  },
  {
   "cell_type": "code",
   "execution_count": 88,
   "metadata": {},
   "outputs": [
    {
     "name": "stdout",
     "output_type": "stream",
     "text": [
      "Date-Range : 2023-03-01 02:10:00 to 2023-03-20 05:16:00\n"
     ]
    },
    {
     "data": {
      "image/png": "[encoded data removed]",
      "text/plain": [
       "<Figure size 864x288 with 1 Axes>"
      ]
     },
     "metadata": {
      "needs_background": "light"
     },
     "output_type": "display_data"
    }
   ],
   "source": [
    "print('Date-Range :',sd,'to',ed)\n",
    "ax = df1.groupby(['Hours','Product']).size().unstack().reindex(sort_hour).plot(kind='bar',stacked=True,figsize=(12,4),color=product_color)\n",
    "for c in ax.containers:\n",
    "    ax.bar_label(c, label_type='center')\n",
    "plt.xticks(rotation = 360)\n",
    "plt.title('Incident Count on hourly scale(Fill=Product)')\n",
    "plt.ylabel('Incident Count')\n",
    "plt.show()"
   ]
  },
  {
   "cell_type": "code",
   "execution_count": 89,
   "metadata": {},
   "outputs": [],
   "source": [
    "pd.set_option('display.max_rows', None)"
   ]
  },
  {
   "cell_type": "code",
   "execution_count": 90,
   "metadata": {},
   "outputs": [],
   "source": [
    "df2 = df1.copy()"
   ]
  },
  {
   "cell_type": "code",
   "execution_count": 91,
   "metadata": {},
   "outputs": [],
   "source": [
    "df1['DateTime'] = df1['Date Time'].dt.strftime('%m/%d/%Y %H:%M:%S')"
   ]
  },
  {
   "cell_type": "code",
   "execution_count": 92,
   "metadata": {},
   "outputs": [
    {
     "data": {
      "text/plain": [
       "Index(['Jira Ticket', 'Subject', 'Product', 'Location', 'Priority',\n",
       "       'Customer Impacted', 'Date Time', 'Incident End', 'First Assignment',\n",
       "       'Actioned Time', 'Ticket created on', 'TTD', 'TTE', 'TTAE', 'TTA',\n",
       "       'TTR', 'Assignee', 'NAR', 'RNE', 'ETS', 'TSG', 'RCA', 'Total Alerts',\n",
       "       'Incident Start time', 'Escalated Time', 'Date', 'Month', 'Day', 'Year',\n",
       "       'Quarter', 'Week', 'Weekday', 'Dayofyear', 'Weekofyear', 'date_ordinal',\n",
       "       'Hours', 'Engage Time', 'TTAES', 'RBS', 'Shift', 'Shifts', 'DateTime'],\n",
       "      dtype='object')"
      ]
     },
     "execution_count": 92,
     "metadata": {},
     "output_type": "execute_result"
    }
   ],
   "source": [
    "df1.columns"
   ]
  },
  {
   "cell_type": "code",
   "execution_count": 93,
   "metadata": {},
   "outputs": [
    {
     "data": {
      "text/plain": [
       "TTAE   TTA    TTAES\n",
       "8.0    134.0  8        1\n",
       "10.0   40.0   10       1\n",
       "38.0   105.0  38       1\n",
       "108.0  124.0  108      1\n",
       "dtype: int64"
      ]
     },
     "execution_count": 93,
     "metadata": {},
     "output_type": "execute_result"
    }
   ],
   "source": [
    "df1.groupby(['TTAE','TTA','TTAES']).size()"
   ]
  },
  {
   "cell_type": "code",
   "execution_count": 94,
   "metadata": {},
   "outputs": [],
   "source": [
    "df_scplt_tte = df1.filter(['DateTime','TTE'])"
   ]
  },
  {
   "cell_type": "code",
   "execution_count": 95,
   "metadata": {},
   "outputs": [],
   "source": [
    "df_scplt_ttae = df1.filter(['DateTime','TTAE','TTA','TTAES'])"
   ]
  },
  {
   "cell_type": "code",
   "execution_count": 96,
   "metadata": {},
   "outputs": [],
   "source": [
    "df_scplt_ttae = df_scplt_ttae[df_scplt_ttae['TTAES'] > 0]"
   ]
  },
  {
   "cell_type": "code",
   "execution_count": 97,
   "metadata": {},
   "outputs": [],
   "source": [
    "df_scplt_tte.to_excel('ScatterPlot_tte.xlsx', index=False)"
   ]
  },
  {
   "cell_type": "code",
   "execution_count": 98,
   "metadata": {},
   "outputs": [],
   "source": [
    "df_scplt_ttae.to_excel('ScatterPlot_ttea.xlsx', index=False)"
   ]
  },
  {
   "cell_type": "code",
   "execution_count": 99,
   "metadata": {},
   "outputs": [],
   "source": [
    "df1.drop(['DateTime'], axis = 1,inplace=True)"
   ]
  },
  {
   "cell_type": "markdown",
   "metadata": {},
   "source": [
    "## Copying data to Tableau Data Source"
   ]
  },
  {
   "cell_type": "code",
   "execution_count": 100,
   "metadata": {},
   "outputs": [],
   "source": [
    "df_tab = df1.copy()"
   ]
  },
  {
   "cell_type": "code",
   "execution_count": 101,
   "metadata": {},
   "outputs": [
    {
     "data": {
      "text/plain": [
       "Index(['Jira Ticket', 'Subject', 'Product', 'Location', 'Priority',\n",
       "       'Customer Impacted', 'Date Time', 'Incident End', 'First Assignment',\n",
       "       'Actioned Time', 'Ticket created on', 'TTD', 'TTE', 'TTAE', 'TTA',\n",
       "       'TTR', 'Assignee', 'NAR', 'RNE', 'ETS', 'TSG', 'RCA', 'Total Alerts',\n",
       "       'Incident Start time', 'Escalated Time', 'Date', 'Month', 'Day', 'Year',\n",
       "       'Quarter', 'Week', 'Weekday', 'Dayofyear', 'Weekofyear', 'date_ordinal',\n",
       "       'Hours', 'Engage Time', 'TTAES', 'RBS', 'Shift', 'Shifts'],\n",
       "      dtype='object')"
      ]
     },
     "execution_count": 101,
     "metadata": {},
     "output_type": "execute_result"
    }
   ],
   "source": [
    "df_tab.columns"
   ]
  },
  {
   "cell_type": "code",
   "execution_count": 102,
   "metadata": {},
   "outputs": [],
   "source": [
    "df_tab.columns = ['Jira Ticket','Subject','Service','Location','Priority',\n",
    "                  'Customer Impacted','Opened On','Incident End Time','Engage Time',\n",
    "                  'Actioned Time','Ticket created','TTD','TTE','TTAE','TTA',\n",
    "                  'TTR','NOC User','No Action Required','Resolved by NOC Engineer','Escalated to SME','TSG Available','RCA','Total Alerts',\n",
    "                  'Incident Start time','Escalated Time', 'Date', 'Month', 'Day', 'Year',\n",
    "                  'Quarter', 'Week', 'Weekday', 'Dayofyear', 'Weekofyear', 'date_ordinal',\n",
    "                  'Hours','First Assignment','TTAES', 'Resolved by SME', 'Shift', 'Shifts']"
   ]
  },
  {
   "cell_type": "code",
   "execution_count": 103,
   "metadata": {},
   "outputs": [],
   "source": [
    "df_tab1 = df_tab.filter(['Jira Ticket','Subject','Service','Location','Priority','Customer Impacted','Incident Start time','Opened On','Incident End Time','First Assignment','Actioned Time','Ticket created','Escalated Time','NOC User','No Action Required','Resolved by NOC Engineer','Escalated to SME', 'Resolved by SME','TSG Available','RCA'])"
   ]
  },
  {
   "cell_type": "code",
   "execution_count": 104,
   "metadata": {},
   "outputs": [
    {
     "name": "stdout",
     "output_type": "stream",
     "text": [
      "<class 'pandas.core.frame.DataFrame'>\n",
      "Int64Index: 168 entries, 0 to 41\n",
      "Data columns (total 20 columns):\n",
      " #   Column                    Non-Null Count  Dtype         \n",
      "---  ------                    --------------  -----         \n",
      " 0   Jira Ticket               168 non-null    object        \n",
      " 1   Subject                   168 non-null    object        \n",
      " 2   Service                   168 non-null    category      \n",
      " 3   Location                  168 non-null    category      \n",
      " 4   Priority                  168 non-null    category      \n",
      " 5   Customer Impacted         168 non-null    object        \n",
      " 6   Incident Start time       168 non-null    datetime64[ns]\n",
      " 7   Opened On                 168 non-null    datetime64[ns]\n",
      " 8   Incident End Time         168 non-null    datetime64[ns]\n",
      " 9   First Assignment          168 non-null    datetime64[ns]\n",
      " 10  Actioned Time             48 non-null     object        \n",
      " 11  Ticket created            165 non-null    object        \n",
      " 12  Escalated Time            14 non-null     datetime64[ns]\n",
      " 13  NOC User                  163 non-null    category      \n",
      " 14  No Action Required        168 non-null    int64         \n",
      " 15  Resolved by NOC Engineer  168 non-null    int64         \n",
      " 16  Escalated to SME          168 non-null    int64         \n",
      " 17  Resolved by SME           168 non-null    int32         \n",
      " 18  TSG Available             168 non-null    int64         \n",
      " 19  RCA                       168 non-null    object        \n",
      "dtypes: category(4), datetime64[ns](5), int32(1), int64(4), object(6)\n",
      "memory usage: 23.7+ KB\n"
     ]
    }
   ],
   "source": [
    "df_tab1.info()"
   ]
  },
  {
   "cell_type": "code",
   "execution_count": 105,
   "metadata": {},
   "outputs": [],
   "source": [
    "df_tab2 = df_tab1.reset_index()"
   ]
  },
  {
   "cell_type": "code",
   "execution_count": 106,
   "metadata": {},
   "outputs": [],
   "source": [
    "df_tab1.to_csv('Tableau_results.csv', index=False)"
   ]
  },
  {
   "cell_type": "code",
   "execution_count": 107,
   "metadata": {},
   "outputs": [
    {
     "name": "stdout",
     "output_type": "stream",
     "text": [
      "Date-Range : 2023-03-01 02:10:00 to 2023-03-20 05:16:00\n"
     ]
    },
    {
     "data": {
      "image/png": "[encoded data removed]",
      "text/plain": [
       "<Figure size 720x360 with 1 Axes>"
      ]
     },
     "metadata": {
      "needs_background": "light"
     },
     "output_type": "display_data"
    }
   ],
   "source": [
    "print('Date-Range :',sd,'to',ed)\n",
    "df03 = df2.groupby(['Product','Weekday','Date']).size().reset_index().rename(columns={0:'count'})\n",
    "df03.drop(df03[(df03['count'] == 0)].index, inplace=True)\n",
    "df04 = df03.copy().reset_index()\n",
    "df04.drop('index',axis=1,inplace=True)\n",
    "df05 = df04.groupby(['Weekday','Product'],as_index=False).agg('mean')\n",
    "df06 = df05.copy()\n",
    "df06 = df06.dropna()\n",
    "df06['count'] = df06['count'].apply(np.int64)\n",
    "df07 = df06.copy().reset_index()\n",
    "df07.drop('index',axis=1,inplace=True)\n",
    "ax = df07.pivot(index='Weekday', columns='Product', values='count').reindex(sort_day).plot(kind='bar',stacked=True, figsize=(10,5),color=product_color)\n",
    "for c in ax.containers:\n",
    "    ax.bar_label(c, label_type='center')\n",
    "plt.xticks(rotation = 360)\n",
    "plt.title('Average Incident Count by Weekday(Fill=Product)')\n",
    "plt.ylabel('Incident Count')\n",
    "plt.show()"
   ]
  },
  {
   "cell_type": "code",
   "execution_count": 108,
   "metadata": {},
   "outputs": [
    {
     "name": "stdout",
     "output_type": "stream",
     "text": [
      "Date-Range : 2023-03-01 02:10:00 to 2023-03-20 05:16:00\n"
     ]
    },
    {
     "data": {
      "image/png": "[encoded data removed]",
      "text/plain": [
       "<Figure size 864x288 with 1 Axes>"
      ]
     },
     "metadata": {
      "needs_background": "light"
     },
     "output_type": "display_data"
    }
   ],
   "source": [
    "print('Date-Range :',sd,'to',ed)\n",
    "df3 = df2.groupby(['Product','Hours','Date']).size().reset_index().rename(columns={0:'count'})\n",
    "df3.drop(df3[(df3['count'] == 0)].index, inplace=True)\n",
    "df4 = df3.copy().reset_index()\n",
    "df4.drop('index',axis=1,inplace=True)\n",
    "df5 = df4.groupby(['Hours','Product'],as_index=False).agg('mean')\n",
    "df6 = df5.copy()\n",
    "df6 = df6.dropna()\n",
    "df6['count'] = df6['count'].apply(np.int64)\n",
    "df7 = df6.copy().reset_index()\n",
    "df7.drop('index',axis=1,inplace=True)\n",
    "df7.pivot(index='Hours', columns='Product', values='count').reindex(sort_hour).plot(kind='bar',stacked=True, figsize=(12,4),color=product_color)\n",
    "plt.xticks(rotation = 360)\n",
    "plt.title('Average Incident Count on hourly scale(Fill=Product)')\n",
    "plt.ylabel('Incident Count')\n",
    "plt.show()"
   ]
  },
  {
   "cell_type": "code",
   "execution_count": 109,
   "metadata": {},
   "outputs": [
    {
     "name": "stdout",
     "output_type": "stream",
     "text": [
      "Date-Range : 2023-03-01 02:10:00 to 2023-03-20 05:16:00\n",
      "Total number of Alerts Escalated to SME: 14\n"
     ]
    },
    {
     "data": {
      "image/png": "[encoded data removed]",
      "text/plain": [
       "<Figure size 864x288 with 1 Axes>"
      ]
     },
     "metadata": {
      "needs_background": "light"
     },
     "output_type": "display_data"
    }
   ],
   "source": [
    "print('Date-Range :',sd,'to',ed)\n",
    "print(\"Total number of Alerts Escalated to SME:\",df1_esc.shape[0])\n",
    "df13 = df2.groupby(['Product','Hours','ETS']).size().reset_index().rename(columns={0:'count'})\n",
    "df13.drop(df13[(df13['count'] == 0)].index, inplace=True)\n",
    "df14 = df13.copy().reset_index()\n",
    "df14.drop('index',axis=1,inplace=True)\n",
    "df14.drop(df14[(df14['ETS'] == 0)].index, inplace=True)\n",
    "df15 = df14.groupby(['Hours','Product'],as_index=False).agg('mean')\n",
    "df16 = df15.copy()\n",
    "df16 = df16.dropna()\n",
    "df17 = df16.copy().reset_index()\n",
    "df17.drop('index',axis=1,inplace=True)\n",
    "if df17.shape[0] == 0:\n",
    "    print(\"Their are no Incidents esclated\")\n",
    "else:\n",
    "    df17.pivot(index='Hours', columns='Product', values='count').reindex(sort_hour).plot(kind='bar',stacked=True, figsize=(12,4),color=product_color)\n",
    "    plt.xticks(rotation = 360)\n",
    "    plt.title('Incident Escalated(Fill=Product)')\n",
    "    plt.ylabel('Incident Count')\n",
    "    plt.show()"
   ]
  },
  {
   "cell_type": "code",
   "execution_count": 110,
   "metadata": {},
   "outputs": [
    {
     "name": "stdout",
     "output_type": "stream",
     "text": [
      "Date-Range : 2023-03-01 02:10:00 to 2023-03-20 05:16:00\n",
      "Total number of Alerts Escalated to SME: 14\n"
     ]
    },
    {
     "data": {
      "image/png": "[encoded data removed]",
      "text/plain": [
       "<Figure size 864x288 with 1 Axes>"
      ]
     },
     "metadata": {
      "needs_background": "light"
     },
     "output_type": "display_data"
    }
   ],
   "source": [
    "print('Date-Range :',sd,'to',ed)\n",
    "print(\"Total number of Alerts Escalated to SME:\",df1_esc.shape[0])\n",
    "df23 = df2.groupby(['Priority','Hours','ETS']).size().reset_index().rename(columns={0:'count'})\n",
    "df23.drop(df23[(df23['count'] == 0)].index, inplace=True)\n",
    "df24 = df23.copy().reset_index()\n",
    "df24.drop('index',axis=1,inplace=True)\n",
    "df24.drop(df24[(df24['ETS'] == 0)].index, inplace=True)\n",
    "df25 = df24.groupby(['Hours','Priority'],as_index=False).agg('mean')\n",
    "df26 = df25.copy()\n",
    "df26 = df26.dropna()\n",
    "df27 = df26.copy().reset_index()\n",
    "df27.drop('index',axis=1,inplace=True)\n",
    "if df27.shape[0] == 0:\n",
    "    print(\"Their are no Incidents esclated\")\n",
    "else:\n",
    "    df27.pivot(index='Hours', columns='Priority', values='count').reindex(sort_hour).plot(kind='bar',stacked=True, figsize=(12,4),color=priority_color)\n",
    "    plt.title('Incident Escalated(Fill=Priority)')\n",
    "    plt.ylabel('Incident Count')\n",
    "    plt.xticks(rotation = 360)\n",
    "    plt.show()"
   ]
  },
  {
   "cell_type": "code",
   "execution_count": 111,
   "metadata": {},
   "outputs": [
    {
     "name": "stdout",
     "output_type": "stream",
     "text": [
      "Date-Range : 2023-03-01 02:10:00 to 2023-03-20 05:16:00\n",
      "Total number of Alerts Escalated to SME: 14\n"
     ]
    },
    {
     "data": {
      "image/png": "[encoded data removed]",
      "text/plain": [
       "<Figure size 720x360 with 1 Axes>"
      ]
     },
     "metadata": {
      "needs_background": "light"
     },
     "output_type": "display_data"
    }
   ],
   "source": [
    "print('Date-Range :',sd,'to',ed)\n",
    "print(\"Total number of Alerts Escalated to SME:\",df1_esc.shape[0])\n",
    "df33 = df2.groupby(['Priority','Weekday','ETS']).size().reset_index().rename(columns={0:'count'})\n",
    "df33.drop(df33[(df33['count'] == 0)].index, inplace=True)\n",
    "df34 = df33.copy().reset_index()\n",
    "df34.drop('index',axis=1,inplace=True)\n",
    "df34.drop(df34[(df34['ETS'] == 0)].index, inplace=True)\n",
    "df35 = df34.groupby(['Weekday','Priority'],as_index=False).agg('mean')\n",
    "df36 = df35.copy()\n",
    "df36 = df36.dropna()\n",
    "df37 = df36.copy().reset_index()\n",
    "df37.drop('index',axis=1,inplace=True)\n",
    "if df37.shape[0] == 0:\n",
    "    print(\"Their are no Incidents esclated\")\n",
    "else:\n",
    "    df37.pivot(index='Weekday', columns='Priority', values='count').reindex(sort_day).plot(kind='bar',stacked=True, figsize=(10,5),color=priority_color)\n",
    "    plt.title('Incident Escalated(Fill=Priority)')\n",
    "    plt.ylabel('Incident Count')\n",
    "    plt.xticks(rotation = 360)\n",
    "    plt.show()"
   ]
  },
  {
   "cell_type": "code",
   "execution_count": 112,
   "metadata": {},
   "outputs": [
    {
     "name": "stdout",
     "output_type": "stream",
     "text": [
      "Date-Range : 2023-03-01 02:10:00 to 2023-03-20 05:16:00\n",
      "Total number of Alerts Escalated to SME: 14\n"
     ]
    },
    {
     "data": {
      "image/png": "[encoded data removed]",
      "text/plain": [
       "<Figure size 720x360 with 1 Axes>"
      ]
     },
     "metadata": {
      "needs_background": "light"
     },
     "output_type": "display_data"
    }
   ],
   "source": [
    "print('Date-Range :',sd,'to',ed)\n",
    "print(\"Total number of Alerts Escalated to SME:\",df1_esc.shape[0])\n",
    "df43 = df2.groupby(['Product','Weekday','ETS']).size().reset_index().rename(columns={0:'count'})\n",
    "df43.drop(df43[(df43['count'] == 0)].index, inplace=True)\n",
    "df44 = df43.copy().reset_index()\n",
    "df44.drop('index',axis=1,inplace=True)\n",
    "df44.drop(df44[(df44['ETS'] == 0)].index, inplace=True)\n",
    "df45 = df44.groupby(['Weekday','Product'],as_index=False).agg('mean')\n",
    "df46 = df45.copy()\n",
    "df46 = df46.dropna()\n",
    "df47 = df46.copy().reset_index()\n",
    "df47.drop('index',axis=1,inplace=True)\n",
    "if df47.shape[0] == 0:\n",
    "    print(\"Their are no Incidents esclated\")\n",
    "else:\n",
    "    df47.pivot(index='Weekday', columns='Product', values='count').reindex(sort_day).plot(kind='bar',stacked=True, figsize=(10,5),color=product_color)\n",
    "    plt.title('Incident Escalated(Fill=Product)')\n",
    "    plt.ylabel('Incident Count')\n",
    "    plt.xticks(rotation = 360)\n",
    "    plt.show()"
   ]
  },
  {
   "cell_type": "code",
   "execution_count": 113,
   "metadata": {},
   "outputs": [
    {
     "data": {
      "text/plain": [
       "Index(['Jira Ticket', 'Subject', 'Product', 'Location', 'Priority',\n",
       "       'Customer Impacted', 'Date Time', 'Incident End', 'First Assignment',\n",
       "       'Actioned Time', 'Ticket created on', 'TTD', 'TTE', 'TTAE', 'TTA',\n",
       "       'TTR', 'Assignee', 'NAR', 'RNE', 'ETS', 'TSG', 'RCA', 'Total Alerts',\n",
       "       'Incident Start time', 'Escalated Time', 'Date', 'Month', 'Day', 'Year',\n",
       "       'Quarter', 'Week', 'Weekday', 'Dayofyear', 'Weekofyear', 'date_ordinal',\n",
       "       'Hours', 'Engage Time', 'TTAES', 'RBS', 'Shift', 'Shifts'],\n",
       "      dtype='object')"
      ]
     },
     "execution_count": 113,
     "metadata": {},
     "output_type": "execute_result"
    }
   ],
   "source": [
    "df2.columns"
   ]
  },
  {
   "cell_type": "code",
   "execution_count": 114,
   "metadata": {},
   "outputs": [
    {
     "data": {
      "text/plain": [
       "array(['WEDNESDAY', 'THURSDAY', 'FRIDAY', 'SATURDAY', 'SUNDAY', 'MONDAY',\n",
       "       'TUESDAY'], dtype=object)"
      ]
     },
     "execution_count": 114,
     "metadata": {},
     "output_type": "execute_result"
    }
   ],
   "source": [
    "df2.Weekday.unique()"
   ]
  },
  {
   "cell_type": "code",
   "execution_count": 115,
   "metadata": {},
   "outputs": [],
   "source": [
    "df2_Mon = df2[df2.Weekday == \"MONDAY\"]\n",
    "df2_Tue = df2[df2.Weekday == \"TUESDAY\"]\n",
    "df2_Wed = df2[df2.Weekday == \"WEDNESDAY\"]\n",
    "df2_Thu = df2[df2.Weekday == \"THURSDAY\"]\n",
    "df2_Fri = df2[df2.Weekday == \"FRIDAY\"]\n",
    "df2_Sat = df2[df2.Weekday == \"SATURDAY\"]\n",
    "df2_Sun = df2[df2.Weekday == \"SUNDAY\"]"
   ]
  },
  {
   "cell_type": "code",
   "execution_count": 116,
   "metadata": {},
   "outputs": [
    {
     "name": "stdout",
     "output_type": "stream",
     "text": [
      "Date-Range : 2023-03-01 02:10:00 to 2023-03-20 05:16:00\n",
      "Total number of Incidents came on Friday : 18\n"
     ]
    },
    {
     "data": {
      "image/png": "[encoded data removed]",
      "text/plain": [
       "<Figure size 864x288 with 1 Axes>"
      ]
     },
     "metadata": {
      "needs_background": "light"
     },
     "output_type": "display_data"
    }
   ],
   "source": [
    "print('Date-Range :',sd,'to',ed)\n",
    "df3_Fri = df2_Fri.groupby(['Product','Hours','Date']).size().reset_index().rename(columns={0:'count'})\n",
    "df3_Fri.drop(df3_Fri[(df3_Fri['count'] == 0)].index, inplace=True)\n",
    "df4_Fri = df3_Fri.copy().reset_index()\n",
    "df4_Fri.drop('index',axis=1,inplace=True)\n",
    "df5_Fri = df4_Fri.groupby(['Hours','Product'],as_index=False).agg('mean')\n",
    "df6_Fri = df5_Fri.copy()\n",
    "df6_Fri = df6_Fri.dropna()\n",
    "df6_Fri['count'] = df6_Fri['count'].apply(np.int64)\n",
    "df7_Fri = df6_Fri.copy().reset_index()\n",
    "df7_Fri.drop('index',axis=1,inplace=True)\n",
    "print(\"Total number of Incidents came on Friday :\",df7_Fri['count'].sum())\n",
    "if df7_Fri.shape[0] == 0:\n",
    "    print(\"Their are no Incidents on Friday\")\n",
    "else:\n",
    "    df7_Fri.pivot(index='Hours', columns='Product', values='count').reindex(sort_hour).plot(kind='bar',stacked=True, figsize=(12,4),color=product_color)\n",
    "    plt.title('Friday - Average Incident Count on hourly scale(Fill=Product)')\n",
    "    plt.ylabel('Incident Count')\n",
    "    plt.xticks(rotation = 360)\n",
    "    plt.show()"
   ]
  },
  {
   "cell_type": "code",
   "execution_count": 117,
   "metadata": {},
   "outputs": [
    {
     "name": "stdout",
     "output_type": "stream",
     "text": [
      "Date-Range : 2023-03-01 02:10:00 to 2023-03-20 05:16:00\n",
      "Total number of Incidents came on Saturday : 21\n"
     ]
    },
    {
     "data": {
      "image/png": "[encoded data removed]",
      "text/plain": [
       "<Figure size 864x288 with 1 Axes>"
      ]
     },
     "metadata": {
      "needs_background": "light"
     },
     "output_type": "display_data"
    }
   ],
   "source": [
    "print('Date-Range :',sd,'to',ed)\n",
    "df3_Sat = df2_Sat.groupby(['Product','Hours','Date']).size().reset_index().rename(columns={0:'count'})\n",
    "df3_Sat.drop(df3_Sat[(df3_Sat['count'] == 0)].index, inplace=True)\n",
    "df4_Sat = df3_Sat.copy().reset_index()\n",
    "df4_Sat.drop('index',axis=1,inplace=True)\n",
    "df5_Sat = df4_Sat.groupby(['Hours','Product'],as_index=False).agg('mean')\n",
    "df6_Sat = df5_Sat.copy()\n",
    "df6_Sat = df6_Sat.dropna()\n",
    "df6_Sat['count'] = df6_Sat['count'].apply(np.int64)\n",
    "df7_Sat = df6_Sat.copy().reset_index()\n",
    "df7_Sat.drop('index',axis=1,inplace=True)\n",
    "print(\"Total number of Incidents came on Saturday :\",df7_Sat['count'].sum())\n",
    "if df7_Sat.shape[0] == 0:\n",
    "    print(\"Their are no Incidents on Saturday\")\n",
    "else:\n",
    "    df7_Sat.pivot(index='Hours', columns='Product', values='count').reindex(sort_hour).plot(kind='bar',stacked=True, figsize=(12,4),color=product_color)\n",
    "    plt.title('Saturday - Average Incident Count on hourly scale(Fill=Product)')\n",
    "    plt.ylabel('Incident Count')\n",
    "    plt.xticks(rotation = 360)\n",
    "    plt.show()"
   ]
  },
  {
   "cell_type": "code",
   "execution_count": 118,
   "metadata": {},
   "outputs": [
    {
     "name": "stdout",
     "output_type": "stream",
     "text": [
      "Date-Range : 2023-03-01 02:10:00 to 2023-03-20 05:16:00\n",
      "Total number of Incidents came on Sunday : 16\n"
     ]
    },
    {
     "data": {
      "image/png": "[encoded data removed]",
      "text/plain": [
       "<Figure size 864x288 with 1 Axes>"
      ]
     },
     "metadata": {
      "needs_background": "light"
     },
     "output_type": "display_data"
    }
   ],
   "source": [
    "print('Date-Range :',sd,'to',ed)\n",
    "df3_Sun = df2_Sun.groupby(['Product','Hours','Date']).size().reset_index().rename(columns={0:'count'})\n",
    "df3_Sun.drop(df3_Sun[(df3_Sun['count'] == 0)].index, inplace=True)\n",
    "df4_Sun = df3_Sun.copy().reset_index()\n",
    "df4_Sun.drop('index',axis=1,inplace=True)\n",
    "df5_Sun = df4_Sun.groupby(['Hours','Product'],as_index=False).agg('mean')\n",
    "df6_Sun = df5_Sun.copy()\n",
    "df6_Sun = df6_Sun.dropna()\n",
    "df6_Sun['count'] = df6_Sun['count'].apply(np.int64)\n",
    "df7_Sun = df6_Sun.copy().reset_index()\n",
    "df7_Sun.drop('index',axis=1,inplace=True)\n",
    "print(\"Total number of Incidents came on Sunday :\",df7_Sun['count'].sum())\n",
    "if df7_Sun.shape[0] == 0:\n",
    "    print(\"Their are no Incidents on Thursday\")\n",
    "else:\n",
    "    df7_Sun.pivot(index='Hours', columns='Product', values='count').reindex(sort_hour).plot(kind='bar',stacked=True, figsize=(12,4),color=product_color)\n",
    "    plt.title('Sunday - Average Incident Count on hourly scale(Fill=Product)')\n",
    "    plt.ylabel('Incident Count')\n",
    "    plt.xticks(rotation = 360)\n",
    "    plt.show()"
   ]
  },
  {
   "cell_type": "code",
   "execution_count": 119,
   "metadata": {},
   "outputs": [
    {
     "name": "stdout",
     "output_type": "stream",
     "text": [
      "Date-Range : 2023-03-01 02:10:00 to 2023-03-20 05:16:00\n",
      "Total number of Incidents came on Monday : 15\n"
     ]
    },
    {
     "data": {
      "image/png": "[encoded data removed]",
      "text/plain": [
       "<Figure size 864x288 with 1 Axes>"
      ]
     },
     "metadata": {
      "needs_background": "light"
     },
     "output_type": "display_data"
    }
   ],
   "source": [
    "print('Date-Range :',sd,'to',ed)\n",
    "df3_Mon = df2_Mon.groupby(['Product','Hours','Date']).size().reset_index().rename(columns={0:'count'})\n",
    "df3_Mon.drop(df3_Mon[(df3_Mon['count'] == 0)].index, inplace=True)\n",
    "df4_Mon = df3_Mon.copy().reset_index()\n",
    "df4_Mon.drop('index',axis=1,inplace=True)\n",
    "df5_Mon = df4_Mon.groupby(['Hours','Product'],as_index=False).agg('mean')\n",
    "df6_Mon = df5_Mon.copy()\n",
    "df6_Mon = df6_Mon.dropna()\n",
    "df6_Mon['count'] = df6_Mon['count'].apply(np.int64)\n",
    "df7_Mon = df6_Mon.copy().reset_index()\n",
    "df7_Mon.drop('index',axis=1,inplace=True)\n",
    "print(\"Total number of Incidents came on Monday :\",df7_Mon['count'].sum())\n",
    "if df7_Mon.shape[0] == 0:\n",
    "    print(\"Their are no Incidents on Thursday\")\n",
    "else:\n",
    "    df7_Mon.pivot(index='Hours', columns='Product', values='count').reindex(sort_hour).plot(kind='bar',stacked=True, figsize=(12,4),color=product_color)\n",
    "    plt.title('Monday - Average Incident Count on hourly scale(Fill=Product)')\n",
    "    plt.ylabel('Incident Count')\n",
    "    plt.xticks(rotation = 360)\n",
    "    plt.show()"
   ]
  },
  {
   "cell_type": "code",
   "execution_count": 120,
   "metadata": {},
   "outputs": [
    {
     "name": "stdout",
     "output_type": "stream",
     "text": [
      "Date-Range : 2023-03-01 02:10:00 to 2023-03-20 05:16:00\n",
      "Total number of Incidents came on Tuesday : 23\n"
     ]
    },
    {
     "data": {
      "image/png": "[encoded data removed]",
      "text/plain": [
       "<Figure size 864x288 with 1 Axes>"
      ]
     },
     "metadata": {
      "needs_background": "light"
     },
     "output_type": "display_data"
    }
   ],
   "source": [
    "print('Date-Range :',sd,'to',ed)\n",
    "df3_Tue = df2_Tue.groupby(['Product','Hours','Date']).size().reset_index().rename(columns={0:'count'})\n",
    "df3_Tue.drop(df3_Tue[(df3_Tue['count'] == 0)].index, inplace=True)\n",
    "df4_Tue = df3_Tue.copy().reset_index()\n",
    "df4_Tue.drop('index',axis=1,inplace=True)\n",
    "df5_Tue = df4_Tue.groupby(['Hours','Product'],as_index=False).agg('mean')\n",
    "df6_Tue = df5_Tue.copy()\n",
    "df6_Tue = df6_Tue.dropna()\n",
    "df6_Tue['count'] = df6_Tue['count'].apply(np.int64)\n",
    "df7_Tue = df6_Tue.copy().reset_index()\n",
    "df7_Tue.drop('index',axis=1,inplace=True)\n",
    "print(\"Total number of Incidents came on Tuesday :\",df7_Tue['count'].sum())\n",
    "if df7_Tue.shape[0] == 0:\n",
    "    print(\"Their are no Incidents on Tuesday\")\n",
    "else:\n",
    "    df7_Tue.pivot(index='Hours', columns='Product', values='count').reindex(sort_hour).plot(kind='bar',stacked=True, figsize=(12,4),color=product_color)\n",
    "    plt.title('Tuesday - Average Incident Count on hourly scale(Fill=Product)')\n",
    "    plt.ylabel('Incident Count')\n",
    "    plt.xticks(rotation = 360)\n",
    "    plt.show()"
   ]
  },
  {
   "cell_type": "code",
   "execution_count": 121,
   "metadata": {
    "scrolled": true
   },
   "outputs": [
    {
     "name": "stdout",
     "output_type": "stream",
     "text": [
      "Date-Range : 2023-03-01 02:10:00 to 2023-03-20 05:16:00\n",
      "Total number of Incidents came on Wednesday : 28\n"
     ]
    },
    {
     "data": {
      "image/png": "[encoded data removed]",
      "text/plain": [
       "<Figure size 864x288 with 1 Axes>"
      ]
     },
     "metadata": {
      "needs_background": "light"
     },
     "output_type": "display_data"
    }
   ],
   "source": [
    "print('Date-Range :',sd,'to',ed)\n",
    "df3_Wed = df2_Wed.groupby(['Product','Hours','Date']).size().reset_index().rename(columns={0:'count'})\n",
    "df3_Wed.drop(df3_Wed[(df3_Wed['count'] == 0)].index, inplace=True)\n",
    "df4_Wed = df3_Wed.copy().reset_index()\n",
    "df4_Wed.drop('index',axis=1,inplace=True)\n",
    "df5_Wed = df4_Wed.groupby(['Hours','Product'],as_index=False).agg('mean')\n",
    "df6_Wed = df5_Wed.copy()\n",
    "df6_Wed = df6_Wed.dropna()\n",
    "df6_Wed['count'] = df6_Wed['count'].apply(np.int64)\n",
    "df7_Wed = df6_Wed.copy().reset_index()\n",
    "df7_Wed.drop('index',axis=1,inplace=True)\n",
    "print(\"Total number of Incidents came on Wednesday :\",df7_Wed['count'].sum())\n",
    "if df7_Wed.shape[0] == 0:\n",
    "    print(\"Their are no Incidents on Wednesday\")\n",
    "else:\n",
    "    df7_Wed.pivot(index='Hours', columns='Product', values='count').reindex(sort_hour).plot(kind='bar',stacked=True, figsize=(12,4),color=product_color)\n",
    "    plt.title('Wednesday - Average Incident Count on hourly scale(Fill=Product)')\n",
    "    plt.ylabel('Incident Count')\n",
    "    plt.xticks(rotation = 360)\n",
    "    plt.show()"
   ]
  },
  {
   "cell_type": "code",
   "execution_count": 122,
   "metadata": {},
   "outputs": [
    {
     "name": "stdout",
     "output_type": "stream",
     "text": [
      "Date-Range : 2023-03-01 02:10:00 to 2023-03-20 05:16:00\n",
      "Total number of Incidents came on Thursday : 21\n"
     ]
    },
    {
     "data": {
      "image/png": "[encoded data removed]",
      "text/plain": [
       "<Figure size 864x288 with 1 Axes>"
      ]
     },
     "metadata": {
      "needs_background": "light"
     },
     "output_type": "display_data"
    }
   ],
   "source": [
    "print('Date-Range :',sd,'to',ed)\n",
    "df3_Thu = df2_Thu.groupby(['Product','Hours','Date']).size().reset_index().rename(columns={0:'count'})\n",
    "df3_Thu.drop(df3_Thu[(df3_Thu['count'] == 0)].index, inplace=True)\n",
    "df4_Thu = df3_Thu.copy().reset_index()\n",
    "df4_Thu.drop('index',axis=1,inplace=True)\n",
    "df5_Thu = df4_Thu.groupby(['Hours','Product'],as_index=False).agg('mean')\n",
    "df6_Thu = df5_Thu.copy()\n",
    "df6_Thu = df6_Thu.dropna()\n",
    "df6_Thu['count'] = df6_Thu['count'].apply(np.int64)\n",
    "df7_Thu = df6_Thu.copy().reset_index()\n",
    "df7_Thu.drop('index',axis=1,inplace=True)\n",
    "print(\"Total number of Incidents came on Thursday :\",df7_Thu['count'].sum())\n",
    "if df7_Thu.shape[0] == 0:\n",
    "    print(\"Their are no Incidents on Thursday\")\n",
    "else:\n",
    "    df7_Thu.pivot(index='Hours', columns='Product', values='count').reindex(sort_hour).plot(kind='bar',stacked=True, figsize=(12,4),color=product_color)\n",
    "    plt.title('Thursday - Average Incident Count on hourly scale(Fill=Product)')\n",
    "    plt.ylabel('Incident Count')\n",
    "    plt.xticks(rotation = 360)\n",
    "    plt.show()"
   ]
  },
  {
   "cell_type": "code",
   "execution_count": 123,
   "metadata": {},
   "outputs": [],
   "source": [
    "ttd_m = round(df1.describe()['TTD']['mean'],2)\n",
    "tte_m = round(df1.describe()['TTE']['mean'],2)\n",
    "ttes_m = round(df1.describe()['TTAE']['mean'],2)\n",
    "tta_m = round(df1.describe()['TTA']['mean'],2)\n",
    "ttr_m = round(df1.describe()['TTR']['mean'],2)"
   ]
  },
  {
   "cell_type": "code",
   "execution_count": 124,
   "metadata": {},
   "outputs": [],
   "source": [
    "#df1 = df1.drop_duplicates(subset=[\"Jira Ticket\"], keep='last')"
   ]
  },
  {
   "cell_type": "code",
   "execution_count": 125,
   "metadata": {},
   "outputs": [],
   "source": [
    "tsg_a = df1.TSG.sum()\n",
    "total_inc = df1.shape[0]\n",
    "tsg_na = total_inc - tsg_a"
   ]
  },
  {
   "cell_type": "code",
   "execution_count": 126,
   "metadata": {},
   "outputs": [
    {
     "data": {
      "text/plain": [
       "array([0, 1], dtype=int64)"
      ]
     },
     "execution_count": 126,
     "metadata": {},
     "output_type": "execute_result"
    }
   ],
   "source": [
    "df1.TSG.unique()"
   ]
  },
  {
   "cell_type": "markdown",
   "metadata": {},
   "source": [
    "## Identify Minumum Values for all the MTTx metrics"
   ]
  },
  {
   "cell_type": "code",
   "execution_count": 127,
   "metadata": {},
   "outputs": [
    {
     "name": "stdout",
     "output_type": "stream",
     "text": [
      "Minumum Value for all the MTTx metrics\n"
     ]
    },
    {
     "data": {
      "text/html": [
       "<div>\n",
       "<style scoped>\n",
       "    .dataframe tbody tr th:only-of-type {\n",
       "        vertical-align: middle;\n",
       "    }\n",
       "\n",
       "    .dataframe tbody tr th {\n",
       "        vertical-align: top;\n",
       "    }\n",
       "\n",
       "    .dataframe thead th {\n",
       "        text-align: right;\n",
       "    }\n",
       "</style>\n",
       "<table border=\"1\" class=\"dataframe\">\n",
       "  <thead>\n",
       "    <tr style=\"text-align: right;\">\n",
       "      <th></th>\n",
       "      <th>Count</th>\n",
       "      <th>TTD</th>\n",
       "      <th>TTE</th>\n",
       "      <th>TTA</th>\n",
       "      <th>TTES</th>\n",
       "      <th>TTR</th>\n",
       "      <th>No_action_required</th>\n",
       "      <th>Escalated</th>\n",
       "      <th>Resolved_by_NOC</th>\n",
       "    </tr>\n",
       "    <tr>\n",
       "      <th>Priority</th>\n",
       "      <th></th>\n",
       "      <th></th>\n",
       "      <th></th>\n",
       "      <th></th>\n",
       "      <th></th>\n",
       "      <th></th>\n",
       "      <th></th>\n",
       "      <th></th>\n",
       "      <th></th>\n",
       "    </tr>\n",
       "  </thead>\n",
       "  <tbody>\n",
       "    <tr>\n",
       "      <th>P1</th>\n",
       "      <td>1</td>\n",
       "      <td>1</td>\n",
       "      <td>0.0</td>\n",
       "      <td>40.0</td>\n",
       "      <td>10.0</td>\n",
       "      <td>80.0</td>\n",
       "      <td>0</td>\n",
       "      <td>1</td>\n",
       "      <td>0</td>\n",
       "    </tr>\n",
       "    <tr>\n",
       "      <th>P3</th>\n",
       "      <td>5</td>\n",
       "      <td>1</td>\n",
       "      <td>0.0</td>\n",
       "      <td>134.0</td>\n",
       "      <td>6.0</td>\n",
       "      <td>59.0</td>\n",
       "      <td>4</td>\n",
       "      <td>3</td>\n",
       "      <td>0</td>\n",
       "    </tr>\n",
       "    <tr>\n",
       "      <th>P4</th>\n",
       "      <td>162</td>\n",
       "      <td>1</td>\n",
       "      <td>0.0</td>\n",
       "      <td>3.0</td>\n",
       "      <td>1.0</td>\n",
       "      <td>1.0</td>\n",
       "      <td>158</td>\n",
       "      <td>10</td>\n",
       "      <td>2</td>\n",
       "    </tr>\n",
       "  </tbody>\n",
       "</table>\n",
       "</div>"
      ],
      "text/plain": [
       "          Count  TTD  TTE    TTA  TTES   TTR  No_action_required  Escalated  \\\n",
       "Priority                                                                      \n",
       "P1            1    1  0.0   40.0  10.0  80.0                   0          1   \n",
       "P3            5    1  0.0  134.0   6.0  59.0                   4          3   \n",
       "P4          162    1  0.0    3.0   1.0   1.0                 158         10   \n",
       "\n",
       "          Resolved_by_NOC  \n",
       "Priority                   \n",
       "P1                      0  \n",
       "P3                      0  \n",
       "P4                      2  "
      ]
     },
     "execution_count": 127,
     "metadata": {},
     "output_type": "execute_result"
    }
   ],
   "source": [
    "print(\"Minumum Value for all the MTTx metrics\")\n",
    "df1.groupby(by='Priority').agg(Count=('Priority', 'size'),TTD=('TTD', 'min'), TTE=('TTE', 'min'),TTA=('TTA', 'min'),TTES=('TTAE', 'min') ,TTR=('TTR', 'min'),No_action_required=('NAR', 'sum'),Escalated=('ETS', 'sum'),Resolved_by_NOC=('RNE', 'sum'))"
   ]
  },
  {
   "cell_type": "markdown",
   "metadata": {},
   "source": [
    "## Identify Maximum Values for all the MTTx metrics"
   ]
  },
  {
   "cell_type": "code",
   "execution_count": 128,
   "metadata": {},
   "outputs": [
    {
     "name": "stdout",
     "output_type": "stream",
     "text": [
      "Maximum Value for all the MTTX metrics\n"
     ]
    },
    {
     "data": {
      "text/html": [
       "<div>\n",
       "<style scoped>\n",
       "    .dataframe tbody tr th:only-of-type {\n",
       "        vertical-align: middle;\n",
       "    }\n",
       "\n",
       "    .dataframe tbody tr th {\n",
       "        vertical-align: top;\n",
       "    }\n",
       "\n",
       "    .dataframe thead th {\n",
       "        text-align: right;\n",
       "    }\n",
       "</style>\n",
       "<table border=\"1\" class=\"dataframe\">\n",
       "  <thead>\n",
       "    <tr style=\"text-align: right;\">\n",
       "      <th></th>\n",
       "      <th>Count</th>\n",
       "      <th>TTD</th>\n",
       "      <th>TTE</th>\n",
       "      <th>TTA</th>\n",
       "      <th>TTES</th>\n",
       "      <th>TTR</th>\n",
       "      <th>No_action_required</th>\n",
       "      <th>Escalated</th>\n",
       "      <th>Resolved_by_NOC</th>\n",
       "    </tr>\n",
       "    <tr>\n",
       "      <th>Priority</th>\n",
       "      <th></th>\n",
       "      <th></th>\n",
       "      <th></th>\n",
       "      <th></th>\n",
       "      <th></th>\n",
       "      <th></th>\n",
       "      <th></th>\n",
       "      <th></th>\n",
       "      <th></th>\n",
       "    </tr>\n",
       "  </thead>\n",
       "  <tbody>\n",
       "    <tr>\n",
       "      <th>P1</th>\n",
       "      <td>1</td>\n",
       "      <td>1</td>\n",
       "      <td>0.0</td>\n",
       "      <td>40.0</td>\n",
       "      <td>10.0</td>\n",
       "      <td>80.0</td>\n",
       "      <td>0</td>\n",
       "      <td>1</td>\n",
       "      <td>0</td>\n",
       "    </tr>\n",
       "    <tr>\n",
       "      <th>P3</th>\n",
       "      <td>5</td>\n",
       "      <td>1</td>\n",
       "      <td>1.0</td>\n",
       "      <td>134.0</td>\n",
       "      <td>26.0</td>\n",
       "      <td>1763.0</td>\n",
       "      <td>4</td>\n",
       "      <td>3</td>\n",
       "      <td>0</td>\n",
       "    </tr>\n",
       "    <tr>\n",
       "      <th>P4</th>\n",
       "      <td>162</td>\n",
       "      <td>1</td>\n",
       "      <td>9.0</td>\n",
       "      <td>124.0</td>\n",
       "      <td>108.0</td>\n",
       "      <td>409.0</td>\n",
       "      <td>158</td>\n",
       "      <td>10</td>\n",
       "      <td>2</td>\n",
       "    </tr>\n",
       "  </tbody>\n",
       "</table>\n",
       "</div>"
      ],
      "text/plain": [
       "          Count  TTD  TTE    TTA   TTES     TTR  No_action_required  \\\n",
       "Priority                                                              \n",
       "P1            1    1  0.0   40.0   10.0    80.0                   0   \n",
       "P3            5    1  1.0  134.0   26.0  1763.0                   4   \n",
       "P4          162    1  9.0  124.0  108.0   409.0                 158   \n",
       "\n",
       "          Escalated  Resolved_by_NOC  \n",
       "Priority                              \n",
       "P1                1                0  \n",
       "P3                3                0  \n",
       "P4               10                2  "
      ]
     },
     "execution_count": 128,
     "metadata": {},
     "output_type": "execute_result"
    }
   ],
   "source": [
    "print(\"Maximum Value for all the MTTX metrics\")\n",
    "df1.groupby(by='Priority').agg(Count=('Priority', 'size'),TTD=('TTD', 'max'), TTE=('TTE', 'max'),TTA=('TTA', 'max'),TTES=('TTAE', 'max') ,TTR=('TTR', 'max'),No_action_required=('NAR', 'sum'),Escalated=('ETS', 'sum'),Resolved_by_NOC=('RNE', 'sum'))"
   ]
  },
  {
   "cell_type": "code",
   "execution_count": 129,
   "metadata": {},
   "outputs": [
    {
     "name": "stdout",
     "output_type": "stream",
     "text": [
      "Date-Range : 2023-03-01 02:10:00 to 2023-03-20 05:16:00\n",
      "Total number of Incidents : 168\n",
      "##################################################################################################\n",
      "\n",
      "MTTx Values:-\n",
      "-------------------\n",
      "MTTd : 1.0 \n",
      "MTTe : 0.67 \n",
      "MTTes : 20.21 \n",
      "MTTa : 68.67 \n",
      "MTTr : 68.93\n",
      "##################################################################################################\n",
      "\n",
      "Auto-Resolved, Escalated and Resolved by NOC :-\n",
      "-------------------------------------------------\n",
      "Auto-Resolved : 162 \n",
      "Escalated to SME : 14 \n",
      "Resolved by NOC Engineer : 2 \n",
      "Resolved by SME : 4\n",
      "##################################################################################################\n",
      "\n",
      "Total number of TSG Available/Not-Available :-\n",
      "-------------------------------------------------\n",
      "TSG Available : 121 \n",
      "TSG Not Available : 47\n",
      "##################################################################################################\n",
      "\n",
      "SLA Calculation :-\n",
      "----------------------\n",
      "Their are total 162 P4 Incidents\n",
      "SLA for P4 TTE is 100.0%\n",
      "SLA for P4 TTAE is 99.38%\n",
      "##################################################################################################\n",
      "\n",
      "Their are total 5 P3 Incidents\n",
      "SLA for P3 TTE is 100.0%\n",
      "SLA for P3 TTAE is 100.0%\n",
      "##################################################################################################\n",
      "\n",
      "Their are no P2 Incidents\n",
      "##################################################################################################\n",
      "\n",
      "Their are total 1 P1 Incidents\n",
      "SLA for P1 TTE is 100.0%\n",
      "SLA for P1 TTAE is 100.0%\n",
      "##################################################################################################\n",
      "\n"
     ]
    }
   ],
   "source": [
    "print('Date-Range :',sd,'to',ed)\n",
    "print(\"Total number of Incidents :\",total_inc)\n",
    "print(\"##################################################################################################\\n\")\n",
    "print(\"MTTx Values:-\\n-------------------\")\n",
    "print(\"MTTd :\",ttd_m,\"\\nMTTe :\",tte_m,\"\\nMTTes :\",ttes_m,\"\\nMTTa :\",tta_m,\"\\nMTTr :\",ttr_m)\n",
    "print(\"##################################################################################################\\n\")\n",
    "print(\"Auto-Resolved, Escalated and Resolved by NOC :-\\n-------------------------------------------------\")\n",
    "print(\"Auto-Resolved :\",df1.NAR.sum(),\"\\nEscalated to SME :\",df1.ETS.sum(),\"\\nResolved by NOC Engineer :\",df1.RNE.sum(),\"\\nResolved by SME :\",df1.RBS.sum())\n",
    "print(\"##################################################################################################\\n\")\n",
    "print(\"Total number of TSG Available/Not-Available :-\\n-------------------------------------------------\")\n",
    "print(\"TSG Available :\",tsg_a,\"\\nTSG Not Available :\",tsg_na)\n",
    "print(\"##################################################################################################\\n\")\n",
    "print(\"SLA Calculation :-\\n----------------------\")\n",
    "if df1_p4.shape[0] == 0:\n",
    "    print(\"Their are no P4 Incidents\")\n",
    "else: \n",
    "    print(\"Their are total\",df1_p4.shape[0],\"P4 Incidents\\nSLA for P4 TTE is\",str(P4_SLA_TTE)+\"%\\nSLA for P4 TTAE is\",str(P4_SLA_TTAE)+\"%\")\n",
    "print(\"##################################################################################################\\n\")    \n",
    "if df1_p3.shape[0] == 0:\n",
    "    print(\"Their are no P3 Incidents\")\n",
    "else: \n",
    "    print(\"Their are total\",df1_p3.shape[0],\"P3 Incidents\\nSLA for P3 TTE is\",str(P3_SLA_TTE)+\"%\\nSLA for P3 TTAE is\",str(P3_SLA_TTAE)+\"%\")\n",
    "print(\"##################################################################################################\\n\")    \n",
    "if df1_p2.shape[0] == 0:\n",
    "    print(\"Their are no P2 Incidents\")\n",
    "else: \n",
    "    print(\"Their are total\",df1_p2.shape[0],\"P2 Incidents\\nSLA for P2 TTE is\",str(P2_SLA_TTE)+\"%\\nSLA for P2 TTAE is\",str(P2_SLA_TTAE)+\"%\")\n",
    "print(\"##################################################################################################\\n\")\n",
    "if df1_p1.shape[0] == 0:\n",
    "    print(\"Their are no P1 Incidents\")\n",
    "else: \n",
    "    print(\"Their are total\",df1_p1.shape[0],\"P1 Incidents\\nSLA for P1 TTE is\",str(P1_SLA_TTE)+\"%\\nSLA for P1 TTAE is\",str(P1_SLA_TTAE)+\"%\")\n",
    "print(\"##################################################################################################\\n\")"
   ]
  },
  {
   "cell_type": "markdown",
   "metadata": {},
   "source": [
    "## Alert for which TSG's not avilable"
   ]
  },
  {
   "cell_type": "code",
   "execution_count": 130,
   "metadata": {},
   "outputs": [
    {
     "data": {
      "text/plain": [
       "array(['UDP2 Prod EU: Cloudflare 403 Count Above Threshold',\n",
       "       'UDP2 Prod US: Cloudflare 403 Count Above Threshold',\n",
       "       'UDP2 Prod EU: Critical - Realtime - High Error Count',\n",
       "       'UDP2 Prod US: Critical - Follow - Follower-Event-Filter-Service Service Low Processing Count',\n",
       "       'UDP2 Prod US: Critical - Realtime - Completed Processing Count Below Threshold',\n",
       "       'Clarity Prod JP: CRITICAL - P4 - 0.5% Subjects w/medium impact',\n",
       "       'UDP2 Prod US: Critical - Push - Number of Running Retry Service Pods Below Threshold',\n",
       "       'CAMS Prod EU: Critical - Kafka Consents Primary Failure',\n",
       "       'UDP2 Prod US: Critical - Push Notification - Database Query Timeout Errors',\n",
       "       'UDP2 Prod US: Critical - Bulkdata - Post Data Already Exists in Database',\n",
       "       'UDP2 Prod US: Critical - Bulkdata - Completed Processing Count Below Threshold',\n",
       "       'UDP2 Prod JP: Critical - Realtime - Completed Processing Count Below Threshold',\n",
       "       'UDP Prod EU: Critical - Pubsub-to-kafka-uam-account Unacked Message Count is Above the Threshold',\n",
       "       'UDP2 Prod US: Critical - Services Overall - Service Pod Failed to Start - Pod Requires a Restart',\n",
       "       'UDP2 Prod US: Critical - Push Notification - FCM Calls Timing Out',\n",
       "       'UDP2 Prod MySQL Ent: DN - Disk Utilization'], dtype=object)"
      ]
     },
     "execution_count": 130,
     "metadata": {},
     "output_type": "execute_result"
    }
   ],
   "source": [
    "df1[df1.TSG == 0]['Subject'].unique()"
   ]
  },
  {
   "cell_type": "markdown",
   "metadata": {},
   "source": [
    "## "
   ]
  }
 ],
 "metadata": {
  "kernelspec": {
   "display_name": "Python 3 (ipykernel)",
   "language": "python",
   "name": "python3"
  },
  "language_info": {
   "codemirror_mode": {
    "name": "ipython",
    "version": 3
   },
   "file_extension": ".py",
   "mimetype": "text/x-python",
   "name": "python",
   "nbconvert_exporter": "python",
   "pygments_lexer": "ipython3",
   "version": "3.9.7"
  }
 },
 "nbformat": 4,
 "nbformat_minor": 4
}
