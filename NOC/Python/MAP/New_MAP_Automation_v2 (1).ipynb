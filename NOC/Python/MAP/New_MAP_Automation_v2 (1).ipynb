{
 "cells": [
  {
   "cell_type": "markdown",
   "id": "6e110fba",
   "metadata": {},
   "source": [
    "## Provide Input for Start Date and End Date"
   ]
  },
  {
   "cell_type": "code",
   "execution_count": null,
   "id": "a401cb2c",
   "metadata": {},
   "outputs": [
    {
     "name": "stdout",
     "output_type": "stream",
     "text": [
      "Select the option --> Month in MMM for eg: January as - Jan\n"
     ]
    }
   ],
   "source": [
    "#Select the Month for which you want to observe the data\n",
    "#Option\n",
    "#xyz test\n",
    "print(\"Select the option --> Month in MMM for eg: January as - Jan\")\n",
    "month = input('Month(MMM): ')"
   ]
  },
  {
   "cell_type": "code",
   "execution_count": 2,
   "id": "be6e83d2",
   "metadata": {},
   "outputs": [
    {
     "name": "stdout",
     "output_type": "stream",
     "text": [
      "Select the option --> Year in YYYY\n",
      "Year(YYYY): 2022\n"
     ]
    }
   ],
   "source": [
    "#Select the Year for which you want to observe the data\n",
    "#Option\n",
    "print(\"Select the option --> Year in YYYY\")\n",
    "year = input('Year(YYYY): ')"
   ]
  },
  {
   "cell_type": "code",
   "execution_count": 3,
   "id": "69f48b41",
   "metadata": {},
   "outputs": [
    {
     "name": "stdout",
     "output_type": "stream",
     "text": [
      "Month Selected: Dec\n",
      "Year Selected: 2022\n"
     ]
    }
   ],
   "source": [
    "print(\"Month Selected: {}\\nYear Selected: {}\".format(month,year))"
   ]
  },
  {
   "cell_type": "markdown",
   "id": "dab65867",
   "metadata": {},
   "source": [
    "## Importing the libraries"
   ]
  },
  {
   "cell_type": "code",
   "execution_count": 4,
   "id": "29723cf0",
   "metadata": {},
   "outputs": [],
   "source": [
    "import numpy as np\n",
    "import matplotlib.pyplot as plt\n",
    "import pandas as pd\n",
    "import warnings\n",
    "import datetime\n",
    "import seaborn as sns\n",
    "from datetime import date\n",
    "import calendar\n",
    "from datetime import timedelta\n",
    "from matplotlib.colors import LinearSegmentedColormap\n",
    "warnings.filterwarnings('ignore')\n",
    "import numpy as np"
   ]
  },
  {
   "cell_type": "markdown",
   "id": "eafedbe2",
   "metadata": {},
   "source": [
    "## Loading the Excel File - Converting to CSV and reading them individually"
   ]
  },
  {
   "cell_type": "code",
   "execution_count": 5,
   "id": "220a934d",
   "metadata": {},
   "outputs": [],
   "source": [
    "# Read and store content of an excel file \n",
    "\n",
    "# We are putting different sheets into seperate Data frame.\n",
    "\n",
    "xls = pd.ExcelFile(\"Weekly-Monthly-KPI-{}-{}.xlsx\".format(month,year))\n",
    "df1 = pd.read_excel(xls, 'PagerDuty_Incident')\n",
    "df2 = pd.read_excel(xls, 'BigPanda_Incident')\n",
    "\n",
    "# Write the dataframe object into csv file\n",
    "\n",
    "# Storing PagerDuty Incident data in df1\n",
    "df1.to_csv(\"PagerDuty_Incident.csv\",\n",
    "                  index = None,\n",
    "                  header=True)\n",
    "\n",
    "# Storing BigPanda Incident data in df2\n",
    "df2.to_csv(\"BigPanda_Incident.csv\",\n",
    "                  index = None,\n",
    "                  header=True)\n",
    "    \n",
    "# reading csv file and convert into a dataframe object\n",
    "\n",
    "df3 = pd.read_csv(\"PagerDuty_Incident.csv\")\n",
    "df4 = pd.read_csv(\"BigPanda_Incident.csv\")"
   ]
  },
  {
   "cell_type": "markdown",
   "id": "196a13c6",
   "metadata": {},
   "source": [
    "## Merging both the PagerDuty and BigPanda data in one Dataframe"
   ]
  },
  {
   "cell_type": "code",
   "execution_count": 6,
   "id": "ab50c348",
   "metadata": {},
   "outputs": [],
   "source": [
    "df = pd.concat([df3,df4])"
   ]
  },
  {
   "cell_type": "markdown",
   "id": "a0c6f03b",
   "metadata": {},
   "source": [
    "## Checking total number of rows and columns for dataset"
   ]
  },
  {
   "cell_type": "code",
   "execution_count": 7,
   "id": "b725ad92",
   "metadata": {},
   "outputs": [
    {
     "name": "stdout",
     "output_type": "stream",
     "text": [
      "Total # of Rows: 219\n",
      "Total # of Columns: 27\n"
     ]
    }
   ],
   "source": [
    "# Identifying total numbers of Columns and Rows\n",
    "print(\"Total # of Rows:\",df.shape[0])\n",
    "print(\"Total # of Columns:\",df.shape[1])"
   ]
  },
  {
   "cell_type": "markdown",
   "id": "b0a62d8d",
   "metadata": {},
   "source": [
    "## Copying data to new Dataframe"
   ]
  },
  {
   "cell_type": "code",
   "execution_count": 8,
   "id": "47d51a3a",
   "metadata": {},
   "outputs": [],
   "source": [
    "df11 = df.copy()"
   ]
  },
  {
   "cell_type": "markdown",
   "id": "b8f2c24d",
   "metadata": {},
   "source": [
    "## Dropping unwanted Columns"
   ]
  },
  {
   "cell_type": "code",
   "execution_count": 9,
   "id": "7a29856e",
   "metadata": {},
   "outputs": [],
   "source": [
    "df11.drop(['BigPanda Incident Link','Jira Ticket Updated'], axis = 1,inplace=True)"
   ]
  },
  {
   "cell_type": "markdown",
   "id": "f82d9554",
   "metadata": {},
   "source": [
    "## Checking the column names"
   ]
  },
  {
   "cell_type": "code",
   "execution_count": 10,
   "id": "e93799a8",
   "metadata": {},
   "outputs": [
    {
     "data": {
      "text/plain": [
       "Index(['Jira Ticket ', 'Description', 'Service', 'Location ', 'Priority',\n",
       "       'Customer Impacted', 'Opened On', 'Incident End', 'First Assignment',\n",
       "       'Actioned Time', 'Jira Ticket Created', 'Mean time to Detection (MTTD)',\n",
       "       'Mean time to Engage (MTTE)', 'Time to Escalate ',\n",
       "       'Mean time to Action (MTTA)', 'Mean time to Reslove (MTTR)',\n",
       "       'Resolved By User', 'No Action Required', 'Resolved by NOC Engineer',\n",
       "       'Escalated to SME', 'TSG', 'RCA', 'Total Alerts', 'Incident Start time',\n",
       "       'Escalated Time'],\n",
       "      dtype='object')"
      ]
     },
     "execution_count": 10,
     "metadata": {},
     "output_type": "execute_result"
    }
   ],
   "source": [
    "df11.columns"
   ]
  },
  {
   "cell_type": "markdown",
   "id": "1df37622",
   "metadata": {},
   "source": [
    "## Chaning Column Names"
   ]
  },
  {
   "cell_type": "code",
   "execution_count": 11,
   "id": "4d423c67",
   "metadata": {},
   "outputs": [],
   "source": [
    "df11.columns = ['Jira Ticket','Subject','Product','Location','Priority','Customer Impacted','Date Time','Incident End','First Assignment','Actioned Time', 'Ticket created on','TTD','TTE','TTAE','TTA','TTR','Assignee','NAR','RNE','ETS','TSG','RCA','Total Alerts','Incident Start time',\n",
    "       'Escalated Time']"
   ]
  },
  {
   "cell_type": "markdown",
   "id": "e5f047f3",
   "metadata": {},
   "source": [
    "## Checking total number of rows and columns for dataset after dropping 2 columns"
   ]
  },
  {
   "cell_type": "code",
   "execution_count": 12,
   "id": "bdaacc8a",
   "metadata": {},
   "outputs": [
    {
     "name": "stdout",
     "output_type": "stream",
     "text": [
      "Total # of Rows: 219\n",
      "Total # of Columns: 25\n"
     ]
    }
   ],
   "source": [
    "# Identifying total numbers of Columns and Rows\n",
    "print(\"Total # of Rows:\",df11.shape[0])\n",
    "print(\"Total # of Columns:\",df11.shape[1])"
   ]
  },
  {
   "cell_type": "markdown",
   "id": "462e543f",
   "metadata": {},
   "source": [
    "## Observing the Dataset"
   ]
  },
  {
   "cell_type": "code",
   "execution_count": 13,
   "id": "ec5cabd8",
   "metadata": {},
   "outputs": [
    {
     "data": {
      "text/html": [
       "<div>\n",
       "<style scoped>\n",
       "    .dataframe tbody tr th:only-of-type {\n",
       "        vertical-align: middle;\n",
       "    }\n",
       "\n",
       "    .dataframe tbody tr th {\n",
       "        vertical-align: top;\n",
       "    }\n",
       "\n",
       "    .dataframe thead th {\n",
       "        text-align: right;\n",
       "    }\n",
       "</style>\n",
       "<table border=\"1\" class=\"dataframe\">\n",
       "  <thead>\n",
       "    <tr style=\"text-align: right;\">\n",
       "      <th></th>\n",
       "      <th>Jira Ticket</th>\n",
       "      <th>Subject</th>\n",
       "      <th>Product</th>\n",
       "      <th>Location</th>\n",
       "      <th>Priority</th>\n",
       "      <th>Customer Impacted</th>\n",
       "      <th>Date Time</th>\n",
       "      <th>Incident End</th>\n",
       "      <th>First Assignment</th>\n",
       "      <th>Actioned Time</th>\n",
       "      <th>...</th>\n",
       "      <th>TTR</th>\n",
       "      <th>Assignee</th>\n",
       "      <th>NAR</th>\n",
       "      <th>RNE</th>\n",
       "      <th>ETS</th>\n",
       "      <th>TSG</th>\n",
       "      <th>RCA</th>\n",
       "      <th>Total Alerts</th>\n",
       "      <th>Incident Start time</th>\n",
       "      <th>Escalated Time</th>\n",
       "    </tr>\n",
       "  </thead>\n",
       "  <tbody>\n",
       "    <tr>\n",
       "      <th>0</th>\n",
       "      <td>INC-2640</td>\n",
       "      <td>UDP2 Prod US: Critical - Services Overall - S...</td>\n",
       "      <td>UDP2</td>\n",
       "      <td>US</td>\n",
       "      <td>P4</td>\n",
       "      <td>No Customer Impact</td>\n",
       "      <td>2022-12-01 08:57:00</td>\n",
       "      <td>2022-12-01 09:02:00</td>\n",
       "      <td>2022-12-01 08:57:00</td>\n",
       "      <td>NaN</td>\n",
       "      <td>...</td>\n",
       "      <td>5.0</td>\n",
       "      <td>Ankit Singh</td>\n",
       "      <td>Yes</td>\n",
       "      <td>No</td>\n",
       "      <td>No</td>\n",
       "      <td>No</td>\n",
       "      <td>It was a blip</td>\n",
       "      <td>1</td>\n",
       "      <td>2022-12-01 08:56:00</td>\n",
       "      <td>NaN</td>\n",
       "    </tr>\n",
       "    <tr>\n",
       "      <th>1</th>\n",
       "      <td>INC-2649</td>\n",
       "      <td>UDP2 Prod - prod-us-5g-udp2-1: Kafka Consumer ...</td>\n",
       "      <td>UDP2</td>\n",
       "      <td>US</td>\n",
       "      <td>P4</td>\n",
       "      <td>No Customer Impact</td>\n",
       "      <td>2022-12-02 16:15:00</td>\n",
       "      <td>2022-12-02 17:28:00</td>\n",
       "      <td>2022-12-02 16:16:00</td>\n",
       "      <td>2022-12-02 17:23:00</td>\n",
       "      <td>...</td>\n",
       "      <td>73.0</td>\n",
       "      <td>Varsha Rana</td>\n",
       "      <td>No</td>\n",
       "      <td>No</td>\n",
       "      <td>Yes</td>\n",
       "      <td>Yes</td>\n",
       "      <td>SME updated the monitor</td>\n",
       "      <td>2</td>\n",
       "      <td>2022-12-02 16:15:00</td>\n",
       "      <td>NaN</td>\n",
       "    </tr>\n",
       "    <tr>\n",
       "      <th>2</th>\n",
       "      <td>INC-2657</td>\n",
       "      <td>Clarity Prod JP: CRITICAL - P3 - 5% Subjects w...</td>\n",
       "      <td>Clarity</td>\n",
       "      <td>JP</td>\n",
       "      <td>P3</td>\n",
       "      <td>24 users (28.23% impacted)</td>\n",
       "      <td>2022-12-05 08:14:00</td>\n",
       "      <td>2022-12-05 12:37:00</td>\n",
       "      <td>2022-12-05 08:14:00</td>\n",
       "      <td>NaN</td>\n",
       "      <td>...</td>\n",
       "      <td>263.0</td>\n",
       "      <td>Nitesh Kumar</td>\n",
       "      <td>Yes</td>\n",
       "      <td>No</td>\n",
       "      <td>Yes</td>\n",
       "      <td>Yes</td>\n",
       "      <td>It was a blip</td>\n",
       "      <td>1</td>\n",
       "      <td>2022-12-05 08:13:00</td>\n",
       "      <td>2022-12-05 09:24:00</td>\n",
       "    </tr>\n",
       "    <tr>\n",
       "      <th>3</th>\n",
       "      <td>INC-2661</td>\n",
       "      <td>Clarity Prod JP: CRITICAL - P4 - 0.5% Subjects...</td>\n",
       "      <td>Clarity</td>\n",
       "      <td>JP</td>\n",
       "      <td>P4</td>\n",
       "      <td>1 user (0.62% Impacted)</td>\n",
       "      <td>2022-12-05 17:37:00</td>\n",
       "      <td>2022-12-05 21:37:00</td>\n",
       "      <td>2022-12-05 17:38:00</td>\n",
       "      <td>NaN</td>\n",
       "      <td>...</td>\n",
       "      <td>240.0</td>\n",
       "      <td>Shadab Tamboli</td>\n",
       "      <td>Yes</td>\n",
       "      <td>No</td>\n",
       "      <td>No</td>\n",
       "      <td>Yes</td>\n",
       "      <td>It was a blip</td>\n",
       "      <td>1</td>\n",
       "      <td>2022-12-05 17:37:00</td>\n",
       "      <td>NaN</td>\n",
       "    </tr>\n",
       "    <tr>\n",
       "      <th>4</th>\n",
       "      <td>INC-2664</td>\n",
       "      <td>UDP2 Prod US: Critical - API Gateway - Unable ...</td>\n",
       "      <td>UDP2</td>\n",
       "      <td>US</td>\n",
       "      <td>P4</td>\n",
       "      <td>No Customer Impact</td>\n",
       "      <td>2022-12-06 06:49:00</td>\n",
       "      <td>2022-12-06 06:59:00</td>\n",
       "      <td>2022-12-06 06:49:00</td>\n",
       "      <td>NaN</td>\n",
       "      <td>...</td>\n",
       "      <td>10.0</td>\n",
       "      <td>Pavan K</td>\n",
       "      <td>Yes</td>\n",
       "      <td>No</td>\n",
       "      <td>No</td>\n",
       "      <td>Yes</td>\n",
       "      <td>It was a blip</td>\n",
       "      <td>1</td>\n",
       "      <td>2022-12-06 06:48:00</td>\n",
       "      <td>NaN</td>\n",
       "    </tr>\n",
       "  </tbody>\n",
       "</table>\n",
       "<p>5 rows × 25 columns</p>\n",
       "</div>"
      ],
      "text/plain": [
       "  Jira Ticket                                            Subject  Product  \\\n",
       "0    INC-2640   UDP2 Prod US: Critical - Services Overall - S...     UDP2   \n",
       "1    INC-2649  UDP2 Prod - prod-us-5g-udp2-1: Kafka Consumer ...     UDP2   \n",
       "2    INC-2657  Clarity Prod JP: CRITICAL - P3 - 5% Subjects w...  Clarity   \n",
       "3    INC-2661  Clarity Prod JP: CRITICAL - P4 - 0.5% Subjects...  Clarity   \n",
       "4    INC-2664  UDP2 Prod US: Critical - API Gateway - Unable ...     UDP2   \n",
       "\n",
       "  Location Priority           Customer Impacted            Date Time  \\\n",
       "0       US       P4          No Customer Impact  2022-12-01 08:57:00   \n",
       "1       US       P4          No Customer Impact  2022-12-02 16:15:00   \n",
       "2       JP       P3  24 users (28.23% impacted)  2022-12-05 08:14:00   \n",
       "3       JP       P4     1 user (0.62% Impacted)  2022-12-05 17:37:00   \n",
       "4       US       P4          No Customer Impact  2022-12-06 06:49:00   \n",
       "\n",
       "          Incident End     First Assignment        Actioned Time  ...    TTR  \\\n",
       "0  2022-12-01 09:02:00  2022-12-01 08:57:00                  NaN  ...    5.0   \n",
       "1  2022-12-02 17:28:00  2022-12-02 16:16:00  2022-12-02 17:23:00  ...   73.0   \n",
       "2  2022-12-05 12:37:00  2022-12-05 08:14:00                  NaN  ...  263.0   \n",
       "3  2022-12-05 21:37:00  2022-12-05 17:38:00                  NaN  ...  240.0   \n",
       "4  2022-12-06 06:59:00  2022-12-06 06:49:00                  NaN  ...   10.0   \n",
       "\n",
       "         Assignee  NAR  RNE  ETS  TSG                      RCA Total Alerts  \\\n",
       "0     Ankit Singh  Yes   No   No   No            It was a blip            1   \n",
       "1     Varsha Rana   No   No  Yes  Yes  SME updated the monitor            2   \n",
       "2    Nitesh Kumar  Yes   No  Yes  Yes            It was a blip            1   \n",
       "3  Shadab Tamboli  Yes   No   No  Yes            It was a blip            1   \n",
       "4         Pavan K  Yes   No   No  Yes            It was a blip            1   \n",
       "\n",
       "   Incident Start time       Escalated Time  \n",
       "0  2022-12-01 08:56:00                  NaN  \n",
       "1  2022-12-02 16:15:00                  NaN  \n",
       "2  2022-12-05 08:13:00  2022-12-05 09:24:00  \n",
       "3  2022-12-05 17:37:00                  NaN  \n",
       "4  2022-12-06 06:48:00                  NaN  \n",
       "\n",
       "[5 rows x 25 columns]"
      ]
     },
     "execution_count": 13,
     "metadata": {},
     "output_type": "execute_result"
    }
   ],
   "source": [
    "df11.head()"
   ]
  },
  {
   "cell_type": "markdown",
   "id": "8b985bf9",
   "metadata": {},
   "source": [
    "## Changing Data to Upper Case - TSG, Product, Location, NAR, RNE, ETS"
   ]
  },
  {
   "cell_type": "code",
   "execution_count": 14,
   "id": "021754dc",
   "metadata": {},
   "outputs": [],
   "source": [
    "df11['TSG'] = df11['TSG'].apply(lambda name : name.upper())\n",
    "df11['Product'] = df11['Product'].apply(lambda name : name.upper())\n",
    "df11['Location'] = df11['Location'].apply(lambda name : name.upper())\n",
    "df11['NAR'] = df11['NAR'].apply(lambda name : name.upper())\n",
    "df11['RNE'] = df11['RNE'].apply(lambda name : name.upper())\n",
    "#df11['ETS'] = df11['ETS'].apply(lambda name : name.upper())"
   ]
  },
  {
   "cell_type": "markdown",
   "id": "ed455011",
   "metadata": {},
   "source": [
    "## Removing Spaces - Product, Priority, Subject, TSG, RCA, Jira Ticket, Customer Impacted and Location"
   ]
  },
  {
   "cell_type": "code",
   "execution_count": 15,
   "id": "1a4f2241",
   "metadata": {},
   "outputs": [],
   "source": [
    "df11.Product = df11.Product.str.replace(\" \",\"\")\n",
    "df11.Priority = df11.Priority.str.replace(\" \",\"\")\n",
    "df11.Location = df11.Location.str.replace(\" \",\"\")\n",
    "df11.TSG = df11.TSG.str.replace(\" \",\"\")\n",
    "df11['Jira Ticket'] = df11['Jira Ticket'].str.strip()\n",
    "df11['Subject'] = df11['Subject'].str.strip()\n",
    "df11['Customer Impacted'] = df11['Customer Impacted'].str.strip()\n",
    "df11['RCA'] = df11['RCA'].str.strip()\n",
    "df11['NAR'] = df11['NAR'].str.strip()\n",
    "df11['RNE'] = df11['RNE'].str.strip()\n",
    "df11['ETS'] = df11['ETS'].str.strip()"
   ]
  },
  {
   "cell_type": "markdown",
   "id": "d6443461",
   "metadata": {},
   "source": [
    "## Check dataset information for data handling"
   ]
  },
  {
   "cell_type": "code",
   "execution_count": 16,
   "id": "348004c9",
   "metadata": {},
   "outputs": [
    {
     "name": "stdout",
     "output_type": "stream",
     "text": [
      "<class 'pandas.core.frame.DataFrame'>\n",
      "Int64Index: 219 entries, 0 to 129\n",
      "Data columns (total 25 columns):\n",
      " #   Column               Non-Null Count  Dtype  \n",
      "---  ------               --------------  -----  \n",
      " 0   Jira Ticket          219 non-null    object \n",
      " 1   Subject              219 non-null    object \n",
      " 2   Product              219 non-null    object \n",
      " 3   Location             219 non-null    object \n",
      " 4   Priority             219 non-null    object \n",
      " 5   Customer Impacted    219 non-null    object \n",
      " 6   Date Time            219 non-null    object \n",
      " 7   Incident End         219 non-null    object \n",
      " 8   First Assignment     218 non-null    object \n",
      " 9   Actioned Time        9 non-null      object \n",
      " 10  Ticket created on    210 non-null    object \n",
      " 11  TTD                  219 non-null    int64  \n",
      " 12  TTE                  217 non-null    float64\n",
      " 13  TTAE                 136 non-null    float64\n",
      " 14  TTA                  134 non-null    float64\n",
      " 15  TTR                  219 non-null    float64\n",
      " 16  Assignee             218 non-null    object \n",
      " 17  NAR                  219 non-null    object \n",
      " 18  RNE                  219 non-null    object \n",
      " 19  ETS                  219 non-null    object \n",
      " 20  TSG                  219 non-null    object \n",
      " 21  RCA                  219 non-null    object \n",
      " 22  Total Alerts         219 non-null    int64  \n",
      " 23  Incident Start time  219 non-null    object \n",
      " 24  Escalated Time       13 non-null     object \n",
      "dtypes: float64(4), int64(2), object(19)\n",
      "memory usage: 44.5+ KB\n"
     ]
    }
   ],
   "source": [
    "df11.info()"
   ]
  },
  {
   "cell_type": "markdown",
   "id": "29bc902d",
   "metadata": {},
   "source": [
    "## Handling Inappropriate Data\n",
    "### The only thing that will help you to deal with inappropriate data is having enough DOMAIN KNOWLEDGE !!!!"
   ]
  },
  {
   "cell_type": "code",
   "execution_count": 17,
   "id": "cdb690f6",
   "metadata": {},
   "outputs": [],
   "source": [
    "# 1. Identify the type of data for each column --- Numerical, categorical , ordinal\n",
    "# 2. Check and remove all DUPLICATE RECORDS from the DATAFRAME \n",
    "# 3. Check and remove all DUPLICATE COLUMNS from the DATAFRAME\n",
    "# 4. If your columns are numerical columns, perform the following steps:\n",
    "#    - If the data is CONTINOUS, check with reference to domain whether the following parameters are valid or not:\n",
    "#      1. Negative Numbers are allowed or not.\n",
    "#      2. Positive Numbers are allowed or not.\n",
    "#      3. Decimals are allowed or just Integers are Expected.\n",
    "#      \n",
    "#      If any of the above is not allowed, delete that specific column entry\n",
    "#\n",
    "#    - If the data is DISCRETE, check with reference to domain whether the following parameters are valid or not:\n",
    "#      1. Negative Numbers are allowed or not.\n",
    "#      2. Positive Numbers are allowed or not.\n",
    "#      3. Decimals are allowed or just Integers are Expected.\n",
    "#      4. Check whether the number falls in the specified Range defined by DOMAIN\n",
    "#      \n",
    "#      If any of the above is not allowed, delete that specific column entry\n",
    "#\n",
    "# 5. If your columns are categorical columns, perform the following:\n",
    "#      1. Get the unique values of the columns \n",
    "#      2. Handle the data which has Spelling Errors, Case Errors (lowercase,uppercase)\n",
    "#      3. Check whether the groups/categories shown in the unique values match the domain spec.\n",
    "#          If there exists an unusual category, delete that specific entry\n",
    "#\n",
    "# 6. If your columns are Ordinal Column, perform the following,\n",
    "#      1. Get the unique values of the columns \n",
    "#      2. Handle the data which has Spelling Errors, Case Errors (lowercase,uppercase)\n",
    "#      3. Check whether the groups/categories shown in the unique values match the domain spec.\n",
    "#          If there exists an unusual category, delete that specific entry\n",
    "#      4. Check the mathematical weightage of each unique group. Ensure it matches the domain spec\n",
    "#      5. If no mathematical weightage is present in the colimn, ensure you define the same at metadata level.\n",
    "#\n",
    "# 7. Dealing with Date Column (Only for Time Series Analysis)\n",
    "#      1. Convert date column into datetime datatype\n",
    "#      2. Ensure your row index is replaced with date column\n",
    "#\n",
    "# All the above rules must be backed with DOMAIN SPECs. If Required, add more rules considering the domain reqt.\n",
    "\n",
    "\n"
   ]
  },
  {
   "cell_type": "markdown",
   "id": "f715906f",
   "metadata": {},
   "source": [
    "## 1. Identify the type of data for each column --- Numerical, Categorical , Ordinal, Date and Time"
   ]
  },
  {
   "cell_type": "code",
   "execution_count": 18,
   "id": "0931c630",
   "metadata": {},
   "outputs": [],
   "source": [
    "# Identify the type of data for each column --- Numerical, Categorical , Ordinal\n",
    "\n",
    "# #  Column               Non-Null Count  Dtype            Type\n",
    "#---  ------               --------------  -----         -----------\n",
    "# 0   Jira Ticket          71 non-null     object   ---> Categorical\n",
    "# 1   Subject              71 non-null     object   ---> Categorical\n",
    "# 2   Product              71 non-null     object   ---> Categorical\n",
    "# 3   Location             71 non-null     object   ---> Categorical\n",
    "# 4   Priority             71 non-null     object   ---> Ordinal\n",
    "# 5   Customer Impacted    71 non-null     object   ---> Categorical\n",
    "# 6   Date Time            71 non-null     object   ---> Date and Time\n",
    "# 7   Incident End         71 non-null     object   ---> Date and Time\n",
    "# 8   First Assignment     71 non-null     object   ---> Date and Time\n",
    "# 9   Actioned Time        2 non-null      object   ---> Date and Time\n",
    "# 10  Ticket created on    37 non-null     object   ---> Date and Time\n",
    "# 11  TTD                  71 non-null     int64    ---> Numerical Continous\n",
    "# 12  TTE                  71 non-null     int64    ---> Numerical Continous\n",
    "# 13  TTAE                 71 non-null     int64    ---> Numerical Continous\n",
    "# 14  TTA                  71 non-null     int64    ---> Numerical Continous\n",
    "# 15  TTR                  71 non-null     int64    ---> Numerical Continous\n",
    "# 16  Assignee             71 non-null     object   ---> Categorical\n",
    "# 17  NAR                  71 non-null     object   ---> Numerical Discrete [0-1]\n",
    "# 18  RNE                  71 non-null     object   ---> Numerical Discrete [0-1]\n",
    "# 19  ETS                  71 non-null     object   ---> Numerical Discrete [0-1]\n",
    "# 20  TSG                  71 non-null     object   ---> Numerical Discrete [0-1]\n",
    "# 21  RCA                  71 non-null     object   ---> Categorical\n",
    "# 22  Total Alerts         71 non-null     int64    ---> Numerical Continous\n",
    "# 23  Incident Start time  28 non-null     object   ---> Date and Time\n",
    "# 24  Escalated Time       1 non-null      object   ---> Date and Time"
   ]
  },
  {
   "cell_type": "markdown",
   "id": "8a99217c",
   "metadata": {},
   "source": [
    "#### From the above data we can see that we need to change the Data type of few columns. \n",
    "####   Priority             (object   ---> Ordinal )\n",
    "####   Date Time        (object   ---> Date and Time)"
   ]
  },
  {
   "cell_type": "markdown",
   "id": "68f95fce",
   "metadata": {},
   "source": [
    "## 2. Check and Remove all DUPLICATE RECORDS from the DATAFRAME"
   ]
  },
  {
   "cell_type": "code",
   "execution_count": 19,
   "id": "52679d8f",
   "metadata": {},
   "outputs": [
    {
     "data": {
      "text/html": [
       "<div>\n",
       "<style scoped>\n",
       "    .dataframe tbody tr th:only-of-type {\n",
       "        vertical-align: middle;\n",
       "    }\n",
       "\n",
       "    .dataframe tbody tr th {\n",
       "        vertical-align: top;\n",
       "    }\n",
       "\n",
       "    .dataframe thead th {\n",
       "        text-align: right;\n",
       "    }\n",
       "</style>\n",
       "<table border=\"1\" class=\"dataframe\">\n",
       "  <thead>\n",
       "    <tr style=\"text-align: right;\">\n",
       "      <th></th>\n",
       "      <th>Jira Ticket</th>\n",
       "      <th>Subject</th>\n",
       "      <th>Product</th>\n",
       "      <th>Location</th>\n",
       "      <th>Priority</th>\n",
       "      <th>Customer Impacted</th>\n",
       "      <th>Date Time</th>\n",
       "      <th>Incident End</th>\n",
       "      <th>First Assignment</th>\n",
       "      <th>Actioned Time</th>\n",
       "      <th>...</th>\n",
       "      <th>TTR</th>\n",
       "      <th>Assignee</th>\n",
       "      <th>NAR</th>\n",
       "      <th>RNE</th>\n",
       "      <th>ETS</th>\n",
       "      <th>TSG</th>\n",
       "      <th>RCA</th>\n",
       "      <th>Total Alerts</th>\n",
       "      <th>Incident Start time</th>\n",
       "      <th>Escalated Time</th>\n",
       "    </tr>\n",
       "  </thead>\n",
       "  <tbody>\n",
       "    <tr>\n",
       "      <th>102</th>\n",
       "      <td>INC-2804</td>\n",
       "      <td>Clarity Prod EU: CRITICAL - P4 - 0.5% Subjects...</td>\n",
       "      <td>CLARITY</td>\n",
       "      <td>EU</td>\n",
       "      <td>P3</td>\n",
       "      <td>157 users (5.16% Impacted)</td>\n",
       "      <td>2022-12-21 04:26:00</td>\n",
       "      <td>2022-12-21 07:39:00</td>\n",
       "      <td>2022-12-21 04:27:00</td>\n",
       "      <td>NaN</td>\n",
       "      <td>...</td>\n",
       "      <td>193.0</td>\n",
       "      <td>Jainil Lalaji</td>\n",
       "      <td>YES</td>\n",
       "      <td>NO</td>\n",
       "      <td>No</td>\n",
       "      <td>YES</td>\n",
       "      <td>Observed few spikes which were later subdued</td>\n",
       "      <td>2</td>\n",
       "      <td>2022-12-21 04:26:00</td>\n",
       "      <td>NaN</td>\n",
       "    </tr>\n",
       "    <tr>\n",
       "      <th>103</th>\n",
       "      <td>INC-2805</td>\n",
       "      <td>[DE]: g5-dexcom-prod-eu-5 - Cassandra: MemTabl...</td>\n",
       "      <td>UDP</td>\n",
       "      <td>EU</td>\n",
       "      <td>P4</td>\n",
       "      <td>No Customer Impact</td>\n",
       "      <td>2022-12-21 08:40:00</td>\n",
       "      <td>2022-12-21 08:45:00</td>\n",
       "      <td>2022-12-21 08:41:00</td>\n",
       "      <td>NaN</td>\n",
       "      <td>...</td>\n",
       "      <td>5.0</td>\n",
       "      <td>Nirmala Patekar</td>\n",
       "      <td>YES</td>\n",
       "      <td>NO</td>\n",
       "      <td>No</td>\n",
       "      <td>YES</td>\n",
       "      <td>It was a blip</td>\n",
       "      <td>1</td>\n",
       "      <td>2022-12-21 08:40:00</td>\n",
       "      <td>NaN</td>\n",
       "    </tr>\n",
       "    <tr>\n",
       "      <th>104</th>\n",
       "      <td>INC-2806</td>\n",
       "      <td>UDP2 Prod EU: Cloudflare 403 Count Above Thres...</td>\n",
       "      <td>UDP2</td>\n",
       "      <td>EU</td>\n",
       "      <td>P4</td>\n",
       "      <td>No Customer Impact</td>\n",
       "      <td>2022-12-21 09:45:00</td>\n",
       "      <td>2022-12-21 09:55:00</td>\n",
       "      <td>2022-12-21 09:46:00</td>\n",
       "      <td>NaN</td>\n",
       "      <td>...</td>\n",
       "      <td>9.0</td>\n",
       "      <td>Shadab Tamboli</td>\n",
       "      <td>YES</td>\n",
       "      <td>NO</td>\n",
       "      <td>No</td>\n",
       "      <td>NO</td>\n",
       "      <td>It was a blip</td>\n",
       "      <td>1</td>\n",
       "      <td>2022-12-21 09:45:00</td>\n",
       "      <td>NaN</td>\n",
       "    </tr>\n",
       "    <tr>\n",
       "      <th>105</th>\n",
       "      <td>INC-2806</td>\n",
       "      <td>UDP2 Prod EU: Cloudflare 403 Count Above Thres...</td>\n",
       "      <td>UDP2</td>\n",
       "      <td>EU</td>\n",
       "      <td>P4</td>\n",
       "      <td>No Customer Impact</td>\n",
       "      <td>2022-12-21 12:49:00</td>\n",
       "      <td>2022-12-21 13:06:00</td>\n",
       "      <td>2022-12-21 12:50:00</td>\n",
       "      <td>NaN</td>\n",
       "      <td>...</td>\n",
       "      <td>17.0</td>\n",
       "      <td>Varsha Rana</td>\n",
       "      <td>YES</td>\n",
       "      <td>NO</td>\n",
       "      <td>No</td>\n",
       "      <td>NO</td>\n",
       "      <td>It was a blip</td>\n",
       "      <td>1</td>\n",
       "      <td>2022-12-21 12:49:00</td>\n",
       "      <td>NaN</td>\n",
       "    </tr>\n",
       "    <tr>\n",
       "      <th>106</th>\n",
       "      <td>INC-2808</td>\n",
       "      <td>Clarity Prod EU: CRITICAL - P4 - 0.5% Subjects...</td>\n",
       "      <td>CLARITY</td>\n",
       "      <td>EU</td>\n",
       "      <td>P3</td>\n",
       "      <td>214 users (6.7% Impacted)</td>\n",
       "      <td>2022-12-21 13:49:00</td>\n",
       "      <td>2022-12-21 15:26:00</td>\n",
       "      <td>2022-12-21 13:50:00</td>\n",
       "      <td>NaN</td>\n",
       "      <td>...</td>\n",
       "      <td>96.0</td>\n",
       "      <td>Varsha Rana</td>\n",
       "      <td>YES</td>\n",
       "      <td>NO</td>\n",
       "      <td>Yes</td>\n",
       "      <td>YES</td>\n",
       "      <td>Pods weren't getting any traffic.</td>\n",
       "      <td>3</td>\n",
       "      <td>2022-12-21 13:49:00</td>\n",
       "      <td>2022-12-21 14:07:00</td>\n",
       "    </tr>\n",
       "    <tr>\n",
       "      <th>107</th>\n",
       "      <td>INC-2811</td>\n",
       "      <td>[DE]: g5-dexcom-prod-eu-5 - Cassandra: Nodes a...</td>\n",
       "      <td>UDP</td>\n",
       "      <td>EU</td>\n",
       "      <td>P4</td>\n",
       "      <td>No Customer Impact</td>\n",
       "      <td>2022-12-21 21:32:00</td>\n",
       "      <td>2022-12-21 21:38:00</td>\n",
       "      <td>2022-12-21 21:33:00</td>\n",
       "      <td>NaN</td>\n",
       "      <td>...</td>\n",
       "      <td>6.0</td>\n",
       "      <td>Nirmala Patekar</td>\n",
       "      <td>YES</td>\n",
       "      <td>NO</td>\n",
       "      <td>No</td>\n",
       "      <td>YES</td>\n",
       "      <td>It was a blip</td>\n",
       "      <td>1</td>\n",
       "      <td>2022-12-21 21:32:00</td>\n",
       "      <td>NaN</td>\n",
       "    </tr>\n",
       "    <tr>\n",
       "      <th>108</th>\n",
       "      <td>INC-2812</td>\n",
       "      <td>[DE]: g5-dexcom-prod-us-5 - Spark Job nimbus-h...</td>\n",
       "      <td>UDP</td>\n",
       "      <td>US</td>\n",
       "      <td>P4</td>\n",
       "      <td>No Customer Impact</td>\n",
       "      <td>2022-12-21 22:10:00</td>\n",
       "      <td>2022-12-21 23:52:00</td>\n",
       "      <td>2022-12-21 22:11:00</td>\n",
       "      <td>2022-12-21 22:16:00</td>\n",
       "      <td>...</td>\n",
       "      <td>102.0</td>\n",
       "      <td>Pavan K</td>\n",
       "      <td>NO</td>\n",
       "      <td>NO</td>\n",
       "      <td>Yes</td>\n",
       "      <td>YES</td>\n",
       "      <td>SME has updated the TTL value and restarted th...</td>\n",
       "      <td>1</td>\n",
       "      <td>2022-12-21 22:10:00</td>\n",
       "      <td>2022-12-21 22:30:00</td>\n",
       "    </tr>\n",
       "  </tbody>\n",
       "</table>\n",
       "<p>7 rows × 25 columns</p>\n",
       "</div>"
      ],
      "text/plain": [
       "    Jira Ticket                                            Subject  Product  \\\n",
       "102    INC-2804  Clarity Prod EU: CRITICAL - P4 - 0.5% Subjects...  CLARITY   \n",
       "103    INC-2805  [DE]: g5-dexcom-prod-eu-5 - Cassandra: MemTabl...      UDP   \n",
       "104    INC-2806  UDP2 Prod EU: Cloudflare 403 Count Above Thres...     UDP2   \n",
       "105    INC-2806  UDP2 Prod EU: Cloudflare 403 Count Above Thres...     UDP2   \n",
       "106    INC-2808  Clarity Prod EU: CRITICAL - P4 - 0.5% Subjects...  CLARITY   \n",
       "107    INC-2811  [DE]: g5-dexcom-prod-eu-5 - Cassandra: Nodes a...      UDP   \n",
       "108    INC-2812  [DE]: g5-dexcom-prod-us-5 - Spark Job nimbus-h...      UDP   \n",
       "\n",
       "    Location Priority           Customer Impacted            Date Time  \\\n",
       "102       EU       P3  157 users (5.16% Impacted)  2022-12-21 04:26:00   \n",
       "103       EU       P4          No Customer Impact  2022-12-21 08:40:00   \n",
       "104       EU       P4          No Customer Impact  2022-12-21 09:45:00   \n",
       "105       EU       P4          No Customer Impact  2022-12-21 12:49:00   \n",
       "106       EU       P3   214 users (6.7% Impacted)  2022-12-21 13:49:00   \n",
       "107       EU       P4          No Customer Impact  2022-12-21 21:32:00   \n",
       "108       US       P4          No Customer Impact  2022-12-21 22:10:00   \n",
       "\n",
       "            Incident End     First Assignment        Actioned Time  ...  \\\n",
       "102  2022-12-21 07:39:00  2022-12-21 04:27:00                  NaN  ...   \n",
       "103  2022-12-21 08:45:00  2022-12-21 08:41:00                  NaN  ...   \n",
       "104  2022-12-21 09:55:00  2022-12-21 09:46:00                  NaN  ...   \n",
       "105  2022-12-21 13:06:00  2022-12-21 12:50:00                  NaN  ...   \n",
       "106  2022-12-21 15:26:00  2022-12-21 13:50:00                  NaN  ...   \n",
       "107  2022-12-21 21:38:00  2022-12-21 21:33:00                  NaN  ...   \n",
       "108  2022-12-21 23:52:00  2022-12-21 22:11:00  2022-12-21 22:16:00  ...   \n",
       "\n",
       "       TTR         Assignee  NAR  RNE  ETS  TSG  \\\n",
       "102  193.0    Jainil Lalaji  YES   NO   No  YES   \n",
       "103    5.0  Nirmala Patekar  YES   NO   No  YES   \n",
       "104    9.0   Shadab Tamboli  YES   NO   No   NO   \n",
       "105   17.0      Varsha Rana  YES   NO   No   NO   \n",
       "106   96.0      Varsha Rana  YES   NO  Yes  YES   \n",
       "107    6.0  Nirmala Patekar  YES   NO   No  YES   \n",
       "108  102.0          Pavan K   NO   NO  Yes  YES   \n",
       "\n",
       "                                                   RCA Total Alerts  \\\n",
       "102       Observed few spikes which were later subdued            2   \n",
       "103                                      It was a blip            1   \n",
       "104                                      It was a blip            1   \n",
       "105                                      It was a blip            1   \n",
       "106                  Pods weren't getting any traffic.            3   \n",
       "107                                      It was a blip            1   \n",
       "108  SME has updated the TTL value and restarted th...            1   \n",
       "\n",
       "     Incident Start time       Escalated Time  \n",
       "102  2022-12-21 04:26:00                  NaN  \n",
       "103  2022-12-21 08:40:00                  NaN  \n",
       "104  2022-12-21 09:45:00                  NaN  \n",
       "105  2022-12-21 12:49:00                  NaN  \n",
       "106  2022-12-21 13:49:00  2022-12-21 14:07:00  \n",
       "107  2022-12-21 21:32:00                  NaN  \n",
       "108  2022-12-21 22:10:00  2022-12-21 22:30:00  \n",
       "\n",
       "[7 rows x 25 columns]"
      ]
     },
     "execution_count": 19,
     "metadata": {},
     "output_type": "execute_result"
    }
   ],
   "source": [
    "# Check all DUPLICATE RECORDS from the DATAFRAME\n",
    "df11[df11.duplicated()]"
   ]
  },
  {
   "cell_type": "code",
   "execution_count": 20,
   "id": "b522e6fa",
   "metadata": {},
   "outputs": [],
   "source": [
    "# Remove all DUPLICATE RECORDS from the DATAFRAME\n",
    "df11.drop_duplicates(inplace=True)"
   ]
  },
  {
   "cell_type": "code",
   "execution_count": 21,
   "id": "0dc4a2d8",
   "metadata": {},
   "outputs": [
    {
     "data": {
      "text/plain": [
       "Index(['Jira Ticket', 'Subject', 'Product', 'Location', 'Priority',\n",
       "       'Customer Impacted', 'Date Time', 'Incident End', 'First Assignment',\n",
       "       'Actioned Time', 'Ticket created on', 'TTD', 'TTE', 'TTAE', 'TTA',\n",
       "       'TTR', 'Assignee', 'NAR', 'RNE', 'ETS', 'TSG', 'RCA', 'Total Alerts',\n",
       "       'Incident Start time', 'Escalated Time'],\n",
       "      dtype='object')"
      ]
     },
     "execution_count": 21,
     "metadata": {},
     "output_type": "execute_result"
    }
   ],
   "source": [
    "df11.columns"
   ]
  },
  {
   "cell_type": "markdown",
   "id": "358cb7b3",
   "metadata": {},
   "source": [
    "## 3. Check and Remove all DUPLICATE COLUMNS from the DATAFRAME"
   ]
  },
  {
   "cell_type": "markdown",
   "id": "ba456b6b",
   "metadata": {},
   "source": [
    "#### We have validated, their are no Duplicate columns in Dataframe"
   ]
  },
  {
   "cell_type": "markdown",
   "id": "e2b7b40d",
   "metadata": {},
   "source": [
    "## 4. If your columns are numerical columns, perform the following steps"
   ]
  },
  {
   "cell_type": "code",
   "execution_count": 22,
   "id": "14d50b84",
   "metadata": {},
   "outputs": [],
   "source": [
    "# 4. If your columns are numerical columns, perform the following steps:\n",
    "#\n",
    "#    - If the data is CONTINOUS, check with reference to domain whether the following parameters are valid or not:\n",
    "#      1. Negative Numbers are allowed or not.\n",
    "#      2. Positive Numbers are allowed or not.\n",
    "#      3. Decimals are allowed or just Integers are Expected.\n",
    "#      4. NULL Values are allowed or not.\n",
    "#    \n",
    "# #  Column  Non-Null Count    Dtype              Type                        Answer\n",
    "#---  ------ --------------    -----         -------------------         -------------------\n",
    "# 11  TTD      71 non-null     int64    ---> Numerical Continous (NO,YES,YES-Decimals or YES-INTEGER,NO-Null Values)\n",
    "# 12  TTE      71 non-null     int64    ---> Numerical Continous (NO,YES,YES-Decimals or YES-INTEGER,NO-Null Values)\n",
    "# 13  TTAE     71 non-null     int64    ---> Numerical Continous (NO,YES,YES-Decimals or YES-INTEGER,YES-Null Values)\n",
    "# 14  TTA      71 non-null     int64    ---> Numerical Continous (NO,YES,YES-Decimals or YES-INTEGER,YES-Null Values)\n",
    "# 15  TTR      71 non-null     int64    ---> Numerical Continous (NO,YES,YES-Decimals or YES-INTEGER,NO-Null Values)\n",
    "#\n",
    "#####################################################################################################################\n",
    "#\n",
    "#    - If the data is DISCRETE, check with reference to domain whether the following parameters are valid or not:\n",
    "#      1. Negative Numbers are allowed or not.\n",
    "#      2. Positive Numbers are allowed or not.\n",
    "#      3. Decimals are allowed or just Integers are Expected.\n",
    "#      4. Check whether the number falls in the specified Range defined by DOMAIN\n",
    "# #  Column    Non-Null Count   Dtype              Type                          Answer\n",
    "#---  ------   --------------   -----        -------------------            --------------------\n",
    "# 17  NAR      71 non-null     object   ---> Numerical Discrete [0-1] (NO,YES,NO-DECIMAL, YES-INTEGER, Range(0-1)\n",
    "# 18  RNE      71 non-null     object   ---> Numerical Discrete [0-1] (NO,YES,NO-DECIMAL, YES-INTEGER, Range(0-1)\n",
    "# 19  ETS      71 non-null     object   ---> Numerical Discrete [0-1] (NO,YES,NO-DECIMAL, YES-INTEGER, Range(0-1)\n",
    "# 20  TSG      71 non-null     object   ---> Numerical Discrete [0-1] (NO,YES,NO-DECIMAL, YES-INTEGER, Range(0-1)\n",
    "# Note : Actual values are in Yes and No hence we will convert them into 1 and 0 respectively."
   ]
  },
  {
   "cell_type": "code",
   "execution_count": 23,
   "id": "566c4ff3",
   "metadata": {},
   "outputs": [],
   "source": [
    "#Checking Negative Values are not present, incase if present then assiging Null value.\n",
    "df11.loc[df11.TTD < 0] = np.nan\n",
    "df11.loc[df11.TTE < 0] = np.nan\n",
    "df11.loc[df11.TTAE < 0] = np.nan\n",
    "df11.loc[df11.TTA < 0] = np.nan\n",
    "df11.loc[df11.TTR < 0] = np.nan"
   ]
  },
  {
   "cell_type": "code",
   "execution_count": 24,
   "id": "9561694a",
   "metadata": {},
   "outputs": [],
   "source": [
    "# Chaning Value of TSG from YES & NO to 1 & 0\n",
    "df11['NAR'] = df11['NAR'].replace({'NO': 0, 'YES': 1})\n",
    "df11['RNE'] = df11['RNE'].replace({'NO': 0, 'YES': 1})\n",
    "df11['ETS'] = df11['ETS'].replace({'NO': 0, 'YES': 1})\n",
    "df11['TSG'] = df11['TSG'].replace({'NO': 0, 'YES': 1})"
   ]
  },
  {
   "cell_type": "markdown",
   "id": "dff770da",
   "metadata": {},
   "source": [
    "#### We have handled all the numerical continuous and discrete value till here"
   ]
  },
  {
   "cell_type": "markdown",
   "id": "0a5357aa",
   "metadata": {},
   "source": [
    "#### Replacing value with required values"
   ]
  },
  {
   "cell_type": "code",
   "execution_count": 25,
   "id": "7d9e4f7e",
   "metadata": {},
   "outputs": [],
   "source": [
    "# Replacing all Null and 0 in TTD with 1\n",
    "df11.TTD.replace(0,1,inplace=True)\n",
    "df11.TTD.replace(np.nan,1,inplace=True)"
   ]
  },
  {
   "cell_type": "code",
   "execution_count": 26,
   "id": "ca5a303b",
   "metadata": {},
   "outputs": [],
   "source": [
    "# Replacing all the Null values in TTE with 0\n",
    "df11.TTE.replace(np.nan,1,inplace=True)"
   ]
  },
  {
   "cell_type": "code",
   "execution_count": 27,
   "id": "7577d863",
   "metadata": {},
   "outputs": [
    {
     "data": {
      "text/plain": [
       "array([nan, 37., 12.,  3.,  6.,  7., 13.,  0.,  4., 18., 20.])"
      ]
     },
     "execution_count": 27,
     "metadata": {},
     "output_type": "execute_result"
    }
   ],
   "source": [
    "# Identifying unique values for TTAE\n",
    "df11.TTAE.unique()"
   ]
  },
  {
   "cell_type": "code",
   "execution_count": 28,
   "id": "c907682e",
   "metadata": {},
   "outputs": [
    {
     "data": {
      "text/plain": [
       "array([nan, 68., 10., 13., 51.,  0.,  6., 22.,  5.])"
      ]
     },
     "execution_count": 28,
     "metadata": {},
     "output_type": "execute_result"
    }
   ],
   "source": [
    "# Identifying unique values for TTA\n",
    "df11.TTA.unique()"
   ]
  },
  {
   "cell_type": "code",
   "execution_count": 29,
   "id": "ff2f53fc",
   "metadata": {},
   "outputs": [],
   "source": [
    "# Replacing all the 0 values in TTA with NUll Values\n",
    "df11.TTA.replace(0,np.nan,inplace=True)"
   ]
  },
  {
   "cell_type": "code",
   "execution_count": 30,
   "id": "9a1bc05c",
   "metadata": {},
   "outputs": [],
   "source": [
    "# Replacing all the 0 values in TTAE with Null Values\n",
    "df11.TTAE.replace(0,np.nan,inplace=True)"
   ]
  },
  {
   "cell_type": "code",
   "execution_count": 31,
   "id": "b78dd916",
   "metadata": {},
   "outputs": [],
   "source": [
    "df11.drop(df11[df11['Date Time'].isna()].index,inplace=True)"
   ]
  },
  {
   "cell_type": "markdown",
   "id": "001d2890",
   "metadata": {},
   "source": [
    "## Changing the Date Time column from String to Date Time format"
   ]
  },
  {
   "cell_type": "code",
   "execution_count": 32,
   "id": "cab8ab97",
   "metadata": {},
   "outputs": [],
   "source": [
    "df11['Date Time'] = pd.to_datetime(df11['Date Time'])\n",
    "df11['Incident End'] = pd.to_datetime(df11['Incident End'])\n",
    "df11['Incident Start time'] = pd.to_datetime(df11['Incident Start time'])\n",
    "df11['Date'] = df11['Date Time'].dt.strftime('%m-%d-%Y')\n",
    "df11['Date'] = pd.to_datetime(df11['Date'])\n",
    "df11['Month'] = pd.DatetimeIndex(df11['Date Time']).month\n",
    "df11['Day'] = pd.DatetimeIndex(df11['Date Time']).day\n",
    "df11['Year'] = pd.DatetimeIndex(df11['Date Time']).year\n",
    "df11['Quarter'] = pd.DatetimeIndex(df11['Date Time']).quarter\n",
    "df11['Week'] = pd.DatetimeIndex(df11['Date Time']).week\n",
    "df11['Weekday'] = pd.DatetimeIndex(df11['Date Time']).weekday\n",
    "df11['Weekday'] = df11['Weekday'].apply(lambda x: calendar.day_name[x])\n",
    "df11['Dayofyear'] = pd.DatetimeIndex(df11['Date Time']).dayofyear\n",
    "df11['Weekofyear'] = pd.DatetimeIndex(df11['Date Time']).weekofyear\n",
    "df11['date_ordinal'] = pd.to_datetime(df11['Date Time']).apply(lambda date: date.toordinal())\n",
    "df11['Hours'] = df11['Date Time'].dt.hour"
   ]
  },
  {
   "cell_type": "markdown",
   "id": "9ac33d9c",
   "metadata": {},
   "source": [
    "## Changing Data to Upper Case - Weekday"
   ]
  },
  {
   "cell_type": "code",
   "execution_count": 33,
   "id": "b30911d1",
   "metadata": {},
   "outputs": [],
   "source": [
    "df11['Weekday'] = df11['Weekday'].apply(lambda name : name.upper())"
   ]
  },
  {
   "cell_type": "code",
   "execution_count": 34,
   "id": "5466ef90",
   "metadata": {},
   "outputs": [
    {
     "name": "stdout",
     "output_type": "stream",
     "text": [
      "Total # of Rows: 212\n",
      "Total # of Columns: 36\n"
     ]
    }
   ],
   "source": [
    "# Identifying total numbers of Columns and Rows\n",
    "print(\"Total # of Rows:\",df11.shape[0])\n",
    "print(\"Total # of Columns:\",df11.shape[1])"
   ]
  },
  {
   "cell_type": "code",
   "execution_count": 35,
   "id": "01c92d33",
   "metadata": {},
   "outputs": [],
   "source": [
    "df11['Incident Start time'] = pd.to_datetime(df11['Date Time']) - pd.to_timedelta(df11['TTD'], unit='m')"
   ]
  },
  {
   "cell_type": "code",
   "execution_count": 36,
   "id": "15d9ba69",
   "metadata": {},
   "outputs": [],
   "source": [
    "df11['Escalated Time'] = pd.to_datetime(df11['Date Time']) + pd.to_timedelta(df11['TTAE'], unit='m')"
   ]
  },
  {
   "cell_type": "code",
   "execution_count": 37,
   "id": "2e2d9a3b",
   "metadata": {},
   "outputs": [],
   "source": [
    "df11['Engage Time'] = pd.to_datetime(df11['Date Time']) + pd.to_timedelta(df11['TTE'], unit='m')"
   ]
  },
  {
   "cell_type": "markdown",
   "id": "5ce5948e",
   "metadata": {},
   "source": [
    "## Replacing Name of the Products NILE and UAM"
   ]
  },
  {
   "cell_type": "code",
   "execution_count": 38,
   "id": "fdf78003",
   "metadata": {},
   "outputs": [],
   "source": [
    "df11.Product = df11.Product.str.replace(\"NILE\",\"API\")\n",
    "df11.Product = df11.Product.str.replace(\"UAM\",\"CAMS\")"
   ]
  },
  {
   "cell_type": "markdown",
   "id": "bba4e7db",
   "metadata": {},
   "source": [
    "## Chaning data type from Object to Categorical"
   ]
  },
  {
   "cell_type": "code",
   "execution_count": 39,
   "id": "8551f76f",
   "metadata": {},
   "outputs": [],
   "source": [
    "df11['Priority'] = pd.Categorical(df11['Priority'])\n",
    "df11['Product'] = pd.Categorical(df11['Product'])\n",
    "df11['Location'] = pd.Categorical(df11['Location'])\n",
    "df11['Assignee'] = pd.Categorical(df11['Assignee'])"
   ]
  },
  {
   "cell_type": "code",
   "execution_count": 40,
   "id": "14d29cea",
   "metadata": {},
   "outputs": [],
   "source": [
    "df_map = df11.filter(['Jira Ticket','Priority','Date Time','Engage Time','Incident End','ETS'])"
   ]
  },
  {
   "cell_type": "code",
   "execution_count": 41,
   "id": "1cf5bd3c",
   "metadata": {},
   "outputs": [
    {
     "data": {
      "text/plain": [
       "0       No\n",
       "1      Yes\n",
       "2      Yes\n",
       "3       No\n",
       "4       No\n",
       "      ... \n",
       "125     No\n",
       "126     No\n",
       "127     No\n",
       "128     No\n",
       "129     No\n",
       "Name: ETS, Length: 212, dtype: object"
      ]
     },
     "execution_count": 41,
     "metadata": {},
     "output_type": "execute_result"
    }
   ],
   "source": [
    "df_map['ETS'] = df_map['ETS'].replace({0:'NO', 1:'YES'})\n",
    "df_map['ETS']"
   ]
  },
  {
   "cell_type": "code",
   "execution_count": 42,
   "id": "752196de",
   "metadata": {},
   "outputs": [
    {
     "name": "stdout",
     "output_type": "stream",
     "text": [
      "<class 'pandas.core.frame.DataFrame'>\n",
      "Int64Index: 212 entries, 0 to 129\n",
      "Data columns (total 6 columns):\n",
      " #   Column        Non-Null Count  Dtype         \n",
      "---  ------        --------------  -----         \n",
      " 0   Jira Ticket   212 non-null    object        \n",
      " 1   Priority      212 non-null    category      \n",
      " 2   Date Time     212 non-null    datetime64[ns]\n",
      " 3   Engage Time   212 non-null    datetime64[ns]\n",
      " 4   Incident End  212 non-null    datetime64[ns]\n",
      " 5   ETS           212 non-null    object        \n",
      "dtypes: category(1), datetime64[ns](3), object(2)\n",
      "memory usage: 10.3+ KB\n"
     ]
    }
   ],
   "source": [
    "df_map.info()"
   ]
  },
  {
   "cell_type": "code",
   "execution_count": 43,
   "id": "1f54e21d",
   "metadata": {},
   "outputs": [],
   "source": [
    "df_map['Time Take to Respond'] = (df_map['Engage Time'] - df_map['Date Time'])/ timedelta(minutes=1)"
   ]
  },
  {
   "cell_type": "code",
   "execution_count": 44,
   "id": "3d83560f",
   "metadata": {},
   "outputs": [
    {
     "data": {
      "text/html": [
       "<div>\n",
       "<style scoped>\n",
       "    .dataframe tbody tr th:only-of-type {\n",
       "        vertical-align: middle;\n",
       "    }\n",
       "\n",
       "    .dataframe tbody tr th {\n",
       "        vertical-align: top;\n",
       "    }\n",
       "\n",
       "    .dataframe thead th {\n",
       "        text-align: right;\n",
       "    }\n",
       "</style>\n",
       "<table border=\"1\" class=\"dataframe\">\n",
       "  <thead>\n",
       "    <tr style=\"text-align: right;\">\n",
       "      <th></th>\n",
       "      <th>Jira Ticket</th>\n",
       "      <th>Priority</th>\n",
       "      <th>Date Time</th>\n",
       "      <th>Engage Time</th>\n",
       "      <th>Incident End</th>\n",
       "      <th>ETS</th>\n",
       "      <th>Time Take to Respond</th>\n",
       "    </tr>\n",
       "  </thead>\n",
       "  <tbody>\n",
       "  </tbody>\n",
       "</table>\n",
       "</div>"
      ],
      "text/plain": [
       "Empty DataFrame\n",
       "Columns: [Jira Ticket, Priority, Date Time, Engage Time, Incident End, ETS, Time Take to Respond]\n",
       "Index: []"
      ]
     },
     "execution_count": 44,
     "metadata": {},
     "output_type": "execute_result"
    }
   ],
   "source": [
    "df_map[df_map['Time Take to Respond'] < 0]"
   ]
  },
  {
   "cell_type": "code",
   "execution_count": 45,
   "id": "22098c97",
   "metadata": {},
   "outputs": [],
   "source": [
    "df_map['Time Take to Resolve'] = (df_map['Incident End'] - df_map['Date Time'])/ timedelta(minutes=1)"
   ]
  },
  {
   "cell_type": "code",
   "execution_count": 46,
   "id": "e704d352",
   "metadata": {},
   "outputs": [
    {
     "data": {
      "text/html": [
       "<div>\n",
       "<style scoped>\n",
       "    .dataframe tbody tr th:only-of-type {\n",
       "        vertical-align: middle;\n",
       "    }\n",
       "\n",
       "    .dataframe tbody tr th {\n",
       "        vertical-align: top;\n",
       "    }\n",
       "\n",
       "    .dataframe thead th {\n",
       "        text-align: right;\n",
       "    }\n",
       "</style>\n",
       "<table border=\"1\" class=\"dataframe\">\n",
       "  <thead>\n",
       "    <tr style=\"text-align: right;\">\n",
       "      <th></th>\n",
       "      <th>Jira Ticket</th>\n",
       "      <th>Priority</th>\n",
       "      <th>Date Time</th>\n",
       "      <th>Engage Time</th>\n",
       "      <th>Incident End</th>\n",
       "      <th>ETS</th>\n",
       "      <th>Time Take to Respond</th>\n",
       "      <th>Time Take to Resolve</th>\n",
       "    </tr>\n",
       "  </thead>\n",
       "  <tbody>\n",
       "  </tbody>\n",
       "</table>\n",
       "</div>"
      ],
      "text/plain": [
       "Empty DataFrame\n",
       "Columns: [Jira Ticket, Priority, Date Time, Engage Time, Incident End, ETS, Time Take to Respond, Time Take to Resolve]\n",
       "Index: []"
      ]
     },
     "execution_count": 46,
     "metadata": {},
     "output_type": "execute_result"
    }
   ],
   "source": [
    "df_map[df_map['Time Take to Resolve'] < 0]"
   ]
  },
  {
   "cell_type": "code",
   "execution_count": 47,
   "id": "cf9808c5",
   "metadata": {},
   "outputs": [
    {
     "data": {
      "text/html": [
       "<div>\n",
       "<style scoped>\n",
       "    .dataframe tbody tr th:only-of-type {\n",
       "        vertical-align: middle;\n",
       "    }\n",
       "\n",
       "    .dataframe tbody tr th {\n",
       "        vertical-align: top;\n",
       "    }\n",
       "\n",
       "    .dataframe thead th {\n",
       "        text-align: right;\n",
       "    }\n",
       "</style>\n",
       "<table border=\"1\" class=\"dataframe\">\n",
       "  <thead>\n",
       "    <tr style=\"text-align: right;\">\n",
       "      <th></th>\n",
       "      <th>Frequency</th>\n",
       "      <th>Max_Time_Respond</th>\n",
       "      <th>Max_Time_Resolve</th>\n",
       "    </tr>\n",
       "    <tr>\n",
       "      <th>Priority</th>\n",
       "      <th></th>\n",
       "      <th></th>\n",
       "      <th></th>\n",
       "    </tr>\n",
       "  </thead>\n",
       "  <tbody>\n",
       "    <tr>\n",
       "      <th>P1</th>\n",
       "      <td>1</td>\n",
       "      <td>1.0</td>\n",
       "      <td>1189.0</td>\n",
       "    </tr>\n",
       "    <tr>\n",
       "      <th>P3</th>\n",
       "      <td>11</td>\n",
       "      <td>2.0</td>\n",
       "      <td>617.0</td>\n",
       "    </tr>\n",
       "    <tr>\n",
       "      <th>P4</th>\n",
       "      <td>200</td>\n",
       "      <td>7.0</td>\n",
       "      <td>1581.0</td>\n",
       "    </tr>\n",
       "  </tbody>\n",
       "</table>\n",
       "</div>"
      ],
      "text/plain": [
       "          Frequency  Max_Time_Respond  Max_Time_Resolve\n",
       "Priority                                               \n",
       "P1                1               1.0            1189.0\n",
       "P3               11               2.0             617.0\n",
       "P4              200               7.0            1581.0"
      ]
     },
     "execution_count": 47,
     "metadata": {},
     "output_type": "execute_result"
    }
   ],
   "source": [
    "df_map.groupby('Priority').agg(Frequency=('Priority', 'size'),Max_Time_Respond=('Time Take to Respond','max'),Max_Time_Resolve=('Time Take to Resolve','max'))"
   ]
  },
  {
   "cell_type": "code",
   "execution_count": 48,
   "id": "28a9603d",
   "metadata": {},
   "outputs": [
    {
     "name": "stdout",
     "output_type": "stream",
     "text": [
      "<class 'pandas.core.frame.DataFrame'>\n",
      "Int64Index: 212 entries, 0 to 129\n",
      "Data columns (total 8 columns):\n",
      " #   Column                Non-Null Count  Dtype         \n",
      "---  ------                --------------  -----         \n",
      " 0   Jira Ticket           212 non-null    object        \n",
      " 1   Priority              212 non-null    category      \n",
      " 2   Date Time             212 non-null    datetime64[ns]\n",
      " 3   Engage Time           212 non-null    datetime64[ns]\n",
      " 4   Incident End          212 non-null    datetime64[ns]\n",
      " 5   ETS                   212 non-null    object        \n",
      " 6   Time Take to Respond  212 non-null    float64       \n",
      " 7   Time Take to Resolve  212 non-null    float64       \n",
      "dtypes: category(1), datetime64[ns](3), float64(2), object(2)\n",
      "memory usage: 13.6+ KB\n"
     ]
    }
   ],
   "source": [
    "df_map.info()"
   ]
  },
  {
   "cell_type": "code",
   "execution_count": 49,
   "id": "5244b559",
   "metadata": {},
   "outputs": [],
   "source": [
    "df_unique_tkt = df_map.groupby('Jira Ticket').agg(Frequency=('Jira Ticket', 'size'),MTTE=('Time Take to Respond','mean'),TTR=('Time Take to Resolve','sum'),)"
   ]
  },
  {
   "cell_type": "code",
   "execution_count": 50,
   "id": "fb4a72c1",
   "metadata": {},
   "outputs": [],
   "source": [
    "df_unique_tkt = df_unique_tkt.copy().reset_index()"
   ]
  },
  {
   "cell_type": "code",
   "execution_count": 51,
   "id": "ddbe0f3e",
   "metadata": {},
   "outputs": [],
   "source": [
    "df_unique_tkt['Efforts Spent Hours'] = round(((df_unique_tkt['TTR']+30)*2)/24,2)"
   ]
  },
  {
   "cell_type": "code",
   "execution_count": 52,
   "id": "ee78f7ab",
   "metadata": {},
   "outputs": [],
   "source": [
    "df_unique_tkt.drop(['MTTE','TTR'], axis = 1,inplace=True)"
   ]
  },
  {
   "cell_type": "code",
   "execution_count": 53,
   "id": "75a021ba",
   "metadata": {},
   "outputs": [
    {
     "data": {
      "text/plain": [
       "Index(['Jira Ticket', 'Priority', 'Date Time', 'Engage Time', 'Incident End',\n",
       "       'ETS', 'Time Take to Respond', 'Time Take to Resolve'],\n",
       "      dtype='object')"
      ]
     },
     "execution_count": 53,
     "metadata": {},
     "output_type": "execute_result"
    }
   ],
   "source": [
    "df_map.columns"
   ]
  },
  {
   "cell_type": "code",
   "execution_count": 54,
   "id": "b5247e82",
   "metadata": {},
   "outputs": [],
   "source": [
    "df_final = pd.merge(df_map,df_unique_tkt,on=\"Jira Ticket\",how='left')"
   ]
  },
  {
   "cell_type": "code",
   "execution_count": 55,
   "id": "f101a77e",
   "metadata": {},
   "outputs": [],
   "source": [
    "df_map1 = df_final.copy()"
   ]
  },
  {
   "cell_type": "code",
   "execution_count": 56,
   "id": "24ebb868",
   "metadata": {},
   "outputs": [],
   "source": [
    "df_map2 = df_map1.drop_duplicates(subset=['Jira Ticket'], keep='first')"
   ]
  },
  {
   "cell_type": "code",
   "execution_count": 57,
   "id": "ece918bb",
   "metadata": {},
   "outputs": [
    {
     "name": "stdout",
     "output_type": "stream",
     "text": [
      "<class 'pandas.core.frame.DataFrame'>\n",
      "Int64Index: 201 entries, 0 to 211\n",
      "Data columns (total 10 columns):\n",
      " #   Column                Non-Null Count  Dtype         \n",
      "---  ------                --------------  -----         \n",
      " 0   Jira Ticket           201 non-null    object        \n",
      " 1   Priority              201 non-null    category      \n",
      " 2   Date Time             201 non-null    datetime64[ns]\n",
      " 3   Engage Time           201 non-null    datetime64[ns]\n",
      " 4   Incident End          201 non-null    datetime64[ns]\n",
      " 5   ETS                   201 non-null    object        \n",
      " 6   Time Take to Respond  201 non-null    float64       \n",
      " 7   Time Take to Resolve  201 non-null    float64       \n",
      " 8   Frequency             201 non-null    int64         \n",
      " 9   Efforts Spent Hours   201 non-null    float64       \n",
      "dtypes: category(1), datetime64[ns](3), float64(3), int64(1), object(2)\n",
      "memory usage: 16.0+ KB\n"
     ]
    }
   ],
   "source": [
    "df_map2.info()"
   ]
  },
  {
   "cell_type": "code",
   "execution_count": 58,
   "id": "3e162373",
   "metadata": {},
   "outputs": [],
   "source": [
    "df_map3 = df_map2.copy().reset_index()\n",
    "df_map3.drop(['index'], axis = 1,inplace=True)"
   ]
  },
  {
   "cell_type": "code",
   "execution_count": 59,
   "id": "1e1cac60",
   "metadata": {},
   "outputs": [
    {
     "data": {
      "text/html": [
       "<div>\n",
       "<style scoped>\n",
       "    .dataframe tbody tr th:only-of-type {\n",
       "        vertical-align: middle;\n",
       "    }\n",
       "\n",
       "    .dataframe tbody tr th {\n",
       "        vertical-align: top;\n",
       "    }\n",
       "\n",
       "    .dataframe thead th {\n",
       "        text-align: right;\n",
       "    }\n",
       "</style>\n",
       "<table border=\"1\" class=\"dataframe\">\n",
       "  <thead>\n",
       "    <tr style=\"text-align: right;\">\n",
       "      <th></th>\n",
       "      <th>Jira Ticket</th>\n",
       "      <th>Priority</th>\n",
       "      <th>Date Time</th>\n",
       "      <th>Engage Time</th>\n",
       "      <th>Incident End</th>\n",
       "      <th>ETS</th>\n",
       "      <th>Time Take to Respond</th>\n",
       "      <th>Time Take to Resolve</th>\n",
       "      <th>Frequency</th>\n",
       "      <th>Efforts Spent Hours</th>\n",
       "    </tr>\n",
       "  </thead>\n",
       "  <tbody>\n",
       "    <tr>\n",
       "      <th>0</th>\n",
       "      <td>INC-2640</td>\n",
       "      <td>P4</td>\n",
       "      <td>2022-12-01 08:57:00</td>\n",
       "      <td>2022-12-01 08:57:00</td>\n",
       "      <td>2022-12-01 09:02:00</td>\n",
       "      <td>No</td>\n",
       "      <td>0.0</td>\n",
       "      <td>5.0</td>\n",
       "      <td>1</td>\n",
       "      <td>2.92</td>\n",
       "    </tr>\n",
       "    <tr>\n",
       "      <th>1</th>\n",
       "      <td>INC-2649</td>\n",
       "      <td>P4</td>\n",
       "      <td>2022-12-02 16:15:00</td>\n",
       "      <td>2022-12-02 16:16:00</td>\n",
       "      <td>2022-12-02 17:28:00</td>\n",
       "      <td>Yes</td>\n",
       "      <td>1.0</td>\n",
       "      <td>73.0</td>\n",
       "      <td>1</td>\n",
       "      <td>8.58</td>\n",
       "    </tr>\n",
       "    <tr>\n",
       "      <th>2</th>\n",
       "      <td>INC-2657</td>\n",
       "      <td>P3</td>\n",
       "      <td>2022-12-05 08:14:00</td>\n",
       "      <td>2022-12-05 08:14:00</td>\n",
       "      <td>2022-12-05 12:37:00</td>\n",
       "      <td>Yes</td>\n",
       "      <td>0.0</td>\n",
       "      <td>263.0</td>\n",
       "      <td>1</td>\n",
       "      <td>24.42</td>\n",
       "    </tr>\n",
       "    <tr>\n",
       "      <th>3</th>\n",
       "      <td>INC-2661</td>\n",
       "      <td>P4</td>\n",
       "      <td>2022-12-05 17:37:00</td>\n",
       "      <td>2022-12-05 17:38:00</td>\n",
       "      <td>2022-12-05 21:37:00</td>\n",
       "      <td>No</td>\n",
       "      <td>1.0</td>\n",
       "      <td>240.0</td>\n",
       "      <td>1</td>\n",
       "      <td>22.50</td>\n",
       "    </tr>\n",
       "    <tr>\n",
       "      <th>4</th>\n",
       "      <td>INC-2664</td>\n",
       "      <td>P4</td>\n",
       "      <td>2022-12-06 06:49:00</td>\n",
       "      <td>2022-12-06 06:49:00</td>\n",
       "      <td>2022-12-06 06:59:00</td>\n",
       "      <td>No</td>\n",
       "      <td>0.0</td>\n",
       "      <td>10.0</td>\n",
       "      <td>1</td>\n",
       "      <td>3.33</td>\n",
       "    </tr>\n",
       "    <tr>\n",
       "      <th>...</th>\n",
       "      <td>...</td>\n",
       "      <td>...</td>\n",
       "      <td>...</td>\n",
       "      <td>...</td>\n",
       "      <td>...</td>\n",
       "      <td>...</td>\n",
       "      <td>...</td>\n",
       "      <td>...</td>\n",
       "      <td>...</td>\n",
       "      <td>...</td>\n",
       "    </tr>\n",
       "    <tr>\n",
       "      <th>196</th>\n",
       "      <td>INC-2848</td>\n",
       "      <td>P4</td>\n",
       "      <td>2022-12-27 04:13:00</td>\n",
       "      <td>2022-12-27 04:20:00</td>\n",
       "      <td>2022-12-27 07:13:00</td>\n",
       "      <td>No</td>\n",
       "      <td>7.0</td>\n",
       "      <td>180.0</td>\n",
       "      <td>1</td>\n",
       "      <td>17.50</td>\n",
       "    </tr>\n",
       "    <tr>\n",
       "      <th>197</th>\n",
       "      <td>INC-2852</td>\n",
       "      <td>P4</td>\n",
       "      <td>2022-12-27 16:30:00</td>\n",
       "      <td>2022-12-27 16:31:00</td>\n",
       "      <td>2022-12-27 16:49:00</td>\n",
       "      <td>No</td>\n",
       "      <td>1.0</td>\n",
       "      <td>19.0</td>\n",
       "      <td>1</td>\n",
       "      <td>4.08</td>\n",
       "    </tr>\n",
       "    <tr>\n",
       "      <th>198</th>\n",
       "      <td>INC-2853</td>\n",
       "      <td>P4</td>\n",
       "      <td>2022-12-27 20:42:00</td>\n",
       "      <td>2022-12-27 20:43:00</td>\n",
       "      <td>2022-12-27 20:45:00</td>\n",
       "      <td>No</td>\n",
       "      <td>1.0</td>\n",
       "      <td>3.0</td>\n",
       "      <td>1</td>\n",
       "      <td>2.75</td>\n",
       "    </tr>\n",
       "    <tr>\n",
       "      <th>199</th>\n",
       "      <td>INC-2854</td>\n",
       "      <td>P4</td>\n",
       "      <td>2022-12-27 21:47:00</td>\n",
       "      <td>2022-12-27 21:48:00</td>\n",
       "      <td>2022-12-27 21:57:00</td>\n",
       "      <td>No</td>\n",
       "      <td>1.0</td>\n",
       "      <td>10.0</td>\n",
       "      <td>1</td>\n",
       "      <td>3.33</td>\n",
       "    </tr>\n",
       "    <tr>\n",
       "      <th>200</th>\n",
       "      <td>INC-2859</td>\n",
       "      <td>P4</td>\n",
       "      <td>2022-12-29 11:59:00</td>\n",
       "      <td>2022-12-29 12:00:00</td>\n",
       "      <td>2022-12-29 12:49:00</td>\n",
       "      <td>No</td>\n",
       "      <td>1.0</td>\n",
       "      <td>50.0</td>\n",
       "      <td>1</td>\n",
       "      <td>6.67</td>\n",
       "    </tr>\n",
       "  </tbody>\n",
       "</table>\n",
       "<p>201 rows × 10 columns</p>\n",
       "</div>"
      ],
      "text/plain": [
       "    Jira Ticket Priority           Date Time         Engage Time  \\\n",
       "0      INC-2640       P4 2022-12-01 08:57:00 2022-12-01 08:57:00   \n",
       "1      INC-2649       P4 2022-12-02 16:15:00 2022-12-02 16:16:00   \n",
       "2      INC-2657       P3 2022-12-05 08:14:00 2022-12-05 08:14:00   \n",
       "3      INC-2661       P4 2022-12-05 17:37:00 2022-12-05 17:38:00   \n",
       "4      INC-2664       P4 2022-12-06 06:49:00 2022-12-06 06:49:00   \n",
       "..          ...      ...                 ...                 ...   \n",
       "196    INC-2848       P4 2022-12-27 04:13:00 2022-12-27 04:20:00   \n",
       "197    INC-2852       P4 2022-12-27 16:30:00 2022-12-27 16:31:00   \n",
       "198    INC-2853       P4 2022-12-27 20:42:00 2022-12-27 20:43:00   \n",
       "199    INC-2854       P4 2022-12-27 21:47:00 2022-12-27 21:48:00   \n",
       "200    INC-2859       P4 2022-12-29 11:59:00 2022-12-29 12:00:00   \n",
       "\n",
       "           Incident End  ETS  Time Take to Respond  Time Take to Resolve  \\\n",
       "0   2022-12-01 09:02:00   No                   0.0                   5.0   \n",
       "1   2022-12-02 17:28:00  Yes                   1.0                  73.0   \n",
       "2   2022-12-05 12:37:00  Yes                   0.0                 263.0   \n",
       "3   2022-12-05 21:37:00   No                   1.0                 240.0   \n",
       "4   2022-12-06 06:59:00   No                   0.0                  10.0   \n",
       "..                  ...  ...                   ...                   ...   \n",
       "196 2022-12-27 07:13:00   No                   7.0                 180.0   \n",
       "197 2022-12-27 16:49:00   No                   1.0                  19.0   \n",
       "198 2022-12-27 20:45:00   No                   1.0                   3.0   \n",
       "199 2022-12-27 21:57:00   No                   1.0                  10.0   \n",
       "200 2022-12-29 12:49:00   No                   1.0                  50.0   \n",
       "\n",
       "     Frequency  Efforts Spent Hours  \n",
       "0            1                 2.92  \n",
       "1            1                 8.58  \n",
       "2            1                24.42  \n",
       "3            1                22.50  \n",
       "4            1                 3.33  \n",
       "..         ...                  ...  \n",
       "196          1                17.50  \n",
       "197          1                 4.08  \n",
       "198          1                 2.75  \n",
       "199          1                 3.33  \n",
       "200          1                 6.67  \n",
       "\n",
       "[201 rows x 10 columns]"
      ]
     },
     "execution_count": 59,
     "metadata": {},
     "output_type": "execute_result"
    }
   ],
   "source": [
    "df_map3"
   ]
  },
  {
   "cell_type": "code",
   "execution_count": 60,
   "id": "bbd86199",
   "metadata": {},
   "outputs": [
    {
     "name": "stdout",
     "output_type": "stream",
     "text": [
      "<class 'pandas.core.frame.DataFrame'>\n",
      "RangeIndex: 201 entries, 0 to 200\n",
      "Data columns (total 10 columns):\n",
      " #   Column                Non-Null Count  Dtype         \n",
      "---  ------                --------------  -----         \n",
      " 0   Jira Ticket           201 non-null    object        \n",
      " 1   Priority              201 non-null    category      \n",
      " 2   Date Time             201 non-null    datetime64[ns]\n",
      " 3   Engage Time           201 non-null    datetime64[ns]\n",
      " 4   Incident End          201 non-null    datetime64[ns]\n",
      " 5   ETS                   201 non-null    object        \n",
      " 6   Time Take to Respond  201 non-null    float64       \n",
      " 7   Time Take to Resolve  201 non-null    float64       \n",
      " 8   Frequency             201 non-null    int64         \n",
      " 9   Efforts Spent Hours   201 non-null    float64       \n",
      "dtypes: category(1), datetime64[ns](3), float64(3), int64(1), object(2)\n",
      "memory usage: 14.6+ KB\n"
     ]
    }
   ],
   "source": [
    "df_map3.info()"
   ]
  },
  {
   "cell_type": "code",
   "execution_count": 61,
   "id": "3f0dc55d",
   "metadata": {},
   "outputs": [],
   "source": [
    "df_map3['Date Time'] = df_map3['Date Time'].astype('datetime64[s]')\n",
    "df_map3['Engage Time'] = df_map3['Engage Time'].astype('datetime64[s]')\n",
    "df_map3['Incident End'] = df_map3['Incident End'].astype('datetime64[s]')"
   ]
  },
  {
   "cell_type": "code",
   "execution_count": 62,
   "id": "a30f4b32",
   "metadata": {},
   "outputs": [],
   "source": [
    "df_map3.to_csv(\"MAP.csv\",\n",
    "                  index = None,\n",
    "                  header=True)"
   ]
  },
  {
   "cell_type": "code",
   "execution_count": 63,
   "id": "e698c80d",
   "metadata": {},
   "outputs": [
    {
     "data": {
      "text/plain": [
       "201"
      ]
     },
     "execution_count": 63,
     "metadata": {},
     "output_type": "execute_result"
    }
   ],
   "source": [
    "(df_map1['Jira Ticket'].nunique())"
   ]
  },
  {
   "cell_type": "code",
   "execution_count": 64,
   "id": "4cb6665f",
   "metadata": {},
   "outputs": [
    {
     "data": {
      "text/plain": [
       "201"
      ]
     },
     "execution_count": 64,
     "metadata": {},
     "output_type": "execute_result"
    }
   ],
   "source": [
    "len(df_map3)"
   ]
  },
  {
   "cell_type": "code",
   "execution_count": 65,
   "id": "acf9d19b",
   "metadata": {},
   "outputs": [
    {
     "name": "stdout",
     "output_type": "stream",
     "text": [
      "True\n"
     ]
    }
   ],
   "source": [
    "if len(df_map3) == (df_map1['Jira Ticket'].nunique()):\n",
    "    print(\"True\")\n",
    "else:\n",
    "    print(\"False\")"
   ]
  },
  {
   "cell_type": "code",
   "execution_count": 66,
   "id": "9c5df2eb",
   "metadata": {},
   "outputs": [
    {
     "data": {
      "text/plain": [
       "Index(['Jira Ticket', 'Priority', 'Date Time', 'Engage Time', 'Incident End',\n",
       "       'ETS', 'Time Take to Respond', 'Time Take to Resolve', 'Frequency',\n",
       "       'Efforts Spent Hours'],\n",
       "      dtype='object')"
      ]
     },
     "execution_count": 66,
     "metadata": {},
     "output_type": "execute_result"
    }
   ],
   "source": [
    "df_map3.columns"
   ]
  },
  {
   "cell_type": "code",
   "execution_count": 67,
   "id": "195d0cbb",
   "metadata": {},
   "outputs": [
    {
     "data": {
      "text/plain": [
       "104    1581.0\n",
       "113    1189.0\n",
       "25      617.0\n",
       "71      366.0\n",
       "10      358.0\n",
       "Name: Time Take to Resolve, dtype: float64"
      ]
     },
     "execution_count": 67,
     "metadata": {},
     "output_type": "execute_result"
    }
   ],
   "source": [
    "df_map3['Time Take to Resolve'].sort_values(ascending=False).head()"
   ]
  },
  {
   "cell_type": "code",
   "execution_count": 68,
   "id": "ed60f828",
   "metadata": {},
   "outputs": [
    {
     "data": {
      "text/plain": [
       "196    7.0\n",
       "163    5.0\n",
       "91     4.0\n",
       "154    3.0\n",
       "190    3.0\n",
       "Name: Time Take to Respond, dtype: float64"
      ]
     },
     "execution_count": 68,
     "metadata": {},
     "output_type": "execute_result"
    }
   ],
   "source": [
    "df_map3['Time Take to Respond'].sort_values(ascending=False).head()"
   ]
  },
  {
   "cell_type": "code",
   "execution_count": 69,
   "id": "df99f1de",
   "metadata": {},
   "outputs": [
    {
     "data": {
      "text/plain": [
       "15819.733333333334"
      ]
     },
     "execution_count": 69,
     "metadata": {},
     "output_type": "execute_result"
    }
   ],
   "source": [
    "df_map3['Time Take to Resolve'].sum()"
   ]
  },
  {
   "cell_type": "code",
   "execution_count": 70,
   "id": "d142541f",
   "metadata": {},
   "outputs": [
    {
     "data": {
      "text/plain": [
       "1858.1"
      ]
     },
     "execution_count": 70,
     "metadata": {},
     "output_type": "execute_result"
    }
   ],
   "source": [
    "df_map3['Efforts Spent Hours'].sum()"
   ]
  },
  {
   "cell_type": "code",
   "execution_count": 71,
   "id": "efd37c32",
   "metadata": {},
   "outputs": [
    {
     "name": "stdout",
     "output_type": "stream",
     "text": [
      "<class 'pandas.core.frame.DataFrame'>\n",
      "RangeIndex: 201 entries, 0 to 200\n",
      "Data columns (total 10 columns):\n",
      " #   Column                Non-Null Count  Dtype         \n",
      "---  ------                --------------  -----         \n",
      " 0   Jira Ticket           201 non-null    object        \n",
      " 1   Priority              201 non-null    category      \n",
      " 2   Date Time             201 non-null    datetime64[ns]\n",
      " 3   Engage Time           201 non-null    datetime64[ns]\n",
      " 4   Incident End          201 non-null    datetime64[ns]\n",
      " 5   ETS                   201 non-null    object        \n",
      " 6   Time Take to Respond  201 non-null    float64       \n",
      " 7   Time Take to Resolve  201 non-null    float64       \n",
      " 8   Frequency             201 non-null    int64         \n",
      " 9   Efforts Spent Hours   201 non-null    float64       \n",
      "dtypes: category(1), datetime64[ns](3), float64(3), int64(1), object(2)\n",
      "memory usage: 14.6+ KB\n"
     ]
    }
   ],
   "source": [
    "#Total number of ticket -->\n",
    "df_map3.info()"
   ]
  },
  {
   "cell_type": "code",
   "execution_count": 72,
   "id": "0e64cf11",
   "metadata": {},
   "outputs": [
    {
     "name": "stdout",
     "output_type": "stream",
     "text": [
      "Total number of tickets : 201\n"
     ]
    }
   ],
   "source": [
    "print(\"Total number of tickets :\",len(df_map3))"
   ]
  },
  {
   "cell_type": "code",
   "execution_count": 73,
   "id": "3df61ce7",
   "metadata": {},
   "outputs": [
    {
     "data": {
      "text/html": [
       "<div>\n",
       "<style scoped>\n",
       "    .dataframe tbody tr th:only-of-type {\n",
       "        vertical-align: middle;\n",
       "    }\n",
       "\n",
       "    .dataframe tbody tr th {\n",
       "        vertical-align: top;\n",
       "    }\n",
       "\n",
       "    .dataframe thead th {\n",
       "        text-align: right;\n",
       "    }\n",
       "</style>\n",
       "<table border=\"1\" class=\"dataframe\">\n",
       "  <thead>\n",
       "    <tr style=\"text-align: right;\">\n",
       "      <th></th>\n",
       "      <th>Count</th>\n",
       "      <th>MTTE</th>\n",
       "      <th>MTTR</th>\n",
       "      <th>TTR</th>\n",
       "    </tr>\n",
       "    <tr>\n",
       "      <th>Priority</th>\n",
       "      <th></th>\n",
       "      <th></th>\n",
       "      <th></th>\n",
       "      <th></th>\n",
       "    </tr>\n",
       "  </thead>\n",
       "  <tbody>\n",
       "    <tr>\n",
       "      <th>P1</th>\n",
       "      <td>1</td>\n",
       "      <td>1.000000</td>\n",
       "      <td>1189.000000</td>\n",
       "      <td>1189.000000</td>\n",
       "    </tr>\n",
       "    <tr>\n",
       "      <th>P3</th>\n",
       "      <td>11</td>\n",
       "      <td>0.909091</td>\n",
       "      <td>197.975758</td>\n",
       "      <td>2177.733333</td>\n",
       "    </tr>\n",
       "    <tr>\n",
       "      <th>P4</th>\n",
       "      <td>189</td>\n",
       "      <td>0.772487</td>\n",
       "      <td>65.888889</td>\n",
       "      <td>12453.000000</td>\n",
       "    </tr>\n",
       "  </tbody>\n",
       "</table>\n",
       "</div>"
      ],
      "text/plain": [
       "          Count      MTTE         MTTR           TTR\n",
       "Priority                                            \n",
       "P1            1  1.000000  1189.000000   1189.000000\n",
       "P3           11  0.909091   197.975758   2177.733333\n",
       "P4          189  0.772487    65.888889  12453.000000"
      ]
     },
     "execution_count": 73,
     "metadata": {},
     "output_type": "execute_result"
    }
   ],
   "source": [
    "df_map3.groupby(by='Priority').agg(Count=('Priority','size'),MTTE=('Time Take to Respond','mean'),MTTR=('Time Take to Resolve','mean'),TTR=('Time Take to Resolve','sum'))"
   ]
  },
  {
   "cell_type": "code",
   "execution_count": 74,
   "id": "5d2fc718",
   "metadata": {},
   "outputs": [
    {
     "data": {
      "text/plain": [
       "0       No\n",
       "1      Yes\n",
       "2      Yes\n",
       "3       No\n",
       "4       No\n",
       "      ... \n",
       "196     No\n",
       "197     No\n",
       "198     No\n",
       "199     No\n",
       "200     No\n",
       "Name: ETS, Length: 201, dtype: object"
      ]
     },
     "execution_count": 74,
     "metadata": {},
     "output_type": "execute_result"
    }
   ],
   "source": [
    "df_map3['ETS']"
   ]
  },
  {
   "cell_type": "code",
   "execution_count": null,
   "id": "8540f7e9",
   "metadata": {},
   "outputs": [],
   "source": []
  },
  {
   "cell_type": "code",
   "execution_count": null,
   "id": "1654514d",
   "metadata": {},
   "outputs": [],
   "source": []
  }
 ],
 "metadata": {
  "kernelspec": {
   "display_name": "Python 3 (ipykernel)",
   "language": "python",
   "name": "python3"
  },
  "language_info": {
   "codemirror_mode": {
    "name": "ipython",
    "version": 3
   },
   "file_extension": ".py",
   "mimetype": "text/x-python",
   "name": "python",
   "nbconvert_exporter": "python",
   "pygments_lexer": "ipython3",
   "version": "3.10.0"
  }
 },
 "nbformat": 4,
 "nbformat_minor": 5
}
