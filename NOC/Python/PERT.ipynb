{
 "cells": [
  {
   "cell_type": "code",
   "execution_count": 1,
   "id": "3c6efb98",
   "metadata": {},
   "outputs": [],
   "source": [
    "import pandas as pd"
   ]
  },
  {
   "cell_type": "markdown",
   "id": "7369e0ff",
   "metadata": {},
   "source": [
    "### Ingest the Shift Roster as CSV"
   ]
  },
  {
   "cell_type": "code",
   "execution_count": 2,
   "id": "61e17ce0",
   "metadata": {},
   "outputs": [],
   "source": [
    "df = pd.read_csv(\"July_2023_v4_PERT.csv\")"
   ]
  },
  {
   "cell_type": "markdown",
   "id": "a684e12f",
   "metadata": {},
   "source": [
    "### Dropping Un-Named Columns to only keep necessary columns"
   ]
  },
  {
   "cell_type": "code",
   "execution_count": 3,
   "id": "fb8229de",
   "metadata": {},
   "outputs": [],
   "source": [
    "df.drop(df.columns[df.columns.str.contains('unnamed',case = False)],axis = 1, inplace = True)"
   ]
  },
  {
   "cell_type": "markdown",
   "id": "35469df9",
   "metadata": {},
   "source": [
    "### Dropping Name Column from the roster table and date column"
   ]
  },
  {
   "cell_type": "code",
   "execution_count": 4,
   "id": "db2f8426",
   "metadata": {},
   "outputs": [],
   "source": [
    "df.columns = df.iloc[0]\n",
    "df.drop(index=df.index[0], axis=0, inplace=True)"
   ]
  },
  {
   "cell_type": "markdown",
   "id": "69cda5e3",
   "metadata": {},
   "source": [
    "### Enter total number of people in Shift Roster"
   ]
  },
  {
   "cell_type": "code",
   "execution_count": 5,
   "id": "915acf4e",
   "metadata": {},
   "outputs": [
    {
     "name": "stdout",
     "output_type": "stream",
     "text": [
      "Enter Team Count :10\n"
     ]
    }
   ],
   "source": [
    "Team_Count = int(input(\"Enter Team Count :\"))"
   ]
  },
  {
   "cell_type": "markdown",
   "id": "c73d9360",
   "metadata": {},
   "source": [
    "### Keepling only necessary Rows"
   ]
  },
  {
   "cell_type": "code",
   "execution_count": 6,
   "id": "37cc3a47",
   "metadata": {},
   "outputs": [],
   "source": [
    "df = df.iloc[:(Team_Count)]"
   ]
  },
  {
   "cell_type": "code",
   "execution_count": 7,
   "id": "06081acf",
   "metadata": {},
   "outputs": [],
   "source": [
    "df2 = df.iloc[: , 1:]"
   ]
  },
  {
   "cell_type": "markdown",
   "id": "c81c1ed5",
   "metadata": {},
   "source": [
    "### Converting the whold table to single string"
   ]
  },
  {
   "cell_type": "code",
   "execution_count": 8,
   "id": "f4d38370",
   "metadata": {},
   "outputs": [],
   "source": [
    "df3=df2.apply(lambda row:' '.join(map(str,row)),axis=1).str.cat(sep=' ')"
   ]
  },
  {
   "cell_type": "markdown",
   "id": "59e29113",
   "metadata": {},
   "source": [
    "### Calculating the total number of available shifts"
   ]
  },
  {
   "cell_type": "code",
   "execution_count": 9,
   "id": "c785bc96",
   "metadata": {},
   "outputs": [],
   "source": [
    "Total_Shifts=int(df3.count('F')+df3.count('S')+df3.count('T')+df3.count('L')+df3.count('O')+df3.count('H')+df3.count('SD'))"
   ]
  },
  {
   "cell_type": "markdown",
   "id": "20ea3c28",
   "metadata": {},
   "source": [
    "### Taking the count of all values"
   ]
  },
  {
   "cell_type": "code",
   "execution_count": 10,
   "id": "0a188919",
   "metadata": {},
   "outputs": [],
   "source": [
    "Total_Offs=int(df3.count('O'))\n",
    "Total_Leaves=int(df3.count('L'))\n",
    "Total_Holidays=int(df3.count('H'))\n",
    "Total_Special_Day=int(df3.count('SD'))"
   ]
  },
  {
   "cell_type": "code",
   "execution_count": 11,
   "id": "ab978f18",
   "metadata": {},
   "outputs": [
    {
     "name": "stdout",
     "output_type": "stream",
     "text": [
      "Total_Shifts: 310\n",
      "Total_Offs:103\n",
      "Total_Leaves:8\n",
      "Total_Holidays:0\n",
      "Total_Special_Day:0\n"
     ]
    }
   ],
   "source": [
    "print(f\"Total_Shifts: {Total_Shifts}\")\n",
    "print(f\"Total_Offs:{Total_Offs}\")\n",
    "print(f\"Total_Leaves:{Total_Leaves}\")\n",
    "print(f\"Total_Holidays:{Total_Holidays}\")\n",
    "print(f\"Total_Special_Day:{Total_Special_Day}\")"
   ]
  },
  {
   "cell_type": "markdown",
   "id": "327ed731",
   "metadata": {},
   "source": [
    "### Calculating the PERT Values"
   ]
  },
  {
   "cell_type": "code",
   "execution_count": 12,
   "id": "4a0ca82a",
   "metadata": {},
   "outputs": [],
   "source": [
    "Total_Promised_Days=Total_Shifts-Total_Offs-Total_Holidays\n",
    "Total_Promised_Hours=Total_Promised_Days * 8.5\n",
    "Actual_Hours=(Total_Promised_Days-Total_Leaves-Total_Special_Day)*8.5"
   ]
  },
  {
   "cell_type": "code",
   "execution_count": 13,
   "id": "caed328b",
   "metadata": {},
   "outputs": [
    {
     "name": "stdout",
     "output_type": "stream",
     "text": [
      "Total_Promised_Days: 207\n",
      "Total_Promised_Hours:1759.5\n",
      "Actual_Hours:1691.5\n"
     ]
    }
   ],
   "source": [
    "print(f\"Total_Promised_Days: {Total_Promised_Days}\")\n",
    "print(f\"Total_Promised_Hours:{Total_Promised_Hours}\")\n",
    "print(f\"Actual_Hours:{Actual_Hours}\")"
   ]
  }
 ],
 "metadata": {
  "kernelspec": {
   "display_name": "Python 3 (ipykernel)",
   "language": "python",
   "name": "python3"
  },
  "language_info": {
   "codemirror_mode": {
    "name": "ipython",
    "version": 3
   },
   "file_extension": ".py",
   "mimetype": "text/x-python",
   "name": "python",
   "nbconvert_exporter": "python",
   "pygments_lexer": "ipython3",
   "version": "3.11.3"
  }
 },
 "nbformat": 4,
 "nbformat_minor": 5
}
